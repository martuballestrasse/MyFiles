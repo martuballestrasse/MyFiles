{
  "nbformat": 4,
  "nbformat_minor": 0,
  "metadata": {
    "colab": {
      "provenance": [],
      "include_colab_link": true
    },
    "kernelspec": {
      "name": "python3",
      "display_name": "Python 3"
    },
    "language_info": {
      "name": "python"
    }
  },
  "cells": [
    {
      "cell_type": "markdown",
      "metadata": {
        "id": "view-in-github",
        "colab_type": "text"
      },
      "source": [
        "<a href=\"https://colab.research.google.com/github/martuballestrasse/MyFiles/blob/main/Bycoder_Unidad_03.ipynb\" target=\"_parent\"><img src=\"https://colab.research.google.com/assets/colab-badge.svg\" alt=\"Open In Colab\"/></a>"
      ]
    },
    {
      "cell_type": "markdown",
      "source": [
        "# Manipulacion de series y dataframes (Ejemplo en vivo)"
      ],
      "metadata": {
        "id": "DZAYHjI6ZeEL"
      }
    },
    {
      "cell_type": "code",
      "source": [
        "# Series de ejemplo\n",
        "import pandas as pd\n",
        "\n",
        "Numeros = range(50,70,2)\n",
        "Numeros_Serie = pd.Series(Numeros)\n",
        "print(Numeros_Serie)"
      ],
      "metadata": {
        "colab": {
          "base_uri": "https://localhost:8080/"
        },
        "id": "CHDve12AwS01",
        "outputId": "672b1799-277b-4933-ed18-62f2ea8752be"
      },
      "execution_count": null,
      "outputs": [
        {
          "output_type": "stream",
          "name": "stdout",
          "text": [
            "0    50\n",
            "1    52\n",
            "2    54\n",
            "3    56\n",
            "4    58\n",
            "5    60\n",
            "6    62\n",
            "7    64\n",
            "8    66\n",
            "9    68\n",
            "dtype: int64\n"
          ]
        }
      ]
    },
    {
      "cell_type": "code",
      "source": [
        "Numeros_texto= ['primero','segundo','tercero','cuarto','quinto','sexto','septimo','octavo','noveno','decimo']\n",
        "Numero_Series_2 = pd.Series(Numeros,index=Numeros_texto)\n",
        "print(Numero_Series_2)"
      ],
      "metadata": {
        "colab": {
          "base_uri": "https://localhost:8080/"
        },
        "id": "6SjQz6SGxarm",
        "outputId": "e0204a99-51d7-4700-81d6-48c3fa50dd59"
      },
      "execution_count": null,
      "outputs": [
        {
          "output_type": "stream",
          "name": "stdout",
          "text": [
            "primero    50\n",
            "segundo    52\n",
            "tercero    54\n",
            "cuarto     56\n",
            "quinto     58\n",
            "sexto      60\n",
            "septimo    62\n",
            "octavo     64\n",
            "noveno     66\n",
            "decimo     68\n",
            "dtype: int64\n"
          ]
        }
      ]
    },
    {
      "cell_type": "code",
      "source": [
        "Numeros_3 = range(51,70,2)\n",
        "Numeros_Series_3 = pd.Series(Numeros_3, index=Numeros_texto)\n",
        "Numeros_Series_3"
      ],
      "metadata": {
        "colab": {
          "base_uri": "https://localhost:8080/"
        },
        "id": "rKdXT3fhym3d",
        "outputId": "b6529a39-b894-4c3b-cf36-793621c61169"
      },
      "execution_count": null,
      "outputs": [
        {
          "output_type": "execute_result",
          "data": {
            "text/plain": [
              "primero    51\n",
              "segundo    53\n",
              "tercero    55\n",
              "cuarto     57\n",
              "quinto     59\n",
              "sexto      61\n",
              "septimo    63\n",
              "octavo     65\n",
              "noveno     67\n",
              "decimo     69\n",
              "dtype: int64"
            ]
          },
          "metadata": {},
          "execution_count": 6
        }
      ]
    },
    {
      "cell_type": "code",
      "source": [
        "Numero_Series_2_porcion = Numero_Series_2[4:7]\n",
        "Numero_Series_3_porcion = Numeros_Series_3[5:8]"
      ],
      "metadata": {
        "id": "Q6k_O-n22rzt"
      },
      "execution_count": null,
      "outputs": []
    },
    {
      "cell_type": "code",
      "source": [
        "print(Numero_Series_2_porcion + Numero_Series_3_porcion)"
      ],
      "metadata": {
        "colab": {
          "base_uri": "https://localhost:8080/"
        },
        "id": "6w6Ycxsk2-6j",
        "outputId": "3c214ab8-4573-47c1-db07-f827422158b5"
      },
      "execution_count": null,
      "outputs": [
        {
          "output_type": "stream",
          "name": "stdout",
          "text": [
            "octavo       NaN\n",
            "quinto       NaN\n",
            "septimo    125.0\n",
            "sexto      121.0\n",
            "dtype: float64\n"
          ]
        }
      ]
    },
    {
      "cell_type": "code",
      "source": [
        "Numero_Series_2_porcion.add(Numero_Series_3_porcion,fill_value=0)"
      ],
      "metadata": {
        "colab": {
          "base_uri": "https://localhost:8080/"
        },
        "id": "v_JjzIch3GEb",
        "outputId": "9f327426-df21-4ec3-f3cb-bfea7b6e3393"
      },
      "execution_count": null,
      "outputs": [
        {
          "output_type": "execute_result",
          "data": {
            "text/plain": [
              "octavo      65.0\n",
              "quinto      58.0\n",
              "septimo    125.0\n",
              "sexto      121.0\n",
              "dtype: float64"
            ]
          },
          "metadata": {},
          "execution_count": 9
        }
      ]
    },
    {
      "cell_type": "code",
      "source": [
        "# Vamos a crear una estructura de serie\n",
        "import pandas as pd\n",
        "\n",
        "serie= pd.Series(data=[1,2,3,4],index=['David','Juan',1,2],name='SerieX')\n",
        "serie"
      ],
      "metadata": {
        "id": "muZ-KWpxZhsT",
        "colab": {
          "base_uri": "https://localhost:8080/"
        },
        "outputId": "ffdef7f5-802e-4651-ad3d-eebbb7919a63"
      },
      "execution_count": null,
      "outputs": [
        {
          "output_type": "execute_result",
          "data": {
            "text/plain": [
              "David    1\n",
              "Juan     2\n",
              "1        3\n",
              "2        4\n",
              "Name: SerieX, dtype: int64"
            ]
          },
          "metadata": {},
          "execution_count": 33
        }
      ]
    },
    {
      "cell_type": "code",
      "source": [
        "# Algunas propiedades de la serie\n",
        "print('Indice de la serie:',serie.index)\n",
        "print('Valores de la serie:',serie.values)\n",
        "print('Longitud de serie:',serie.count())\n",
        "# Verificar nulos en la serie\n",
        "serie.isna()"
      ],
      "metadata": {
        "colab": {
          "base_uri": "https://localhost:8080/"
        },
        "id": "x-VwR4c4mfP9",
        "outputId": "10b5dbaf-a23e-4f55-daf9-56924a4c0950"
      },
      "execution_count": null,
      "outputs": [
        {
          "output_type": "stream",
          "name": "stdout",
          "text": [
            "Indice de la serie: Index(['David', 'Juan', 1, 2], dtype='object')\n",
            "Valores de la serie: [1 2 3 4]\n",
            "Longitud de serie: 4\n"
          ]
        },
        {
          "output_type": "execute_result",
          "data": {
            "text/plain": [
              "David    False\n",
              "Juan     False\n",
              "1        False\n",
              "2        False\n",
              "Name: SerieX, dtype: bool"
            ]
          },
          "metadata": {},
          "execution_count": 34
        }
      ]
    },
    {
      "cell_type": "code",
      "source": [
        "# Filtrar un indice\n",
        "serie.loc['David']"
      ],
      "metadata": {
        "colab": {
          "base_uri": "https://localhost:8080/"
        },
        "id": "2Y6KLud9nXRH",
        "outputId": "95ed6a6d-5002-4f22-d132-73ee82536be9"
      },
      "execution_count": null,
      "outputs": [
        {
          "output_type": "execute_result",
          "data": {
            "text/plain": [
              "1"
            ]
          },
          "metadata": {},
          "execution_count": 35
        }
      ]
    },
    {
      "cell_type": "code",
      "source": [
        "# Filtrar pero de otra forma\n",
        "serie.iloc[0]"
      ],
      "metadata": {
        "colab": {
          "base_uri": "https://localhost:8080/"
        },
        "id": "H0qo33OynbaM",
        "outputId": "c9e0cb22-4825-424e-886f-94d279a8655f"
      },
      "execution_count": null,
      "outputs": [
        {
          "output_type": "execute_result",
          "data": {
            "text/plain": [
              "1"
            ]
          },
          "metadata": {},
          "execution_count": 36
        }
      ]
    },
    {
      "cell_type": "code",
      "source": [
        "# Filtrar varios indices\n",
        "serie.loc[['David',1]]"
      ],
      "metadata": {
        "colab": {
          "base_uri": "https://localhost:8080/"
        },
        "id": "zTsXcmK2ngO3",
        "outputId": "d0033125-3124-480e-af07-39dbd683a487"
      },
      "execution_count": null,
      "outputs": [
        {
          "output_type": "execute_result",
          "data": {
            "text/plain": [
              "David    1\n",
              "1        3\n",
              "Name: SerieX, dtype: int64"
            ]
          },
          "metadata": {},
          "execution_count": 37
        }
      ]
    },
    {
      "cell_type": "code",
      "source": [
        "import numpy as np\n",
        "\n",
        "serie_2 = pd.Series(data=[1,2,5,6,np.nan,20,np.nan])\n",
        "serie_2"
      ],
      "metadata": {
        "colab": {
          "base_uri": "https://localhost:8080/"
        },
        "id": "nMCii5Nen2u9",
        "outputId": "469f7332-08c6-40bc-f8e9-1776d46f5e90"
      },
      "execution_count": null,
      "outputs": [
        {
          "output_type": "execute_result",
          "data": {
            "text/plain": [
              "0     1.0\n",
              "1     2.0\n",
              "2     5.0\n",
              "3     6.0\n",
              "4     NaN\n",
              "5    20.0\n",
              "6     NaN\n",
              "dtype: float64"
            ]
          },
          "metadata": {},
          "execution_count": 38
        }
      ]
    },
    {
      "cell_type": "code",
      "source": [
        "# Suma de nulos\n",
        "serie_2.isnull().sum()"
      ],
      "metadata": {
        "colab": {
          "base_uri": "https://localhost:8080/"
        },
        "id": "pybnOTlEoNLP",
        "outputId": "ace3127b-643a-42f7-86d5-614f6371428b"
      },
      "execution_count": null,
      "outputs": [
        {
          "output_type": "execute_result",
          "data": {
            "text/plain": [
              "2"
            ]
          },
          "metadata": {},
          "execution_count": 39
        }
      ]
    },
    {
      "cell_type": "code",
      "source": [
        "# Conteo de valores no tiene en cuenta los NaN\n",
        "serie_2.value_counts()"
      ],
      "metadata": {
        "colab": {
          "base_uri": "https://localhost:8080/"
        },
        "id": "n8Om7dPIoVT-",
        "outputId": "72e72418-9457-4fce-acfb-6b160f4971d9"
      },
      "execution_count": null,
      "outputs": [
        {
          "output_type": "execute_result",
          "data": {
            "text/plain": [
              "1.0     1\n",
              "2.0     1\n",
              "5.0     1\n",
              "6.0     1\n",
              "20.0    1\n",
              "dtype: int64"
            ]
          },
          "metadata": {},
          "execution_count": 40
        }
      ]
    },
    {
      "cell_type": "code",
      "source": [
        "# Creemos un dataframe\n",
        "valores= [1000, 3500, 3000, 4000, 3000 , 2450]\n",
        "nombres= ['David','Juan','Pedro','Lucas','Andrea','Felipe']\n",
        "genero=['M','M','M','M','F','M']\n",
        "df= pd.DataFrame(data={'salarios':valores, 'genero':genero},index=nombres)\n",
        "df"
      ],
      "metadata": {
        "colab": {
          "base_uri": "https://localhost:8080/",
          "height": 237
        },
        "id": "VXzbE9vwovjP",
        "outputId": "f122d644-29ff-4a74-e16d-539e5d06104f"
      },
      "execution_count": null,
      "outputs": [
        {
          "output_type": "execute_result",
          "data": {
            "text/plain": [
              "        salarios genero\n",
              "David       1000      M\n",
              "Juan        3500      M\n",
              "Pedro       3000      M\n",
              "Lucas       4000      M\n",
              "Andrea      3000      F\n",
              "Felipe      2450      M"
            ],
            "text/html": [
              "\n",
              "  <div id=\"df-6013c1db-74e6-4ec9-a997-2faebb6ede46\">\n",
              "    <div class=\"colab-df-container\">\n",
              "      <div>\n",
              "<style scoped>\n",
              "    .dataframe tbody tr th:only-of-type {\n",
              "        vertical-align: middle;\n",
              "    }\n",
              "\n",
              "    .dataframe tbody tr th {\n",
              "        vertical-align: top;\n",
              "    }\n",
              "\n",
              "    .dataframe thead th {\n",
              "        text-align: right;\n",
              "    }\n",
              "</style>\n",
              "<table border=\"1\" class=\"dataframe\">\n",
              "  <thead>\n",
              "    <tr style=\"text-align: right;\">\n",
              "      <th></th>\n",
              "      <th>salarios</th>\n",
              "      <th>genero</th>\n",
              "    </tr>\n",
              "  </thead>\n",
              "  <tbody>\n",
              "    <tr>\n",
              "      <th>David</th>\n",
              "      <td>1000</td>\n",
              "      <td>M</td>\n",
              "    </tr>\n",
              "    <tr>\n",
              "      <th>Juan</th>\n",
              "      <td>3500</td>\n",
              "      <td>M</td>\n",
              "    </tr>\n",
              "    <tr>\n",
              "      <th>Pedro</th>\n",
              "      <td>3000</td>\n",
              "      <td>M</td>\n",
              "    </tr>\n",
              "    <tr>\n",
              "      <th>Lucas</th>\n",
              "      <td>4000</td>\n",
              "      <td>M</td>\n",
              "    </tr>\n",
              "    <tr>\n",
              "      <th>Andrea</th>\n",
              "      <td>3000</td>\n",
              "      <td>F</td>\n",
              "    </tr>\n",
              "    <tr>\n",
              "      <th>Felipe</th>\n",
              "      <td>2450</td>\n",
              "      <td>M</td>\n",
              "    </tr>\n",
              "  </tbody>\n",
              "</table>\n",
              "</div>\n",
              "      <button class=\"colab-df-convert\" onclick=\"convertToInteractive('df-6013c1db-74e6-4ec9-a997-2faebb6ede46')\"\n",
              "              title=\"Convert this dataframe to an interactive table.\"\n",
              "              style=\"display:none;\">\n",
              "        \n",
              "  <svg xmlns=\"http://www.w3.org/2000/svg\" height=\"24px\"viewBox=\"0 0 24 24\"\n",
              "       width=\"24px\">\n",
              "    <path d=\"M0 0h24v24H0V0z\" fill=\"none\"/>\n",
              "    <path d=\"M18.56 5.44l.94 2.06.94-2.06 2.06-.94-2.06-.94-.94-2.06-.94 2.06-2.06.94zm-11 1L8.5 8.5l.94-2.06 2.06-.94-2.06-.94L8.5 2.5l-.94 2.06-2.06.94zm10 10l.94 2.06.94-2.06 2.06-.94-2.06-.94-.94-2.06-.94 2.06-2.06.94z\"/><path d=\"M17.41 7.96l-1.37-1.37c-.4-.4-.92-.59-1.43-.59-.52 0-1.04.2-1.43.59L10.3 9.45l-7.72 7.72c-.78.78-.78 2.05 0 2.83L4 21.41c.39.39.9.59 1.41.59.51 0 1.02-.2 1.41-.59l7.78-7.78 2.81-2.81c.8-.78.8-2.07 0-2.86zM5.41 20L4 18.59l7.72-7.72 1.47 1.35L5.41 20z\"/>\n",
              "  </svg>\n",
              "      </button>\n",
              "      \n",
              "  <style>\n",
              "    .colab-df-container {\n",
              "      display:flex;\n",
              "      flex-wrap:wrap;\n",
              "      gap: 12px;\n",
              "    }\n",
              "\n",
              "    .colab-df-convert {\n",
              "      background-color: #E8F0FE;\n",
              "      border: none;\n",
              "      border-radius: 50%;\n",
              "      cursor: pointer;\n",
              "      display: none;\n",
              "      fill: #1967D2;\n",
              "      height: 32px;\n",
              "      padding: 0 0 0 0;\n",
              "      width: 32px;\n",
              "    }\n",
              "\n",
              "    .colab-df-convert:hover {\n",
              "      background-color: #E2EBFA;\n",
              "      box-shadow: 0px 1px 2px rgba(60, 64, 67, 0.3), 0px 1px 3px 1px rgba(60, 64, 67, 0.15);\n",
              "      fill: #174EA6;\n",
              "    }\n",
              "\n",
              "    [theme=dark] .colab-df-convert {\n",
              "      background-color: #3B4455;\n",
              "      fill: #D2E3FC;\n",
              "    }\n",
              "\n",
              "    [theme=dark] .colab-df-convert:hover {\n",
              "      background-color: #434B5C;\n",
              "      box-shadow: 0px 1px 3px 1px rgba(0, 0, 0, 0.15);\n",
              "      filter: drop-shadow(0px 1px 2px rgba(0, 0, 0, 0.3));\n",
              "      fill: #FFFFFF;\n",
              "    }\n",
              "  </style>\n",
              "\n",
              "      <script>\n",
              "        const buttonEl =\n",
              "          document.querySelector('#df-6013c1db-74e6-4ec9-a997-2faebb6ede46 button.colab-df-convert');\n",
              "        buttonEl.style.display =\n",
              "          google.colab.kernel.accessAllowed ? 'block' : 'none';\n",
              "\n",
              "        async function convertToInteractive(key) {\n",
              "          const element = document.querySelector('#df-6013c1db-74e6-4ec9-a997-2faebb6ede46');\n",
              "          const dataTable =\n",
              "            await google.colab.kernel.invokeFunction('convertToInteractive',\n",
              "                                                     [key], {});\n",
              "          if (!dataTable) return;\n",
              "\n",
              "          const docLinkHtml = 'Like what you see? Visit the ' +\n",
              "            '<a target=\"_blank\" href=https://colab.research.google.com/notebooks/data_table.ipynb>data table notebook</a>'\n",
              "            + ' to learn more about interactive tables.';\n",
              "          element.innerHTML = '';\n",
              "          dataTable['output_type'] = 'display_data';\n",
              "          await google.colab.output.renderOutput(dataTable, element);\n",
              "          const docLink = document.createElement('div');\n",
              "          docLink.innerHTML = docLinkHtml;\n",
              "          element.appendChild(docLink);\n",
              "        }\n",
              "      </script>\n",
              "    </div>\n",
              "  </div>\n",
              "  "
            ]
          },
          "metadata": {},
          "execution_count": 41
        }
      ]
    },
    {
      "cell_type": "code",
      "source": [
        "# filtremos por genero\n",
        "df_m = df[df['genero']=='M']\n",
        "print(df_m.head())\n",
        "print('------')\n",
        "df_f=df[df['genero']=='F']\n",
        "print(df_f.head())"
      ],
      "metadata": {
        "colab": {
          "base_uri": "https://localhost:8080/"
        },
        "id": "qsaA9EVopWCt",
        "outputId": "8818082f-79e7-43fb-94d4-9f4b32be22b2"
      },
      "execution_count": null,
      "outputs": [
        {
          "output_type": "stream",
          "name": "stdout",
          "text": [
            "        salarios genero\n",
            "David       1000      M\n",
            "Juan        3500      M\n",
            "Pedro       3000      M\n",
            "Lucas       4000      M\n",
            "Felipe      2450      M\n",
            "------\n",
            "        salarios genero\n",
            "Andrea      3000      F\n"
          ]
        }
      ]
    },
    {
      "cell_type": "code",
      "source": [
        "# Otra forma\n",
        "condicion_h = df['genero']=='M'\n",
        "condicion_m = df['genero']=='F'\n",
        "print(df[condicion_h])\n",
        "print('-------------')\n",
        "print(df[condicion_m])"
      ],
      "metadata": {
        "colab": {
          "base_uri": "https://localhost:8080/"
        },
        "id": "Pv2Nwu0BqgZ0",
        "outputId": "00a562c5-2468-46cc-e062-82a7a989c586"
      },
      "execution_count": null,
      "outputs": [
        {
          "output_type": "stream",
          "name": "stdout",
          "text": [
            "        salarios genero\n",
            "David       1000      M\n",
            "Juan        3500      M\n",
            "Pedro       3000      M\n",
            "Lucas       4000      M\n",
            "Felipe      2450      M\n",
            "-------------\n",
            "        salarios genero\n",
            "Andrea      3000      F\n"
          ]
        }
      ]
    },
    {
      "cell_type": "code",
      "source": [
        "# Algunas cosas adicionales\n",
        "df.loc['David'][['salarios','genero']]"
      ],
      "metadata": {
        "colab": {
          "base_uri": "https://localhost:8080/"
        },
        "id": "s_KCupa4ptGH",
        "outputId": "fe12c73c-35fe-4cea-b2fd-9b8b00ace189"
      },
      "execution_count": null,
      "outputs": [
        {
          "output_type": "execute_result",
          "data": {
            "text/plain": [
              "salarios    1000\n",
              "genero         M\n",
              "Name: David, dtype: object"
            ]
          },
          "metadata": {},
          "execution_count": 45
        }
      ]
    },
    {
      "cell_type": "code",
      "source": [
        "df.loc[['David','Juan']][['salarios','genero']]"
      ],
      "metadata": {
        "colab": {
          "base_uri": "https://localhost:8080/",
          "height": 112
        },
        "id": "6XxDVtzAqUZ4",
        "outputId": "e12f187f-4040-444a-addc-c47782aaddfc"
      },
      "execution_count": null,
      "outputs": [
        {
          "output_type": "execute_result",
          "data": {
            "text/plain": [
              "       salarios genero\n",
              "David      1000      M\n",
              "Juan       3500      M"
            ],
            "text/html": [
              "\n",
              "  <div id=\"df-2d958825-f571-4d88-a3a5-549d349394e3\">\n",
              "    <div class=\"colab-df-container\">\n",
              "      <div>\n",
              "<style scoped>\n",
              "    .dataframe tbody tr th:only-of-type {\n",
              "        vertical-align: middle;\n",
              "    }\n",
              "\n",
              "    .dataframe tbody tr th {\n",
              "        vertical-align: top;\n",
              "    }\n",
              "\n",
              "    .dataframe thead th {\n",
              "        text-align: right;\n",
              "    }\n",
              "</style>\n",
              "<table border=\"1\" class=\"dataframe\">\n",
              "  <thead>\n",
              "    <tr style=\"text-align: right;\">\n",
              "      <th></th>\n",
              "      <th>salarios</th>\n",
              "      <th>genero</th>\n",
              "    </tr>\n",
              "  </thead>\n",
              "  <tbody>\n",
              "    <tr>\n",
              "      <th>David</th>\n",
              "      <td>1000</td>\n",
              "      <td>M</td>\n",
              "    </tr>\n",
              "    <tr>\n",
              "      <th>Juan</th>\n",
              "      <td>3500</td>\n",
              "      <td>M</td>\n",
              "    </tr>\n",
              "  </tbody>\n",
              "</table>\n",
              "</div>\n",
              "      <button class=\"colab-df-convert\" onclick=\"convertToInteractive('df-2d958825-f571-4d88-a3a5-549d349394e3')\"\n",
              "              title=\"Convert this dataframe to an interactive table.\"\n",
              "              style=\"display:none;\">\n",
              "        \n",
              "  <svg xmlns=\"http://www.w3.org/2000/svg\" height=\"24px\"viewBox=\"0 0 24 24\"\n",
              "       width=\"24px\">\n",
              "    <path d=\"M0 0h24v24H0V0z\" fill=\"none\"/>\n",
              "    <path d=\"M18.56 5.44l.94 2.06.94-2.06 2.06-.94-2.06-.94-.94-2.06-.94 2.06-2.06.94zm-11 1L8.5 8.5l.94-2.06 2.06-.94-2.06-.94L8.5 2.5l-.94 2.06-2.06.94zm10 10l.94 2.06.94-2.06 2.06-.94-2.06-.94-.94-2.06-.94 2.06-2.06.94z\"/><path d=\"M17.41 7.96l-1.37-1.37c-.4-.4-.92-.59-1.43-.59-.52 0-1.04.2-1.43.59L10.3 9.45l-7.72 7.72c-.78.78-.78 2.05 0 2.83L4 21.41c.39.39.9.59 1.41.59.51 0 1.02-.2 1.41-.59l7.78-7.78 2.81-2.81c.8-.78.8-2.07 0-2.86zM5.41 20L4 18.59l7.72-7.72 1.47 1.35L5.41 20z\"/>\n",
              "  </svg>\n",
              "      </button>\n",
              "      \n",
              "  <style>\n",
              "    .colab-df-container {\n",
              "      display:flex;\n",
              "      flex-wrap:wrap;\n",
              "      gap: 12px;\n",
              "    }\n",
              "\n",
              "    .colab-df-convert {\n",
              "      background-color: #E8F0FE;\n",
              "      border: none;\n",
              "      border-radius: 50%;\n",
              "      cursor: pointer;\n",
              "      display: none;\n",
              "      fill: #1967D2;\n",
              "      height: 32px;\n",
              "      padding: 0 0 0 0;\n",
              "      width: 32px;\n",
              "    }\n",
              "\n",
              "    .colab-df-convert:hover {\n",
              "      background-color: #E2EBFA;\n",
              "      box-shadow: 0px 1px 2px rgba(60, 64, 67, 0.3), 0px 1px 3px 1px rgba(60, 64, 67, 0.15);\n",
              "      fill: #174EA6;\n",
              "    }\n",
              "\n",
              "    [theme=dark] .colab-df-convert {\n",
              "      background-color: #3B4455;\n",
              "      fill: #D2E3FC;\n",
              "    }\n",
              "\n",
              "    [theme=dark] .colab-df-convert:hover {\n",
              "      background-color: #434B5C;\n",
              "      box-shadow: 0px 1px 3px 1px rgba(0, 0, 0, 0.15);\n",
              "      filter: drop-shadow(0px 1px 2px rgba(0, 0, 0, 0.3));\n",
              "      fill: #FFFFFF;\n",
              "    }\n",
              "  </style>\n",
              "\n",
              "      <script>\n",
              "        const buttonEl =\n",
              "          document.querySelector('#df-2d958825-f571-4d88-a3a5-549d349394e3 button.colab-df-convert');\n",
              "        buttonEl.style.display =\n",
              "          google.colab.kernel.accessAllowed ? 'block' : 'none';\n",
              "\n",
              "        async function convertToInteractive(key) {\n",
              "          const element = document.querySelector('#df-2d958825-f571-4d88-a3a5-549d349394e3');\n",
              "          const dataTable =\n",
              "            await google.colab.kernel.invokeFunction('convertToInteractive',\n",
              "                                                     [key], {});\n",
              "          if (!dataTable) return;\n",
              "\n",
              "          const docLinkHtml = 'Like what you see? Visit the ' +\n",
              "            '<a target=\"_blank\" href=https://colab.research.google.com/notebooks/data_table.ipynb>data table notebook</a>'\n",
              "            + ' to learn more about interactive tables.';\n",
              "          element.innerHTML = '';\n",
              "          dataTable['output_type'] = 'display_data';\n",
              "          await google.colab.output.renderOutput(dataTable, element);\n",
              "          const docLink = document.createElement('div');\n",
              "          docLink.innerHTML = docLinkHtml;\n",
              "          element.appendChild(docLink);\n",
              "        }\n",
              "      </script>\n",
              "    </div>\n",
              "  </div>\n",
              "  "
            ]
          },
          "metadata": {},
          "execution_count": 46
        }
      ]
    },
    {
      "cell_type": "markdown",
      "source": [
        "# Lectura de csv / txt"
      ],
      "metadata": {
        "id": "WUA7-zARStyN"
      }
    },
    {
      "cell_type": "code",
      "source": [
        "from google.colab import drive\n",
        "import os\n",
        "drive.mount('/content/gdrive')"
      ],
      "metadata": {
        "id": "1X1zRCSjVh_M"
      },
      "execution_count": null,
      "outputs": []
    },
    {
      "cell_type": "code",
      "source": [
        "#%cd '/content/gdrive/MyDrive'\n",
        "df= pd.read_csv('/content/winequality-red.csv',sep=',')\n",
        "print(df[['density','pH','sulphates','alcohol','quality']].head())"
      ],
      "metadata": {
        "colab": {
          "base_uri": "https://localhost:8080/"
        },
        "id": "sbNsOIcAXLSC",
        "outputId": "b3eef9a2-cc62-432f-a476-94c00471510c"
      },
      "execution_count": null,
      "outputs": [
        {
          "output_type": "stream",
          "name": "stdout",
          "text": [
            "   density    pH  sulphates  alcohol  quality\n",
            "0   0.9978  3.51       0.56      9.4        5\n",
            "1   0.9968  3.20       0.68      9.8        5\n",
            "2   0.9970  3.26       0.65      9.8        5\n",
            "3   0.9980  3.16       0.58      9.8        6\n",
            "4   0.9978  3.51       0.56      9.4        5\n"
          ]
        }
      ]
    },
    {
      "cell_type": "code",
      "source": [
        "#%cd '/content/gdrive/MyDrive'\n",
        "df= pd.read_csv('/content/pokemon_data.txt',delimiter='\\t')\n",
        "print(df[['Name','Type 1','HP','Attack','Defense']].head())"
      ],
      "metadata": {
        "colab": {
          "base_uri": "https://localhost:8080/"
        },
        "id": "EewYtQM3XzPL",
        "outputId": "101ee8a9-3935-4632-9f3f-cbac16b768a1"
      },
      "execution_count": null,
      "outputs": [
        {
          "output_type": "stream",
          "name": "stdout",
          "text": [
            "                    Name Type 1  HP  Attack  Defense\n",
            "0              Bulbasaur  Grass  45      49       49\n",
            "1                Ivysaur  Grass  60      62       63\n",
            "2               Venusaur  Grass  80      82       83\n",
            "3  VenusaurMega Venusaur  Grass  80     100      123\n",
            "4             Charmander   Fire  39      52       43\n"
          ]
        }
      ]
    },
    {
      "cell_type": "markdown",
      "source": [
        "# Lectura de xlsx"
      ],
      "metadata": {
        "id": "mP1vJAa-S0rV"
      }
    },
    {
      "cell_type": "code",
      "source": [
        "#%cd '/content/gdrive/MyDrive'\n",
        "df= pd.read_excel('/content/defaultoutput.xlsx')\n",
        "print(df[['index','ID','Year_Birth','Education','Income']].head())\n"
      ],
      "metadata": {
        "colab": {
          "base_uri": "https://localhost:8080/"
        },
        "id": "J_zpcwnaS0nQ",
        "outputId": "275f2845-2b05-44ed-ed34-5436466dcff5"
      },
      "execution_count": null,
      "outputs": [
        {
          "output_type": "stream",
          "name": "stdout",
          "text": [
            "   index    ID  Year_Birth   Education   Income\n",
            "0      0  5524        1957  Graduation  58138.0\n",
            "1      1  2174        1954  Graduation  46344.0\n",
            "2      2  4141        1965  Graduation  71613.0\n",
            "3      3  6182        1984  Graduation  26646.0\n",
            "4      4  5324        1981         PhD  58293.0\n"
          ]
        }
      ]
    },
    {
      "cell_type": "markdown",
      "source": [
        "# Lectura desde Github /Apis"
      ],
      "metadata": {
        "id": "R8WGdo9RS2I0"
      }
    },
    {
      "cell_type": "code",
      "source": [
        "import pandas as pd\n",
        "\n",
        "url = 'https://raw.githubusercontent.com/JJTorresDS/stocks-ds-edu/main/stocks.csv'\n",
        "df = pd.read_csv(url, index_col=0)\n",
        "print(df[['AMZN','MCD','SBUX','GOOG','MSFT']].head().round(1))"
      ],
      "metadata": {
        "colab": {
          "base_uri": "https://localhost:8080/"
        },
        "id": "1dpyS-ywTWyw",
        "outputId": "f9c682b1-dfac-4795-bfeb-1b7ab394a977"
      },
      "execution_count": null,
      "outputs": [
        {
          "output_type": "stream",
          "name": "stdout",
          "text": [
            "                 AMZN    MCD  SBUX   GOOG  MSFT\n",
            "formatted_date                                 \n",
            "2016-01-01      587.0  106.3  54.4  743.0  49.9\n",
            "2016-02-01      552.5  100.7  52.1  697.8  46.0\n",
            "2016-03-01      593.6  108.8  53.6  745.0  50.3\n",
            "2016-04-01      659.6  109.5  50.5  693.0  45.5\n",
            "2016-05-01      722.8  105.6  49.3  735.7  48.3\n"
          ]
        }
      ]
    },
    {
      "cell_type": "code",
      "source": [
        "!wget -O cars_clus.csv https://s3-api.us-geo.objectstorage.softlayer.net/cf-courses-data/CognitiveClass/ML0101ENv3/labs/cars_clus.csv"
      ],
      "metadata": {
        "colab": {
          "base_uri": "https://localhost:8080/"
        },
        "id": "lIO9hU5LUK0O",
        "outputId": "1f9f4e37-2927-48c8-ae13-6ee7a6236e8d"
      },
      "execution_count": null,
      "outputs": [
        {
          "output_type": "stream",
          "name": "stdout",
          "text": [
            "--2022-08-25 22:17:26--  https://s3-api.us-geo.objectstorage.softlayer.net/cf-courses-data/CognitiveClass/ML0101ENv3/labs/cars_clus.csv\n",
            "Resolving s3-api.us-geo.objectstorage.softlayer.net (s3-api.us-geo.objectstorage.softlayer.net)... 67.228.254.196\n",
            "Connecting to s3-api.us-geo.objectstorage.softlayer.net (s3-api.us-geo.objectstorage.softlayer.net)|67.228.254.196|:443... connected.\n",
            "HTTP request sent, awaiting response... 200 OK\n",
            "Length: 17774 (17K) [text/csv]\n",
            "Saving to: ‘cars_clus.csv’\n",
            "\n",
            "\rcars_clus.csv         0%[                    ]       0  --.-KB/s               \rcars_clus.csv       100%[===================>]  17.36K  --.-KB/s    in 0s      \n",
            "\n",
            "2022-08-25 22:17:26 (189 MB/s) - ‘cars_clus.csv’ saved [17774/17774]\n",
            "\n"
          ]
        }
      ]
    },
    {
      "cell_type": "code",
      "source": [
        "filename = 'cars_clus.csv'\n",
        "#Lectura\n",
        "pdf = pd.read_csv(filename)\n",
        "print (\"Shape: \", pdf.shape)\n",
        "print(pdf[['manufact','model','sales','resale']].head(5))"
      ],
      "metadata": {
        "colab": {
          "base_uri": "https://localhost:8080/"
        },
        "id": "opv3prIlUL2B",
        "outputId": "09df3e80-240d-4e4f-eabb-dade5513cc29"
      },
      "execution_count": null,
      "outputs": [
        {
          "output_type": "stream",
          "name": "stdout",
          "text": [
            "Shape:  (159, 16)\n",
            "  manufact    model   sales  resale\n",
            "0    Acura  Integra  16.919  16.360\n",
            "1    Acura       TL  39.384  19.875\n",
            "2    Acura       CL  14.114  18.225\n",
            "3    Acura       RL   8.588  29.725\n",
            "4     Audi       A4  20.397  22.255\n"
          ]
        }
      ]
    },
    {
      "cell_type": "markdown",
      "source": [
        "# Lectura de informacion\n",
        "\n",
        "Los datos se encuentran en la siguiente link:\n",
        "[Data Acciones](https://raw.githubusercontent.com/JJTorresDS/stocks-ds-edu/main/stocks.csv)\n",
        "\n"
      ],
      "metadata": {
        "id": "Ofv1tHEg7dVT"
      }
    },
    {
      "cell_type": "code",
      "source": [
        "import pandas as pd\n",
        "\n",
        "url = 'https://raw.githubusercontent.com/JJTorresDS/stocks-ds-edu/main/stocks.csv'\n",
        "df = pd.read_csv(url, index_col=0)\n",
        "print(df.head(5))"
      ],
      "metadata": {
        "colab": {
          "base_uri": "https://localhost:8080/"
        },
        "id": "UBQeIbm17wPf",
        "outputId": "e7927d68-3303-4a9c-faf0-f2b599ee6449"
      },
      "execution_count": null,
      "outputs": [
        {
          "output_type": "stream",
          "name": "stdout",
          "text": [
            "                       MCD       SBUX        GOOG        AMZN       MSFT  \\\n",
            "formatted_date                                                             \n",
            "2016-01-01      106.332146  54.353962  742.950012  587.000000  49.853489   \n",
            "2016-02-01      100.671043  52.064243  697.770020  552.520020  46.043667   \n",
            "2016-03-01      108.782211  53.571442  744.950012  593.640015  50.339031   \n",
            "2016-04-01      109.483307  50.457645  693.010010  659.590027  45.453705   \n",
            "2016-05-01      105.648926  49.255203  735.719971  722.789978  48.306515   \n",
            "\n",
            "                      JPM        BAC          C        MAR        HLT  \\\n",
            "formatted_date                                                          \n",
            "2016-01-01      50.424938  12.573010  36.897804  57.754189  35.192841   \n",
            "2016-02-01      48.033066  11.132540  33.707108  64.228912  41.061607   \n",
            "2016-03-01      50.524323  12.021718  36.223217  67.336624  44.499886   \n",
            "2016-04-01      53.919910  12.995729  40.153545  66.305466  43.716049   \n",
            "2016-05-01      56.098225  13.201019  40.447887  62.474155  41.198154   \n",
            "\n",
            "                      RCL          V         MA       PYPL  \n",
            "formatted_date                                              \n",
            "2016-01-01      74.235298  71.574371  85.822624  36.139999  \n",
            "2016-02-01      67.360649  69.556580  83.956566  38.139999  \n",
            "2016-03-01      74.790009  73.631477  91.278160  38.599998  \n",
            "2016-04-01      70.465584  74.363144  93.683258  39.180000  \n",
            "2016-05-01      70.456474  75.999847  92.817329  37.790001  \n"
          ]
        }
      ]
    },
    {
      "cell_type": "code",
      "source": [
        "df.head()"
      ],
      "metadata": {
        "colab": {
          "base_uri": "https://localhost:8080/",
          "height": 301
        },
        "id": "nwtJItv78FYY",
        "outputId": "7bb3eb32-c7b6-4464-f619-5ea6a8f201a8"
      },
      "execution_count": null,
      "outputs": [
        {
          "output_type": "execute_result",
          "data": {
            "text/plain": [
              "                       MCD       SBUX        GOOG        AMZN       MSFT  \\\n",
              "formatted_date                                                             \n",
              "2016-01-01      106.332146  54.353962  742.950012  587.000000  49.853489   \n",
              "2016-02-01      100.671043  52.064243  697.770020  552.520020  46.043667   \n",
              "2016-03-01      108.782211  53.571442  744.950012  593.640015  50.339031   \n",
              "2016-04-01      109.483307  50.457645  693.010010  659.590027  45.453705   \n",
              "2016-05-01      105.648926  49.255203  735.719971  722.789978  48.306515   \n",
              "\n",
              "                      JPM        BAC          C        MAR        HLT  \\\n",
              "formatted_date                                                          \n",
              "2016-01-01      50.424938  12.573010  36.897804  57.754189  35.192841   \n",
              "2016-02-01      48.033066  11.132540  33.707108  64.228912  41.061607   \n",
              "2016-03-01      50.524323  12.021718  36.223217  67.336624  44.499886   \n",
              "2016-04-01      53.919910  12.995729  40.153545  66.305466  43.716049   \n",
              "2016-05-01      56.098225  13.201019  40.447887  62.474155  41.198154   \n",
              "\n",
              "                      RCL          V         MA       PYPL  \n",
              "formatted_date                                              \n",
              "2016-01-01      74.235298  71.574371  85.822624  36.139999  \n",
              "2016-02-01      67.360649  69.556580  83.956566  38.139999  \n",
              "2016-03-01      74.790009  73.631477  91.278160  38.599998  \n",
              "2016-04-01      70.465584  74.363144  93.683258  39.180000  \n",
              "2016-05-01      70.456474  75.999847  92.817329  37.790001  "
            ],
            "text/html": [
              "\n",
              "  <div id=\"df-ee80f51f-c84d-46dd-9206-333578523ed6\">\n",
              "    <div class=\"colab-df-container\">\n",
              "      <div>\n",
              "<style scoped>\n",
              "    .dataframe tbody tr th:only-of-type {\n",
              "        vertical-align: middle;\n",
              "    }\n",
              "\n",
              "    .dataframe tbody tr th {\n",
              "        vertical-align: top;\n",
              "    }\n",
              "\n",
              "    .dataframe thead th {\n",
              "        text-align: right;\n",
              "    }\n",
              "</style>\n",
              "<table border=\"1\" class=\"dataframe\">\n",
              "  <thead>\n",
              "    <tr style=\"text-align: right;\">\n",
              "      <th></th>\n",
              "      <th>MCD</th>\n",
              "      <th>SBUX</th>\n",
              "      <th>GOOG</th>\n",
              "      <th>AMZN</th>\n",
              "      <th>MSFT</th>\n",
              "      <th>JPM</th>\n",
              "      <th>BAC</th>\n",
              "      <th>C</th>\n",
              "      <th>MAR</th>\n",
              "      <th>HLT</th>\n",
              "      <th>RCL</th>\n",
              "      <th>V</th>\n",
              "      <th>MA</th>\n",
              "      <th>PYPL</th>\n",
              "    </tr>\n",
              "    <tr>\n",
              "      <th>formatted_date</th>\n",
              "      <th></th>\n",
              "      <th></th>\n",
              "      <th></th>\n",
              "      <th></th>\n",
              "      <th></th>\n",
              "      <th></th>\n",
              "      <th></th>\n",
              "      <th></th>\n",
              "      <th></th>\n",
              "      <th></th>\n",
              "      <th></th>\n",
              "      <th></th>\n",
              "      <th></th>\n",
              "      <th></th>\n",
              "    </tr>\n",
              "  </thead>\n",
              "  <tbody>\n",
              "    <tr>\n",
              "      <th>2016-01-01</th>\n",
              "      <td>106.332146</td>\n",
              "      <td>54.353962</td>\n",
              "      <td>742.950012</td>\n",
              "      <td>587.000000</td>\n",
              "      <td>49.853489</td>\n",
              "      <td>50.424938</td>\n",
              "      <td>12.573010</td>\n",
              "      <td>36.897804</td>\n",
              "      <td>57.754189</td>\n",
              "      <td>35.192841</td>\n",
              "      <td>74.235298</td>\n",
              "      <td>71.574371</td>\n",
              "      <td>85.822624</td>\n",
              "      <td>36.139999</td>\n",
              "    </tr>\n",
              "    <tr>\n",
              "      <th>2016-02-01</th>\n",
              "      <td>100.671043</td>\n",
              "      <td>52.064243</td>\n",
              "      <td>697.770020</td>\n",
              "      <td>552.520020</td>\n",
              "      <td>46.043667</td>\n",
              "      <td>48.033066</td>\n",
              "      <td>11.132540</td>\n",
              "      <td>33.707108</td>\n",
              "      <td>64.228912</td>\n",
              "      <td>41.061607</td>\n",
              "      <td>67.360649</td>\n",
              "      <td>69.556580</td>\n",
              "      <td>83.956566</td>\n",
              "      <td>38.139999</td>\n",
              "    </tr>\n",
              "    <tr>\n",
              "      <th>2016-03-01</th>\n",
              "      <td>108.782211</td>\n",
              "      <td>53.571442</td>\n",
              "      <td>744.950012</td>\n",
              "      <td>593.640015</td>\n",
              "      <td>50.339031</td>\n",
              "      <td>50.524323</td>\n",
              "      <td>12.021718</td>\n",
              "      <td>36.223217</td>\n",
              "      <td>67.336624</td>\n",
              "      <td>44.499886</td>\n",
              "      <td>74.790009</td>\n",
              "      <td>73.631477</td>\n",
              "      <td>91.278160</td>\n",
              "      <td>38.599998</td>\n",
              "    </tr>\n",
              "    <tr>\n",
              "      <th>2016-04-01</th>\n",
              "      <td>109.483307</td>\n",
              "      <td>50.457645</td>\n",
              "      <td>693.010010</td>\n",
              "      <td>659.590027</td>\n",
              "      <td>45.453705</td>\n",
              "      <td>53.919910</td>\n",
              "      <td>12.995729</td>\n",
              "      <td>40.153545</td>\n",
              "      <td>66.305466</td>\n",
              "      <td>43.716049</td>\n",
              "      <td>70.465584</td>\n",
              "      <td>74.363144</td>\n",
              "      <td>93.683258</td>\n",
              "      <td>39.180000</td>\n",
              "    </tr>\n",
              "    <tr>\n",
              "      <th>2016-05-01</th>\n",
              "      <td>105.648926</td>\n",
              "      <td>49.255203</td>\n",
              "      <td>735.719971</td>\n",
              "      <td>722.789978</td>\n",
              "      <td>48.306515</td>\n",
              "      <td>56.098225</td>\n",
              "      <td>13.201019</td>\n",
              "      <td>40.447887</td>\n",
              "      <td>62.474155</td>\n",
              "      <td>41.198154</td>\n",
              "      <td>70.456474</td>\n",
              "      <td>75.999847</td>\n",
              "      <td>92.817329</td>\n",
              "      <td>37.790001</td>\n",
              "    </tr>\n",
              "  </tbody>\n",
              "</table>\n",
              "</div>\n",
              "      <button class=\"colab-df-convert\" onclick=\"convertToInteractive('df-ee80f51f-c84d-46dd-9206-333578523ed6')\"\n",
              "              title=\"Convert this dataframe to an interactive table.\"\n",
              "              style=\"display:none;\">\n",
              "        \n",
              "  <svg xmlns=\"http://www.w3.org/2000/svg\" height=\"24px\"viewBox=\"0 0 24 24\"\n",
              "       width=\"24px\">\n",
              "    <path d=\"M0 0h24v24H0V0z\" fill=\"none\"/>\n",
              "    <path d=\"M18.56 5.44l.94 2.06.94-2.06 2.06-.94-2.06-.94-.94-2.06-.94 2.06-2.06.94zm-11 1L8.5 8.5l.94-2.06 2.06-.94-2.06-.94L8.5 2.5l-.94 2.06-2.06.94zm10 10l.94 2.06.94-2.06 2.06-.94-2.06-.94-.94-2.06-.94 2.06-2.06.94z\"/><path d=\"M17.41 7.96l-1.37-1.37c-.4-.4-.92-.59-1.43-.59-.52 0-1.04.2-1.43.59L10.3 9.45l-7.72 7.72c-.78.78-.78 2.05 0 2.83L4 21.41c.39.39.9.59 1.41.59.51 0 1.02-.2 1.41-.59l7.78-7.78 2.81-2.81c.8-.78.8-2.07 0-2.86zM5.41 20L4 18.59l7.72-7.72 1.47 1.35L5.41 20z\"/>\n",
              "  </svg>\n",
              "      </button>\n",
              "      \n",
              "  <style>\n",
              "    .colab-df-container {\n",
              "      display:flex;\n",
              "      flex-wrap:wrap;\n",
              "      gap: 12px;\n",
              "    }\n",
              "\n",
              "    .colab-df-convert {\n",
              "      background-color: #E8F0FE;\n",
              "      border: none;\n",
              "      border-radius: 50%;\n",
              "      cursor: pointer;\n",
              "      display: none;\n",
              "      fill: #1967D2;\n",
              "      height: 32px;\n",
              "      padding: 0 0 0 0;\n",
              "      width: 32px;\n",
              "    }\n",
              "\n",
              "    .colab-df-convert:hover {\n",
              "      background-color: #E2EBFA;\n",
              "      box-shadow: 0px 1px 2px rgba(60, 64, 67, 0.3), 0px 1px 3px 1px rgba(60, 64, 67, 0.15);\n",
              "      fill: #174EA6;\n",
              "    }\n",
              "\n",
              "    [theme=dark] .colab-df-convert {\n",
              "      background-color: #3B4455;\n",
              "      fill: #D2E3FC;\n",
              "    }\n",
              "\n",
              "    [theme=dark] .colab-df-convert:hover {\n",
              "      background-color: #434B5C;\n",
              "      box-shadow: 0px 1px 3px 1px rgba(0, 0, 0, 0.15);\n",
              "      filter: drop-shadow(0px 1px 2px rgba(0, 0, 0, 0.3));\n",
              "      fill: #FFFFFF;\n",
              "    }\n",
              "  </style>\n",
              "\n",
              "      <script>\n",
              "        const buttonEl =\n",
              "          document.querySelector('#df-ee80f51f-c84d-46dd-9206-333578523ed6 button.colab-df-convert');\n",
              "        buttonEl.style.display =\n",
              "          google.colab.kernel.accessAllowed ? 'block' : 'none';\n",
              "\n",
              "        async function convertToInteractive(key) {\n",
              "          const element = document.querySelector('#df-ee80f51f-c84d-46dd-9206-333578523ed6');\n",
              "          const dataTable =\n",
              "            await google.colab.kernel.invokeFunction('convertToInteractive',\n",
              "                                                     [key], {});\n",
              "          if (!dataTable) return;\n",
              "\n",
              "          const docLinkHtml = 'Like what you see? Visit the ' +\n",
              "            '<a target=\"_blank\" href=https://colab.research.google.com/notebooks/data_table.ipynb>data table notebook</a>'\n",
              "            + ' to learn more about interactive tables.';\n",
              "          element.innerHTML = '';\n",
              "          dataTable['output_type'] = 'display_data';\n",
              "          await google.colab.output.renderOutput(dataTable, element);\n",
              "          const docLink = document.createElement('div');\n",
              "          docLink.innerHTML = docLinkHtml;\n",
              "          element.appendChild(docLink);\n",
              "        }\n",
              "      </script>\n",
              "    </div>\n",
              "  </div>\n",
              "  "
            ]
          },
          "metadata": {},
          "execution_count": 17
        }
      ]
    },
    {
      "cell_type": "markdown",
      "source": [
        "Miremos el tamaño de nuestro datraframe"
      ],
      "metadata": {
        "id": "b2VuYDsS8Ihe"
      }
    },
    {
      "cell_type": "code",
      "source": [
        "df.shape"
      ],
      "metadata": {
        "colab": {
          "base_uri": "https://localhost:8080/"
        },
        "id": "QeyozF0i8Kfb",
        "outputId": "0f42267c-2575-4d5a-eff2-adc118f40231"
      },
      "execution_count": null,
      "outputs": [
        {
          "output_type": "execute_result",
          "data": {
            "text/plain": [
              "(71, 14)"
            ]
          },
          "metadata": {},
          "execution_count": 18
        }
      ]
    },
    {
      "cell_type": "markdown",
      "source": [
        "11 filas x 14 columnas"
      ],
      "metadata": {
        "id": "ZJAOuD7O8LjI"
      }
    },
    {
      "cell_type": "markdown",
      "source": [
        "Las columnas son los precios de acciones de:\n",
        "\n",
        "1. MCD: Macdonals\n",
        "2. SBUX: Starbucks\n",
        "3. GOOG: Google\n",
        "4. AMZN: Amazon\n",
        "5. MSFT: Microsoft\n",
        "6. JPM: JPMorgan Chase & Co.\n",
        "7. BAC: Bank of America Corp\n",
        "8. C: Citigroup\n",
        "9. MAR: Pharma MAr\n",
        "10. HLT: Hoteles Hilton\n",
        "11. RCL: Royal Caribbean Cruises\n",
        "12. V: Visa Inc.\n",
        "13. MA: Mastercard\n",
        "14. PYPL: Paypal"
      ],
      "metadata": {
        "id": "ytyHdFzvC6ed"
      }
    },
    {
      "cell_type": "markdown",
      "source": [
        "# Analizando el comportamiento de una serie de tiempo"
      ],
      "metadata": {
        "id": "b9n7zuxd8Njf"
      }
    },
    {
      "cell_type": "code",
      "source": [
        "df['MCD'].plot(kind='line',figsize=(10,6),xlabel='Fecha', ylabel='Precio Accion', title='Precio Accion vs Fecha')"
      ],
      "metadata": {
        "colab": {
          "base_uri": "https://localhost:8080/",
          "height": 421
        },
        "id": "bDXqJ3mW8RLY",
        "outputId": "61cef61e-175f-4b0a-e24f-4224799e5f7b"
      },
      "execution_count": null,
      "outputs": [
        {
          "output_type": "execute_result",
          "data": {
            "text/plain": [
              "<matplotlib.axes._subplots.AxesSubplot at 0x7f0ee79baa50>"
            ]
          },
          "metadata": {},
          "execution_count": 5
        },
        {
          "output_type": "display_data",
          "data": {
            "text/plain": [
              "<Figure size 720x432 with 1 Axes>"
            ],
            "image/png": "[encoded data removed]"
          },
          "metadata": {
            "needs_background": "light"
          }
        }
      ]
    },
    {
      "cell_type": "markdown",
      "source": [
        "Se observa un comportamiento creciente entre el 01/01/21 hasta el 11/01/2021"
      ],
      "metadata": {
        "id": "h5j609z182p2"
      }
    },
    {
      "cell_type": "markdown",
      "source": [
        "# Grafiquemos todas las series de tiempo"
      ],
      "metadata": {
        "id": "16OmymQ59Bal"
      }
    },
    {
      "cell_type": "code",
      "source": [
        "df.plot(kind='line',figsize=(15,6),xlabel='Fecha', ylabel='Precio Accion', title='Precio Accion vs Fecha').legend(loc='best')"
      ],
      "metadata": {
        "colab": {
          "base_uri": "https://localhost:8080/",
          "height": 421
        },
        "id": "B2jOljgL85tB",
        "outputId": "09028a43-1927-425f-fa43-d4c8f44c071a"
      },
      "execution_count": null,
      "outputs": [
        {
          "output_type": "execute_result",
          "data": {
            "text/plain": [
              "<matplotlib.legend.Legend at 0x7f9c86c6e210>"
            ]
          },
          "metadata": {},
          "execution_count": 20
        },
        {
          "output_type": "display_data",
          "data": {
            "text/plain": [
              "<Figure size 1080x432 with 1 Axes>"
            ],
            "image/png": "[encoded data removed]"
          },
          "metadata": {
            "needs_background": "light"
          }
        }
      ]
    },
    {
      "cell_type": "markdown",
      "source": [
        "**En cual accion invertirian y porque?**"
      ],
      "metadata": {
        "id": "a8JTObOJ9kuZ"
      }
    },
    {
      "cell_type": "markdown",
      "source": [
        "Al parecer hay una gran diferencia en el comportamiento de las acciones **GOOG (Google) y AMZN (Amazon)** respecto a las demás, por otro lado podemos analizar el porcentaje de cambio cada día para entender como estan sucediendo los cambios diarios de manera porcentual"
      ],
      "metadata": {
        "id": "X86UYFei9sTP"
      }
    },
    {
      "cell_type": "code",
      "source": [
        "df_cambios=df.pct_change()*100\n",
        "df_cambios"
      ],
      "metadata": {
        "colab": {
          "base_uri": "https://localhost:8080/",
          "height": 519
        },
        "id": "zX7K4FYX991l",
        "outputId": "be9562ed-45b2-4759-9a88-3d1fca030e2c"
      },
      "execution_count": null,
      "outputs": [
        {
          "output_type": "execute_result",
          "data": {
            "text/plain": [
              "                     MCD      SBUX       GOOG       AMZN       MSFT       JPM  \\\n",
              "formatted_date                                                                  \n",
              "2016-01-01           NaN       NaN        NaN        NaN        NaN       NaN   \n",
              "2016-02-01     -5.323980 -4.212607  -6.081162  -5.873932  -7.642037 -4.743432   \n",
              "2016-03-01      8.057101  2.894882   6.761539   7.442263   9.328893  5.186545   \n",
              "2016-04-01      0.644495 -5.812418  -6.972280  11.109428  -9.704848  6.720700   \n",
              "2016-05-01     -3.502252 -2.383072   6.162965   9.581702   6.276298  4.039907   \n",
              "...                  ...       ...        ...        ...        ...       ...   \n",
              "2021-07-01      5.073810  8.603882   7.904013  -3.272226   5.171653 -2.417375   \n",
              "2021-08-01     -2.163073 -3.244671   7.573531   4.303413   5.956268  5.990058   \n",
              "2021-09-01      2.093757 -5.746744  -8.384662  -5.351807  -6.433113  2.338235   \n",
              "2021-10-01      1.841486 -3.843711  11.259473   2.660238  17.629108  3.787643   \n",
              "2021-11-01     -0.386887  3.365701  -3.924242   3.992378  -0.310593 -5.946732   \n",
              "\n",
              "                      BAC          C        MAR        HLT        RCL  \\\n",
              "formatted_date                                                          \n",
              "2016-01-01            NaN        NaN        NaN        NaN        NaN   \n",
              "2016-02-01     -11.456848  -8.647389  11.210830  16.676025  -9.260620   \n",
              "2016-03-01       7.987201   7.464626   4.838494   8.373462  11.029228   \n",
              "2016-04-01       8.102098  10.850302  -1.531349  -1.761435  -5.782089   \n",
              "2016-05-01       1.579672   0.733041  -5.778272  -5.759658  -0.012928   \n",
              "...                   ...        ...        ...        ...        ...   \n",
              "2021-07-01      -6.569298  -4.424032   6.929381   8.978606  -9.861628   \n",
              "2021-08-01       8.837328   7.138355  -7.425672  -5.013310   7.623261   \n",
              "2021-09-01       1.676649  -2.405785   9.582653   5.806503   7.518425   \n",
              "2021-10-01      13.132745  -1.453400   8.055918   8.962226  -5.081503   \n",
              "2021-11-01      -6.927583  -7.227223  -7.786531  -6.168802 -17.304276   \n",
              "\n",
              "                       V         MA       PYPL  \n",
              "formatted_date                                  \n",
              "2016-01-01           NaN        NaN        NaN  \n",
              "2016-02-01     -2.819154  -2.174320   5.534034  \n",
              "2016-03-01      5.858393   8.720693   1.206080  \n",
              "2016-04-01      0.993687   2.634911   1.502595  \n",
              "2016-05-01      2.200961  -0.924315  -3.547727  \n",
              "...                  ...        ...        ...  \n",
              "2021-07-01      5.375928   5.710923  -5.472078  \n",
              "2021-08-01     -7.017328 -10.183470   4.765363  \n",
              "2021-09-01     -2.639177   0.418791  -9.855890  \n",
              "2021-10-01     -4.929288  -3.497477 -10.614502  \n",
              "2021-11-01     -8.499787  -6.021122 -20.508189  \n",
              "\n",
              "[71 rows x 14 columns]"
            ],
            "text/html": [
              "\n",
              "  <div id=\"df-e5b123cc-878f-404f-9bf1-27952ec5bf0f\">\n",
              "    <div class=\"colab-df-container\">\n",
              "      <div>\n",
              "<style scoped>\n",
              "    .dataframe tbody tr th:only-of-type {\n",
              "        vertical-align: middle;\n",
              "    }\n",
              "\n",
              "    .dataframe tbody tr th {\n",
              "        vertical-align: top;\n",
              "    }\n",
              "\n",
              "    .dataframe thead th {\n",
              "        text-align: right;\n",
              "    }\n",
              "</style>\n",
              "<table border=\"1\" class=\"dataframe\">\n",
              "  <thead>\n",
              "    <tr style=\"text-align: right;\">\n",
              "      <th></th>\n",
              "      <th>MCD</th>\n",
              "      <th>SBUX</th>\n",
              "      <th>GOOG</th>\n",
              "      <th>AMZN</th>\n",
              "      <th>MSFT</th>\n",
              "      <th>JPM</th>\n",
              "      <th>BAC</th>\n",
              "      <th>C</th>\n",
              "      <th>MAR</th>\n",
              "      <th>HLT</th>\n",
              "      <th>RCL</th>\n",
              "      <th>V</th>\n",
              "      <th>MA</th>\n",
              "      <th>PYPL</th>\n",
              "    </tr>\n",
              "    <tr>\n",
              "      <th>formatted_date</th>\n",
              "      <th></th>\n",
              "      <th></th>\n",
              "      <th></th>\n",
              "      <th></th>\n",
              "      <th></th>\n",
              "      <th></th>\n",
              "      <th></th>\n",
              "      <th></th>\n",
              "      <th></th>\n",
              "      <th></th>\n",
              "      <th></th>\n",
              "      <th></th>\n",
              "      <th></th>\n",
              "      <th></th>\n",
              "    </tr>\n",
              "  </thead>\n",
              "  <tbody>\n",
              "    <tr>\n",
              "      <th>2016-01-01</th>\n",
              "      <td>NaN</td>\n",
              "      <td>NaN</td>\n",
              "      <td>NaN</td>\n",
              "      <td>NaN</td>\n",
              "      <td>NaN</td>\n",
              "      <td>NaN</td>\n",
              "      <td>NaN</td>\n",
              "      <td>NaN</td>\n",
              "      <td>NaN</td>\n",
              "      <td>NaN</td>\n",
              "      <td>NaN</td>\n",
              "      <td>NaN</td>\n",
              "      <td>NaN</td>\n",
              "      <td>NaN</td>\n",
              "    </tr>\n",
              "    <tr>\n",
              "      <th>2016-02-01</th>\n",
              "      <td>-5.323980</td>\n",
              "      <td>-4.212607</td>\n",
              "      <td>-6.081162</td>\n",
              "      <td>-5.873932</td>\n",
              "      <td>-7.642037</td>\n",
              "      <td>-4.743432</td>\n",
              "      <td>-11.456848</td>\n",
              "      <td>-8.647389</td>\n",
              "      <td>11.210830</td>\n",
              "      <td>16.676025</td>\n",
              "      <td>-9.260620</td>\n",
              "      <td>-2.819154</td>\n",
              "      <td>-2.174320</td>\n",
              "      <td>5.534034</td>\n",
              "    </tr>\n",
              "    <tr>\n",
              "      <th>2016-03-01</th>\n",
              "      <td>8.057101</td>\n",
              "      <td>2.894882</td>\n",
              "      <td>6.761539</td>\n",
              "      <td>7.442263</td>\n",
              "      <td>9.328893</td>\n",
              "      <td>5.186545</td>\n",
              "      <td>7.987201</td>\n",
              "      <td>7.464626</td>\n",
              "      <td>4.838494</td>\n",
              "      <td>8.373462</td>\n",
              "      <td>11.029228</td>\n",
              "      <td>5.858393</td>\n",
              "      <td>8.720693</td>\n",
              "      <td>1.206080</td>\n",
              "    </tr>\n",
              "    <tr>\n",
              "      <th>2016-04-01</th>\n",
              "      <td>0.644495</td>\n",
              "      <td>-5.812418</td>\n",
              "      <td>-6.972280</td>\n",
              "      <td>11.109428</td>\n",
              "      <td>-9.704848</td>\n",
              "      <td>6.720700</td>\n",
              "      <td>8.102098</td>\n",
              "      <td>10.850302</td>\n",
              "      <td>-1.531349</td>\n",
              "      <td>-1.761435</td>\n",
              "      <td>-5.782089</td>\n",
              "      <td>0.993687</td>\n",
              "      <td>2.634911</td>\n",
              "      <td>1.502595</td>\n",
              "    </tr>\n",
              "    <tr>\n",
              "      <th>2016-05-01</th>\n",
              "      <td>-3.502252</td>\n",
              "      <td>-2.383072</td>\n",
              "      <td>6.162965</td>\n",
              "      <td>9.581702</td>\n",
              "      <td>6.276298</td>\n",
              "      <td>4.039907</td>\n",
              "      <td>1.579672</td>\n",
              "      <td>0.733041</td>\n",
              "      <td>-5.778272</td>\n",
              "      <td>-5.759658</td>\n",
              "      <td>-0.012928</td>\n",
              "      <td>2.200961</td>\n",
              "      <td>-0.924315</td>\n",
              "      <td>-3.547727</td>\n",
              "    </tr>\n",
              "    <tr>\n",
              "      <th>...</th>\n",
              "      <td>...</td>\n",
              "      <td>...</td>\n",
              "      <td>...</td>\n",
              "      <td>...</td>\n",
              "      <td>...</td>\n",
              "      <td>...</td>\n",
              "      <td>...</td>\n",
              "      <td>...</td>\n",
              "      <td>...</td>\n",
              "      <td>...</td>\n",
              "      <td>...</td>\n",
              "      <td>...</td>\n",
              "      <td>...</td>\n",
              "      <td>...</td>\n",
              "    </tr>\n",
              "    <tr>\n",
              "      <th>2021-07-01</th>\n",
              "      <td>5.073810</td>\n",
              "      <td>8.603882</td>\n",
              "      <td>7.904013</td>\n",
              "      <td>-3.272226</td>\n",
              "      <td>5.171653</td>\n",
              "      <td>-2.417375</td>\n",
              "      <td>-6.569298</td>\n",
              "      <td>-4.424032</td>\n",
              "      <td>6.929381</td>\n",
              "      <td>8.978606</td>\n",
              "      <td>-9.861628</td>\n",
              "      <td>5.375928</td>\n",
              "      <td>5.710923</td>\n",
              "      <td>-5.472078</td>\n",
              "    </tr>\n",
              "    <tr>\n",
              "      <th>2021-08-01</th>\n",
              "      <td>-2.163073</td>\n",
              "      <td>-3.244671</td>\n",
              "      <td>7.573531</td>\n",
              "      <td>4.303413</td>\n",
              "      <td>5.956268</td>\n",
              "      <td>5.990058</td>\n",
              "      <td>8.837328</td>\n",
              "      <td>7.138355</td>\n",
              "      <td>-7.425672</td>\n",
              "      <td>-5.013310</td>\n",
              "      <td>7.623261</td>\n",
              "      <td>-7.017328</td>\n",
              "      <td>-10.183470</td>\n",
              "      <td>4.765363</td>\n",
              "    </tr>\n",
              "    <tr>\n",
              "      <th>2021-09-01</th>\n",
              "      <td>2.093757</td>\n",
              "      <td>-5.746744</td>\n",
              "      <td>-8.384662</td>\n",
              "      <td>-5.351807</td>\n",
              "      <td>-6.433113</td>\n",
              "      <td>2.338235</td>\n",
              "      <td>1.676649</td>\n",
              "      <td>-2.405785</td>\n",
              "      <td>9.582653</td>\n",
              "      <td>5.806503</td>\n",
              "      <td>7.518425</td>\n",
              "      <td>-2.639177</td>\n",
              "      <td>0.418791</td>\n",
              "      <td>-9.855890</td>\n",
              "    </tr>\n",
              "    <tr>\n",
              "      <th>2021-10-01</th>\n",
              "      <td>1.841486</td>\n",
              "      <td>-3.843711</td>\n",
              "      <td>11.259473</td>\n",
              "      <td>2.660238</td>\n",
              "      <td>17.629108</td>\n",
              "      <td>3.787643</td>\n",
              "      <td>13.132745</td>\n",
              "      <td>-1.453400</td>\n",
              "      <td>8.055918</td>\n",
              "      <td>8.962226</td>\n",
              "      <td>-5.081503</td>\n",
              "      <td>-4.929288</td>\n",
              "      <td>-3.497477</td>\n",
              "      <td>-10.614502</td>\n",
              "    </tr>\n",
              "    <tr>\n",
              "      <th>2021-11-01</th>\n",
              "      <td>-0.386887</td>\n",
              "      <td>3.365701</td>\n",
              "      <td>-3.924242</td>\n",
              "      <td>3.992378</td>\n",
              "      <td>-0.310593</td>\n",
              "      <td>-5.946732</td>\n",
              "      <td>-6.927583</td>\n",
              "      <td>-7.227223</td>\n",
              "      <td>-7.786531</td>\n",
              "      <td>-6.168802</td>\n",
              "      <td>-17.304276</td>\n",
              "      <td>-8.499787</td>\n",
              "      <td>-6.021122</td>\n",
              "      <td>-20.508189</td>\n",
              "    </tr>\n",
              "  </tbody>\n",
              "</table>\n",
              "<p>71 rows × 14 columns</p>\n",
              "</div>\n",
              "      <button class=\"colab-df-convert\" onclick=\"convertToInteractive('df-e5b123cc-878f-404f-9bf1-27952ec5bf0f')\"\n",
              "              title=\"Convert this dataframe to an interactive table.\"\n",
              "              style=\"display:none;\">\n",
              "        \n",
              "  <svg xmlns=\"http://www.w3.org/2000/svg\" height=\"24px\"viewBox=\"0 0 24 24\"\n",
              "       width=\"24px\">\n",
              "    <path d=\"M0 0h24v24H0V0z\" fill=\"none\"/>\n",
              "    <path d=\"M18.56 5.44l.94 2.06.94-2.06 2.06-.94-2.06-.94-.94-2.06-.94 2.06-2.06.94zm-11 1L8.5 8.5l.94-2.06 2.06-.94-2.06-.94L8.5 2.5l-.94 2.06-2.06.94zm10 10l.94 2.06.94-2.06 2.06-.94-2.06-.94-.94-2.06-.94 2.06-2.06.94z\"/><path d=\"M17.41 7.96l-1.37-1.37c-.4-.4-.92-.59-1.43-.59-.52 0-1.04.2-1.43.59L10.3 9.45l-7.72 7.72c-.78.78-.78 2.05 0 2.83L4 21.41c.39.39.9.59 1.41.59.51 0 1.02-.2 1.41-.59l7.78-7.78 2.81-2.81c.8-.78.8-2.07 0-2.86zM5.41 20L4 18.59l7.72-7.72 1.47 1.35L5.41 20z\"/>\n",
              "  </svg>\n",
              "      </button>\n",
              "      \n",
              "  <style>\n",
              "    .colab-df-container {\n",
              "      display:flex;\n",
              "      flex-wrap:wrap;\n",
              "      gap: 12px;\n",
              "    }\n",
              "\n",
              "    .colab-df-convert {\n",
              "      background-color: #E8F0FE;\n",
              "      border: none;\n",
              "      border-radius: 50%;\n",
              "      cursor: pointer;\n",
              "      display: none;\n",
              "      fill: #1967D2;\n",
              "      height: 32px;\n",
              "      padding: 0 0 0 0;\n",
              "      width: 32px;\n",
              "    }\n",
              "\n",
              "    .colab-df-convert:hover {\n",
              "      background-color: #E2EBFA;\n",
              "      box-shadow: 0px 1px 2px rgba(60, 64, 67, 0.3), 0px 1px 3px 1px rgba(60, 64, 67, 0.15);\n",
              "      fill: #174EA6;\n",
              "    }\n",
              "\n",
              "    [theme=dark] .colab-df-convert {\n",
              "      background-color: #3B4455;\n",
              "      fill: #D2E3FC;\n",
              "    }\n",
              "\n",
              "    [theme=dark] .colab-df-convert:hover {\n",
              "      background-color: #434B5C;\n",
              "      box-shadow: 0px 1px 3px 1px rgba(0, 0, 0, 0.15);\n",
              "      filter: drop-shadow(0px 1px 2px rgba(0, 0, 0, 0.3));\n",
              "      fill: #FFFFFF;\n",
              "    }\n",
              "  </style>\n",
              "\n",
              "      <script>\n",
              "        const buttonEl =\n",
              "          document.querySelector('#df-e5b123cc-878f-404f-9bf1-27952ec5bf0f button.colab-df-convert');\n",
              "        buttonEl.style.display =\n",
              "          google.colab.kernel.accessAllowed ? 'block' : 'none';\n",
              "\n",
              "        async function convertToInteractive(key) {\n",
              "          const element = document.querySelector('#df-e5b123cc-878f-404f-9bf1-27952ec5bf0f');\n",
              "          const dataTable =\n",
              "            await google.colab.kernel.invokeFunction('convertToInteractive',\n",
              "                                                     [key], {});\n",
              "          if (!dataTable) return;\n",
              "\n",
              "          const docLinkHtml = 'Like what you see? Visit the ' +\n",
              "            '<a target=\"_blank\" href=https://colab.research.google.com/notebooks/data_table.ipynb>data table notebook</a>'\n",
              "            + ' to learn more about interactive tables.';\n",
              "          element.innerHTML = '';\n",
              "          dataTable['output_type'] = 'display_data';\n",
              "          await google.colab.output.renderOutput(dataTable, element);\n",
              "          const docLink = document.createElement('div');\n",
              "          docLink.innerHTML = docLinkHtml;\n",
              "          element.appendChild(docLink);\n",
              "        }\n",
              "      </script>\n",
              "    </div>\n",
              "  </div>\n",
              "  "
            ]
          },
          "metadata": {},
          "execution_count": 21
        }
      ]
    },
    {
      "cell_type": "code",
      "source": [
        "df_cambios.plot(kind='line',figsize=(15,6),xlabel='Fecha', ylabel='Porcentaje de cambio', title='Precio Accion vs Fecha').legend(loc='best')"
      ],
      "metadata": {
        "colab": {
          "base_uri": "https://localhost:8080/",
          "height": 421
        },
        "id": "49gV25xt-FCH",
        "outputId": "04f6e258-0d06-44f7-e7ad-a7585d9c5231"
      },
      "execution_count": null,
      "outputs": [
        {
          "output_type": "execute_result",
          "data": {
            "text/plain": [
              "<matplotlib.legend.Legend at 0x7f581f8318d0>"
            ]
          },
          "metadata": {},
          "execution_count": 20
        },
        {
          "output_type": "display_data",
          "data": {
            "image/png": "[encoded data removed]",
            "text/plain": [
              "<Figure size 1080x432 with 1 Axes>"
            ]
          },
          "metadata": {
            "needs_background": "light"
          }
        }
      ]
    },
    {
      "cell_type": "markdown",
      "source": [
        "**Siguen pensando lo mismo respecto a la pregunta anterior**\n",
        "Teniendo en cuenta esta información cual sería a la acción en la cual invertirian?"
      ],
      "metadata": {
        "id": "R4OWLpP6-TeD"
      }
    },
    {
      "cell_type": "markdown",
      "source": [
        "La respuesta en que accion invertir no solo pasa por el valor de la acción en si sino mas bien por factores asociados a la volatididad que pueda tener la acción.\n",
        "\n",
        "Cuando se prefiere aversion al riesgo (evitar incertidumbre en inversiones) se requieren acciones que tengan poca volatilidad. 🧱 🈶 ☁ 🪗 ❎\n",
        "\n",
        "Por el contrario cuando se asumen riesgos las inversiones podrían enfocarse en aquellas acciones con mayor volatilidad ⏰ ⚗ ⛹ ♟"
      ],
      "metadata": {
        "id": "TBJE0p1YEM6j"
      }
    },
    {
      "cell_type": "markdown",
      "source": [
        "# Grafico interactivo\n",
        "\n",
        "Para generar un grafico dinamico podemos usar plotly con el fin de poder establecer el valor en cada momento del tiempo para cada accion\n",
        "\n",
        "Ademas debemos hacer uso de la funcion ```melt``` que explicaremos posteriormente mas adelante pero consiste en formato long del dataframe para facilitar el grafico en plotly"
      ],
      "metadata": {
        "id": "PL8pbOGgFgZn"
      }
    },
    {
      "cell_type": "code",
      "source": [
        "df_n=df.copy()\n",
        "df_n['Fecha']=df.index\n",
        "df_n= df_n.reset_index(drop=True)\n",
        "df_n"
      ],
      "metadata": {
        "colab": {
          "base_uri": "https://localhost:8080/",
          "height": 415
        },
        "id": "-P9ktYyxGg5W",
        "outputId": "3159e4a3-399b-43cf-8e59-f3fa07040922"
      },
      "execution_count": null,
      "outputs": [
        {
          "output_type": "execute_result",
          "data": {
            "text/html": [
              "<div>\n",
              "<style scoped>\n",
              "    .dataframe tbody tr th:only-of-type {\n",
              "        vertical-align: middle;\n",
              "    }\n",
              "\n",
              "    .dataframe tbody tr th {\n",
              "        vertical-align: top;\n",
              "    }\n",
              "\n",
              "    .dataframe thead th {\n",
              "        text-align: right;\n",
              "    }\n",
              "</style>\n",
              "<table border=\"1\" class=\"dataframe\">\n",
              "  <thead>\n",
              "    <tr style=\"text-align: right;\">\n",
              "      <th></th>\n",
              "      <th>MCD</th>\n",
              "      <th>SBUX</th>\n",
              "      <th>GOOG</th>\n",
              "      <th>AMZN</th>\n",
              "      <th>MSFT</th>\n",
              "      <th>JPM</th>\n",
              "      <th>BAC</th>\n",
              "      <th>C</th>\n",
              "      <th>MAR</th>\n",
              "      <th>HLT</th>\n",
              "      <th>RCL</th>\n",
              "      <th>V</th>\n",
              "      <th>MA</th>\n",
              "      <th>PYPL</th>\n",
              "      <th>Fecha</th>\n",
              "    </tr>\n",
              "  </thead>\n",
              "  <tbody>\n",
              "    <tr>\n",
              "      <th>0</th>\n",
              "      <td>203.187836</td>\n",
              "      <td>95.235695</td>\n",
              "      <td>1835.739990</td>\n",
              "      <td>3206.199951</td>\n",
              "      <td>230.031799</td>\n",
              "      <td>125.517960</td>\n",
              "      <td>29.089981</td>\n",
              "      <td>56.271671</td>\n",
              "      <td>116.309998</td>\n",
              "      <td>101.389999</td>\n",
              "      <td>65.000000</td>\n",
              "      <td>192.070175</td>\n",
              "      <td>314.746094</td>\n",
              "      <td>234.309998</td>\n",
              "      <td>2021-01-01</td>\n",
              "    </tr>\n",
              "    <tr>\n",
              "      <th>1</th>\n",
              "      <td>201.525894</td>\n",
              "      <td>106.273232</td>\n",
              "      <td>2036.859985</td>\n",
              "      <td>3092.929932</td>\n",
              "      <td>230.448318</td>\n",
              "      <td>144.598679</td>\n",
              "      <td>34.054409</td>\n",
              "      <td>64.472809</td>\n",
              "      <td>148.070007</td>\n",
              "      <td>123.680000</td>\n",
              "      <td>93.269997</td>\n",
              "      <td>211.093323</td>\n",
              "      <td>352.569061</td>\n",
              "      <td>259.850006</td>\n",
              "      <td>2021-02-01</td>\n",
              "    </tr>\n",
              "    <tr>\n",
              "      <th>2</th>\n",
              "      <td>220.471207</td>\n",
              "      <td>107.950699</td>\n",
              "      <td>2068.629883</td>\n",
              "      <td>3094.080078</td>\n",
              "      <td>234.348633</td>\n",
              "      <td>149.570267</td>\n",
              "      <td>37.959236</td>\n",
              "      <td>71.196068</td>\n",
              "      <td>148.110001</td>\n",
              "      <td>120.919998</td>\n",
              "      <td>85.610001</td>\n",
              "      <td>210.764023</td>\n",
              "      <td>354.761108</td>\n",
              "      <td>242.839996</td>\n",
              "      <td>2021-03-01</td>\n",
              "    </tr>\n",
              "    <tr>\n",
              "      <th>3</th>\n",
              "      <td>232.215775</td>\n",
              "      <td>113.107674</td>\n",
              "      <td>2410.120117</td>\n",
              "      <td>3467.419922</td>\n",
              "      <td>250.659698</td>\n",
              "      <td>151.122665</td>\n",
              "      <td>39.961990</td>\n",
              "      <td>69.718323</td>\n",
              "      <td>148.520004</td>\n",
              "      <td>128.699997</td>\n",
              "      <td>86.949997</td>\n",
              "      <td>232.494446</td>\n",
              "      <td>380.676971</td>\n",
              "      <td>262.290009</td>\n",
              "      <td>2021-04-01</td>\n",
              "    </tr>\n",
              "    <tr>\n",
              "      <th>4</th>\n",
              "      <td>230.061630</td>\n",
              "      <td>112.505043</td>\n",
              "      <td>2411.560059</td>\n",
              "      <td>3223.070068</td>\n",
              "      <td>248.174774</td>\n",
              "      <td>162.320847</td>\n",
              "      <td>41.795921</td>\n",
              "      <td>77.564484</td>\n",
              "      <td>143.580002</td>\n",
              "      <td>125.269997</td>\n",
              "      <td>93.269997</td>\n",
              "      <td>226.263016</td>\n",
              "      <td>359.701202</td>\n",
              "      <td>260.019989</td>\n",
              "      <td>2021-05-01</td>\n",
              "    </tr>\n",
              "    <tr>\n",
              "      <th>5</th>\n",
              "      <td>228.463959</td>\n",
              "      <td>110.899529</td>\n",
              "      <td>2506.320068</td>\n",
              "      <td>3440.159912</td>\n",
              "      <td>269.888611</td>\n",
              "      <td>153.722504</td>\n",
              "      <td>40.652176</td>\n",
              "      <td>69.720337</td>\n",
              "      <td>136.520004</td>\n",
              "      <td>120.620003</td>\n",
              "      <td>85.279999</td>\n",
              "      <td>233.091354</td>\n",
              "      <td>364.200226</td>\n",
              "      <td>291.480011</td>\n",
              "      <td>2021-06-01</td>\n",
              "    </tr>\n",
              "    <tr>\n",
              "      <th>6</th>\n",
              "      <td>240.055786</td>\n",
              "      <td>120.441185</td>\n",
              "      <td>2704.419922</td>\n",
              "      <td>3327.590088</td>\n",
              "      <td>283.846313</td>\n",
              "      <td>150.006454</td>\n",
              "      <td>37.981617</td>\n",
              "      <td>66.635887</td>\n",
              "      <td>145.979996</td>\n",
              "      <td>131.449997</td>\n",
              "      <td>76.870003</td>\n",
              "      <td>245.622177</td>\n",
              "      <td>384.999420</td>\n",
              "      <td>275.529999</td>\n",
              "      <td>2021-07-01</td>\n",
              "    </tr>\n",
              "    <tr>\n",
              "      <th>7</th>\n",
              "      <td>234.863205</td>\n",
              "      <td>116.533272</td>\n",
              "      <td>2909.239990</td>\n",
              "      <td>3470.790039</td>\n",
              "      <td>300.752960</td>\n",
              "      <td>158.991928</td>\n",
              "      <td>41.338177</td>\n",
              "      <td>71.392593</td>\n",
              "      <td>135.139999</td>\n",
              "      <td>124.860001</td>\n",
              "      <td>82.730003</td>\n",
              "      <td>228.386063</td>\n",
              "      <td>345.793121</td>\n",
              "      <td>288.660004</td>\n",
              "      <td>2021-08-01</td>\n",
              "    </tr>\n",
              "    <tr>\n",
              "      <th>8</th>\n",
              "      <td>239.780670</td>\n",
              "      <td>109.836403</td>\n",
              "      <td>2665.310059</td>\n",
              "      <td>3285.040039</td>\n",
              "      <td>281.405182</td>\n",
              "      <td>162.709534</td>\n",
              "      <td>42.031273</td>\n",
              "      <td>69.675041</td>\n",
              "      <td>148.089996</td>\n",
              "      <td>132.110001</td>\n",
              "      <td>88.949997</td>\n",
              "      <td>222.358551</td>\n",
              "      <td>347.241272</td>\n",
              "      <td>260.209991</td>\n",
              "      <td>2021-09-01</td>\n",
              "    </tr>\n",
              "    <tr>\n",
              "      <th>9</th>\n",
              "      <td>244.196198</td>\n",
              "      <td>105.614609</td>\n",
              "      <td>2965.409912</td>\n",
              "      <td>3372.429932</td>\n",
              "      <td>331.014404</td>\n",
              "      <td>168.872391</td>\n",
              "      <td>47.551128</td>\n",
              "      <td>68.662384</td>\n",
              "      <td>160.020004</td>\n",
              "      <td>143.949997</td>\n",
              "      <td>84.430000</td>\n",
              "      <td>211.397858</td>\n",
              "      <td>335.096588</td>\n",
              "      <td>232.589996</td>\n",
              "      <td>2021-10-01</td>\n",
              "    </tr>\n",
              "    <tr>\n",
              "      <th>10</th>\n",
              "      <td>243.251434</td>\n",
              "      <td>109.169281</td>\n",
              "      <td>2849.040039</td>\n",
              "      <td>3507.070068</td>\n",
              "      <td>329.986298</td>\n",
              "      <td>158.830002</td>\n",
              "      <td>44.256985</td>\n",
              "      <td>63.700001</td>\n",
              "      <td>147.559998</td>\n",
              "      <td>135.070007</td>\n",
              "      <td>69.820000</td>\n",
              "      <td>193.429489</td>\n",
              "      <td>314.920013</td>\n",
              "      <td>184.889999</td>\n",
              "      <td>2021-11-01</td>\n",
              "    </tr>\n",
              "  </tbody>\n",
              "</table>\n",
              "</div>"
            ],
            "text/plain": [
              "           MCD        SBUX         GOOG  ...          MA        PYPL       Fecha\n",
              "0   203.187836   95.235695  1835.739990  ...  314.746094  234.309998  2021-01-01\n",
              "1   201.525894  106.273232  2036.859985  ...  352.569061  259.850006  2021-02-01\n",
              "2   220.471207  107.950699  2068.629883  ...  354.761108  242.839996  2021-03-01\n",
              "3   232.215775  113.107674  2410.120117  ...  380.676971  262.290009  2021-04-01\n",
              "4   230.061630  112.505043  2411.560059  ...  359.701202  260.019989  2021-05-01\n",
              "5   228.463959  110.899529  2506.320068  ...  364.200226  291.480011  2021-06-01\n",
              "6   240.055786  120.441185  2704.419922  ...  384.999420  275.529999  2021-07-01\n",
              "7   234.863205  116.533272  2909.239990  ...  345.793121  288.660004  2021-08-01\n",
              "8   239.780670  109.836403  2665.310059  ...  347.241272  260.209991  2021-09-01\n",
              "9   244.196198  105.614609  2965.409912  ...  335.096588  232.589996  2021-10-01\n",
              "10  243.251434  109.169281  2849.040039  ...  314.920013  184.889999  2021-11-01\n",
              "\n",
              "[11 rows x 15 columns]"
            ]
          },
          "metadata": {},
          "execution_count": 40
        }
      ]
    },
    {
      "cell_type": "code",
      "source": [
        "df_long=pd.melt(df_n , value_vars=df.columns,id_vars='Fecha')\n",
        "df_long"
      ],
      "metadata": {
        "colab": {
          "base_uri": "https://localhost:8080/",
          "height": 424
        },
        "id": "9fuHznuVFR47",
        "outputId": "f00650ec-9f65-4eb7-c07e-054c2759d442"
      },
      "execution_count": null,
      "outputs": [
        {
          "output_type": "execute_result",
          "data": {
            "text/html": [
              "<div>\n",
              "<style scoped>\n",
              "    .dataframe tbody tr th:only-of-type {\n",
              "        vertical-align: middle;\n",
              "    }\n",
              "\n",
              "    .dataframe tbody tr th {\n",
              "        vertical-align: top;\n",
              "    }\n",
              "\n",
              "    .dataframe thead th {\n",
              "        text-align: right;\n",
              "    }\n",
              "</style>\n",
              "<table border=\"1\" class=\"dataframe\">\n",
              "  <thead>\n",
              "    <tr style=\"text-align: right;\">\n",
              "      <th></th>\n",
              "      <th>Fecha</th>\n",
              "      <th>variable</th>\n",
              "      <th>value</th>\n",
              "    </tr>\n",
              "  </thead>\n",
              "  <tbody>\n",
              "    <tr>\n",
              "      <th>0</th>\n",
              "      <td>2021-01-01</td>\n",
              "      <td>MCD</td>\n",
              "      <td>203.187836</td>\n",
              "    </tr>\n",
              "    <tr>\n",
              "      <th>1</th>\n",
              "      <td>2021-02-01</td>\n",
              "      <td>MCD</td>\n",
              "      <td>201.525894</td>\n",
              "    </tr>\n",
              "    <tr>\n",
              "      <th>2</th>\n",
              "      <td>2021-03-01</td>\n",
              "      <td>MCD</td>\n",
              "      <td>220.471207</td>\n",
              "    </tr>\n",
              "    <tr>\n",
              "      <th>3</th>\n",
              "      <td>2021-04-01</td>\n",
              "      <td>MCD</td>\n",
              "      <td>232.215775</td>\n",
              "    </tr>\n",
              "    <tr>\n",
              "      <th>4</th>\n",
              "      <td>2021-05-01</td>\n",
              "      <td>MCD</td>\n",
              "      <td>230.061630</td>\n",
              "    </tr>\n",
              "    <tr>\n",
              "      <th>...</th>\n",
              "      <td>...</td>\n",
              "      <td>...</td>\n",
              "      <td>...</td>\n",
              "    </tr>\n",
              "    <tr>\n",
              "      <th>149</th>\n",
              "      <td>2021-07-01</td>\n",
              "      <td>PYPL</td>\n",
              "      <td>275.529999</td>\n",
              "    </tr>\n",
              "    <tr>\n",
              "      <th>150</th>\n",
              "      <td>2021-08-01</td>\n",
              "      <td>PYPL</td>\n",
              "      <td>288.660004</td>\n",
              "    </tr>\n",
              "    <tr>\n",
              "      <th>151</th>\n",
              "      <td>2021-09-01</td>\n",
              "      <td>PYPL</td>\n",
              "      <td>260.209991</td>\n",
              "    </tr>\n",
              "    <tr>\n",
              "      <th>152</th>\n",
              "      <td>2021-10-01</td>\n",
              "      <td>PYPL</td>\n",
              "      <td>232.589996</td>\n",
              "    </tr>\n",
              "    <tr>\n",
              "      <th>153</th>\n",
              "      <td>2021-11-01</td>\n",
              "      <td>PYPL</td>\n",
              "      <td>184.889999</td>\n",
              "    </tr>\n",
              "  </tbody>\n",
              "</table>\n",
              "<p>154 rows × 3 columns</p>\n",
              "</div>"
            ],
            "text/plain": [
              "          Fecha variable       value\n",
              "0    2021-01-01      MCD  203.187836\n",
              "1    2021-02-01      MCD  201.525894\n",
              "2    2021-03-01      MCD  220.471207\n",
              "3    2021-04-01      MCD  232.215775\n",
              "4    2021-05-01      MCD  230.061630\n",
              "..          ...      ...         ...\n",
              "149  2021-07-01     PYPL  275.529999\n",
              "150  2021-08-01     PYPL  288.660004\n",
              "151  2021-09-01     PYPL  260.209991\n",
              "152  2021-10-01     PYPL  232.589996\n",
              "153  2021-11-01     PYPL  184.889999\n",
              "\n",
              "[154 rows x 3 columns]"
            ]
          },
          "metadata": {},
          "execution_count": 42
        }
      ]
    },
    {
      "cell_type": "code",
      "source": [
        "import plotly.express as px\n",
        "\n",
        "\n",
        "fig=px.line(data_frame=df_long,x='Fecha',y='value',line_group='variable',color='variable',title='Comportamiento de precio de acciones',\\\n",
        "             labels={\n",
        "                     \"Fecha\": \"Fecha_dias\",\n",
        "                     \"value\": \"Precio (USD)\"\n",
        "                 })\n",
        "fig.update_layout(paper_bgcolor=\"#FFFFFF\",plot_bgcolor='#FFFFFF',)\n",
        "\n",
        "fig.show()"
      ],
      "metadata": {
        "colab": {
          "base_uri": "https://localhost:8080/",
          "height": 542
        },
        "id": "tcyOiOxrEMJn",
        "outputId": "9ca2b737-4fc9-45b1-a8fc-c144d3467fd8"
      },
      "execution_count": null,
      "outputs": [
        {
          "output_type": "display_data",
          "data": {
            "text/html": [
              "<html>\n",
              "<head><meta charset=\"utf-8\" /></head>\n",
              "<body>\n",
              "    <div>\n",
              "            <script src=\"https://cdnjs.cloudflare.com/ajax/libs/mathjax/2.7.5/MathJax.js?config=TeX-AMS-MML_SVG\"></script><script type=\"text/javascript\">if (window.MathJax) {MathJax.Hub.Config({SVG: {font: \"STIX-Web\"}});}</script>\n",
              "                <script type=\"text/javascript\">window.PlotlyConfig = {MathJaxConfig: 'local'};</script>\n",
              "        <script src=\"https://cdn.plot.ly/plotly-latest.min.js\"></script>    \n",
              "            <div id=\"88258f4b-0b4a-4f2c-ad43-340f572fc0d1\" class=\"plotly-graph-div\" style=\"height:525px; width:100%;\"></div>\n",
              "            <script type=\"text/javascript\">\n",
              "                \n",
              "                    window.PLOTLYENV=window.PLOTLYENV || {};\n",
              "                    \n",
              "                if (document.getElementById(\"88258f4b-0b4a-4f2c-ad43-340f572fc0d1\")) {\n",
              "                    Plotly.newPlot(\n",
              "                        '88258f4b-0b4a-4f2c-ad43-340f572fc0d1',\n",
              "                        [{\"hoverlabel\": {\"namelength\": 0}, \"hovertemplate\": \"variable=MCD<br>Fecha_dias=%{x}<br>Precio (USD)=%{y}\", \"legendgroup\": \"variable=MCD\", \"line\": {\"color\": \"#636efa\", \"dash\": \"solid\"}, \"mode\": \"lines\", \"name\": \"variable=MCD\", \"showlegend\": true, \"type\": \"scatter\", \"x\": [\"2021-01-01\", \"2021-02-01\", \"2021-03-01\", \"2021-04-01\", \"2021-05-01\", \"2021-06-01\", \"2021-07-01\", \"2021-08-01\", \"2021-09-01\", \"2021-10-01\", \"2021-11-01\"], \"xaxis\": \"x\", \"y\": [203.18783569335938, 201.52589416503903, 220.47120666503903, 232.2157745361328, 230.06163024902344, 228.4639587402344, 240.0557861328125, 234.8632049560547, 239.7806701660156, 244.1961975097656, 243.25143432617188], \"yaxis\": \"y\"}, {\"hoverlabel\": {\"namelength\": 0}, \"hovertemplate\": \"variable=SBUX<br>Fecha_dias=%{x}<br>Precio (USD)=%{y}\", \"legendgroup\": \"variable=SBUX\", \"line\": {\"color\": \"#EF553B\", \"dash\": \"solid\"}, \"mode\": \"lines\", \"name\": \"variable=SBUX\", \"showlegend\": true, \"type\": \"scatter\", \"x\": [\"2021-01-01\", \"2021-02-01\", \"2021-03-01\", \"2021-04-01\", \"2021-05-01\", \"2021-06-01\", \"2021-07-01\", \"2021-08-01\", \"2021-09-01\", \"2021-10-01\", \"2021-11-01\"], \"xaxis\": \"x\", \"y\": [95.2356948852539, 106.27323150634766, 107.95069885253906, 113.10767364501952, 112.50504302978516, 110.89952850341795, 120.4411849975586, 116.53327178955078, 109.8364028930664, 105.61460876464844, 109.16928100585938], \"yaxis\": \"y\"}, {\"hoverlabel\": {\"namelength\": 0}, \"hovertemplate\": \"variable=GOOG<br>Fecha_dias=%{x}<br>Precio (USD)=%{y}\", \"legendgroup\": \"variable=GOOG\", \"line\": {\"color\": \"#00cc96\", \"dash\": \"solid\"}, \"mode\": \"lines\", \"name\": \"variable=GOOG\", \"showlegend\": true, \"type\": \"scatter\", \"x\": [\"2021-01-01\", \"2021-02-01\", \"2021-03-01\", \"2021-04-01\", \"2021-05-01\", \"2021-06-01\", \"2021-07-01\", \"2021-08-01\", \"2021-09-01\", \"2021-10-01\", \"2021-11-01\"], \"xaxis\": \"x\", \"y\": [1835.739990234375, 2036.8599853515625, 2068.6298828125, 2410.1201171875, 2411.56005859375, 2506.320068359375, 2704.419921875, 2909.239990234375, 2665.31005859375, 2965.409912109375, 2849.0400390625], \"yaxis\": \"y\"}, {\"hoverlabel\": {\"namelength\": 0}, \"hovertemplate\": \"variable=AMZN<br>Fecha_dias=%{x}<br>Precio (USD)=%{y}\", \"legendgroup\": \"variable=AMZN\", \"line\": {\"color\": \"#ab63fa\", \"dash\": \"solid\"}, \"mode\": \"lines\", \"name\": \"variable=AMZN\", \"showlegend\": true, \"type\": \"scatter\", \"x\": [\"2021-01-01\", \"2021-02-01\", \"2021-03-01\", \"2021-04-01\", \"2021-05-01\", \"2021-06-01\", \"2021-07-01\", \"2021-08-01\", \"2021-09-01\", \"2021-10-01\", \"2021-11-01\"], \"xaxis\": \"x\", \"y\": [3206.199951171875, 3092.929931640625, 3094.080078125, 3467.419921875, 3223.070068359375, 3440.159912109375, 3327.590087890625, 3470.7900390625, 3285.0400390625, 3372.429931640625, 3507.070068359375], \"yaxis\": \"y\"}, {\"hoverlabel\": {\"namelength\": 0}, \"hovertemplate\": \"variable=MSFT<br>Fecha_dias=%{x}<br>Precio (USD)=%{y}\", \"legendgroup\": \"variable=MSFT\", \"line\": {\"color\": \"#FFA15A\", \"dash\": \"solid\"}, \"mode\": \"lines\", \"name\": \"variable=MSFT\", \"showlegend\": true, \"type\": \"scatter\", \"x\": [\"2021-01-01\", \"2021-02-01\", \"2021-03-01\", \"2021-04-01\", \"2021-05-01\", \"2021-06-01\", \"2021-07-01\", \"2021-08-01\", \"2021-09-01\", \"2021-10-01\", \"2021-11-01\"], \"xaxis\": \"x\", \"y\": [230.03179931640625, 230.4483184814453, 234.3486328125, 250.6596984863281, 248.17477416992188, 269.8886108398437, 283.8463134765625, 300.7529602050781, 281.40518188476557, 331.014404296875, 329.9862976074219], \"yaxis\": \"y\"}, {\"hoverlabel\": {\"namelength\": 0}, \"hovertemplate\": \"variable=JPM<br>Fecha_dias=%{x}<br>Precio (USD)=%{y}\", \"legendgroup\": \"variable=JPM\", \"line\": {\"color\": \"#19d3f3\", \"dash\": \"solid\"}, \"mode\": \"lines\", \"name\": \"variable=JPM\", \"showlegend\": true, \"type\": \"scatter\", \"x\": [\"2021-01-01\", \"2021-02-01\", \"2021-03-01\", \"2021-04-01\", \"2021-05-01\", \"2021-06-01\", \"2021-07-01\", \"2021-08-01\", \"2021-09-01\", \"2021-10-01\", \"2021-11-01\"], \"xaxis\": \"x\", \"y\": [125.51795959472656, 144.5986785888672, 149.5702667236328, 151.12266540527344, 162.3208465576172, 153.72250366210938, 150.00645446777344, 158.99192810058594, 162.70953369140625, 168.8723907470703, 158.8300018310547], \"yaxis\": \"y\"}, {\"hoverlabel\": {\"namelength\": 0}, \"hovertemplate\": \"variable=BAC<br>Fecha_dias=%{x}<br>Precio (USD)=%{y}\", \"legendgroup\": \"variable=BAC\", \"line\": {\"color\": \"#FF6692\", \"dash\": \"solid\"}, \"mode\": \"lines\", \"name\": \"variable=BAC\", \"showlegend\": true, \"type\": \"scatter\", \"x\": [\"2021-01-01\", \"2021-02-01\", \"2021-03-01\", \"2021-04-01\", \"2021-05-01\", \"2021-06-01\", \"2021-07-01\", \"2021-08-01\", \"2021-09-01\", \"2021-10-01\", \"2021-11-01\"], \"xaxis\": \"x\", \"y\": [29.08998107910156, 34.05440902709961, 37.95923614501953, 39.96199035644531, 41.7959213256836, 40.65217590332031, 37.98161697387695, 41.33817672729492, 42.0312728881836, 47.55112838745117, 44.25698471069336], \"yaxis\": \"y\"}, {\"hoverlabel\": {\"namelength\": 0}, \"hovertemplate\": \"variable=C<br>Fecha_dias=%{x}<br>Precio (USD)=%{y}\", \"legendgroup\": \"variable=C\", \"line\": {\"color\": \"#B6E880\", \"dash\": \"solid\"}, \"mode\": \"lines\", \"name\": \"variable=C\", \"showlegend\": true, \"type\": \"scatter\", \"x\": [\"2021-01-01\", \"2021-02-01\", \"2021-03-01\", \"2021-04-01\", \"2021-05-01\", \"2021-06-01\", \"2021-07-01\", \"2021-08-01\", \"2021-09-01\", \"2021-10-01\", \"2021-11-01\"], \"xaxis\": \"x\", \"y\": [56.27167129516602, 64.47280883789061, 71.1960678100586, 69.71832275390625, 77.56448364257812, 69.7203369140625, 66.63588714599611, 71.39259338378906, 69.67504119873047, 68.66238403320311, 63.70000076293945], \"yaxis\": \"y\"}, {\"hoverlabel\": {\"namelength\": 0}, \"hovertemplate\": \"variable=MAR<br>Fecha_dias=%{x}<br>Precio (USD)=%{y}\", \"legendgroup\": \"variable=MAR\", \"line\": {\"color\": \"#FF97FF\", \"dash\": \"solid\"}, \"mode\": \"lines\", \"name\": \"variable=MAR\", \"showlegend\": true, \"type\": \"scatter\", \"x\": [\"2021-01-01\", \"2021-02-01\", \"2021-03-01\", \"2021-04-01\", \"2021-05-01\", \"2021-06-01\", \"2021-07-01\", \"2021-08-01\", \"2021-09-01\", \"2021-10-01\", \"2021-11-01\"], \"xaxis\": \"x\", \"y\": [116.30999755859376, 148.07000732421875, 148.11000061035156, 148.52000427246094, 143.5800018310547, 136.52000427246094, 145.97999572753906, 135.13999938964844, 148.08999633789062, 160.02000427246094, 147.55999755859375], \"yaxis\": \"y\"}, {\"hoverlabel\": {\"namelength\": 0}, \"hovertemplate\": \"variable=HLT<br>Fecha_dias=%{x}<br>Precio (USD)=%{y}\", \"legendgroup\": \"variable=HLT\", \"line\": {\"color\": \"#FECB52\", \"dash\": \"solid\"}, \"mode\": \"lines\", \"name\": \"variable=HLT\", \"showlegend\": true, \"type\": \"scatter\", \"x\": [\"2021-01-01\", \"2021-02-01\", \"2021-03-01\", \"2021-04-01\", \"2021-05-01\", \"2021-06-01\", \"2021-07-01\", \"2021-08-01\", \"2021-09-01\", \"2021-10-01\", \"2021-11-01\"], \"xaxis\": \"x\", \"y\": [101.38999938964844, 123.68000030517578, 120.91999816894531, 128.69999694824222, 125.2699966430664, 120.62000274658205, 131.44999694824222, 124.86000061035156, 132.11000061035156, 143.9499969482422, 135.07000732421878], \"yaxis\": \"y\"}, {\"hoverlabel\": {\"namelength\": 0}, \"hovertemplate\": \"variable=RCL<br>Fecha_dias=%{x}<br>Precio (USD)=%{y}\", \"legendgroup\": \"variable=RCL\", \"line\": {\"color\": \"#636efa\", \"dash\": \"solid\"}, \"mode\": \"lines\", \"name\": \"variable=RCL\", \"showlegend\": true, \"type\": \"scatter\", \"x\": [\"2021-01-01\", \"2021-02-01\", \"2021-03-01\", \"2021-04-01\", \"2021-05-01\", \"2021-06-01\", \"2021-07-01\", \"2021-08-01\", \"2021-09-01\", \"2021-10-01\", \"2021-11-01\"], \"xaxis\": \"x\", \"y\": [65.0, 93.2699966430664, 85.61000061035156, 86.94999694824219, 93.2699966430664, 85.27999877929688, 76.87000274658203, 82.7300033569336, 88.94999694824219, 84.43000030517578, 69.81999969482422], \"yaxis\": \"y\"}, {\"hoverlabel\": {\"namelength\": 0}, \"hovertemplate\": \"variable=V<br>Fecha_dias=%{x}<br>Precio (USD)=%{y}\", \"legendgroup\": \"variable=V\", \"line\": {\"color\": \"#EF553B\", \"dash\": \"solid\"}, \"mode\": \"lines\", \"name\": \"variable=V\", \"showlegend\": true, \"type\": \"scatter\", \"x\": [\"2021-01-01\", \"2021-02-01\", \"2021-03-01\", \"2021-04-01\", \"2021-05-01\", \"2021-06-01\", \"2021-07-01\", \"2021-08-01\", \"2021-09-01\", \"2021-10-01\", \"2021-11-01\"], \"xaxis\": \"x\", \"y\": [192.07017517089844, 211.09332275390625, 210.76402282714844, 232.49444580078125, 226.2630157470703, 233.0913543701172, 245.62217712402344, 228.3860626220703, 222.35855102539062, 211.3978576660156, 193.4294891357422], \"yaxis\": \"y\"}, {\"hoverlabel\": {\"namelength\": 0}, \"hovertemplate\": \"variable=MA<br>Fecha_dias=%{x}<br>Precio (USD)=%{y}\", \"legendgroup\": \"variable=MA\", \"line\": {\"color\": \"#00cc96\", \"dash\": \"solid\"}, \"mode\": \"lines\", \"name\": \"variable=MA\", \"showlegend\": true, \"type\": \"scatter\", \"x\": [\"2021-01-01\", \"2021-02-01\", \"2021-03-01\", \"2021-04-01\", \"2021-05-01\", \"2021-06-01\", \"2021-07-01\", \"2021-08-01\", \"2021-09-01\", \"2021-10-01\", \"2021-11-01\"], \"xaxis\": \"x\", \"y\": [314.74609375, 352.5690612792969, 354.7611083984375, 380.6769714355469, 359.7012023925781, 364.2002258300781, 384.9994201660156, 345.7931213378906, 347.24127197265625, 335.0965881347656, 314.9200134277344], \"yaxis\": \"y\"}, {\"hoverlabel\": {\"namelength\": 0}, \"hovertemplate\": \"variable=PYPL<br>Fecha_dias=%{x}<br>Precio (USD)=%{y}\", \"legendgroup\": \"variable=PYPL\", \"line\": {\"color\": \"#ab63fa\", \"dash\": \"solid\"}, \"mode\": \"lines\", \"name\": \"variable=PYPL\", \"showlegend\": true, \"type\": \"scatter\", \"x\": [\"2021-01-01\", \"2021-02-01\", \"2021-03-01\", \"2021-04-01\", \"2021-05-01\", \"2021-06-01\", \"2021-07-01\", \"2021-08-01\", \"2021-09-01\", \"2021-10-01\", \"2021-11-01\"], \"xaxis\": \"x\", \"y\": [234.30999755859372, 259.85000610351557, 242.83999633789062, 262.29000854492193, 260.01998901367193, 291.4800109863281, 275.52999877929693, 288.6600036621094, 260.20999145507807, 232.58999633789062, 184.88999938964844], \"yaxis\": \"y\"}],\n",
              "                        {\"legend\": {\"tracegroupgap\": 0}, \"paper_bgcolor\": \"#FFFFFF\", \"plot_bgcolor\": \"#FFFFFF\", \"template\": {\"data\": {\"bar\": [{\"error_x\": {\"color\": \"#2a3f5f\"}, \"error_y\": {\"color\": \"#2a3f5f\"}, \"marker\": {\"line\": {\"color\": \"#E5ECF6\", \"width\": 0.5}}, \"type\": \"bar\"}], \"barpolar\": [{\"marker\": {\"line\": {\"color\": \"#E5ECF6\", \"width\": 0.5}}, \"type\": \"barpolar\"}], \"carpet\": [{\"aaxis\": {\"endlinecolor\": \"#2a3f5f\", \"gridcolor\": \"white\", \"linecolor\": \"white\", \"minorgridcolor\": \"white\", \"startlinecolor\": \"#2a3f5f\"}, \"baxis\": {\"endlinecolor\": \"#2a3f5f\", \"gridcolor\": \"white\", \"linecolor\": \"white\", \"minorgridcolor\": \"white\", \"startlinecolor\": \"#2a3f5f\"}, \"type\": \"carpet\"}], \"choropleth\": [{\"colorbar\": {\"outlinewidth\": 0, \"ticks\": \"\"}, \"type\": \"choropleth\"}], \"contour\": [{\"colorbar\": {\"outlinewidth\": 0, \"ticks\": \"\"}, \"colorscale\": [[0.0, \"#0d0887\"], [0.1111111111111111, \"#46039f\"], [0.2222222222222222, \"#7201a8\"], [0.3333333333333333, \"#9c179e\"], [0.4444444444444444, \"#bd3786\"], [0.5555555555555556, \"#d8576b\"], [0.6666666666666666, \"#ed7953\"], [0.7777777777777778, \"#fb9f3a\"], [0.8888888888888888, \"#fdca26\"], [1.0, \"#f0f921\"]], \"type\": \"contour\"}], \"contourcarpet\": [{\"colorbar\": {\"outlinewidth\": 0, \"ticks\": \"\"}, \"type\": \"contourcarpet\"}], \"heatmap\": [{\"colorbar\": {\"outlinewidth\": 0, \"ticks\": \"\"}, \"colorscale\": [[0.0, \"#0d0887\"], [0.1111111111111111, \"#46039f\"], [0.2222222222222222, \"#7201a8\"], [0.3333333333333333, \"#9c179e\"], [0.4444444444444444, \"#bd3786\"], [0.5555555555555556, \"#d8576b\"], [0.6666666666666666, \"#ed7953\"], [0.7777777777777778, \"#fb9f3a\"], [0.8888888888888888, \"#fdca26\"], [1.0, \"#f0f921\"]], \"type\": \"heatmap\"}], \"heatmapgl\": [{\"colorbar\": {\"outlinewidth\": 0, \"ticks\": \"\"}, \"colorscale\": [[0.0, \"#0d0887\"], [0.1111111111111111, \"#46039f\"], [0.2222222222222222, \"#7201a8\"], [0.3333333333333333, \"#9c179e\"], [0.4444444444444444, \"#bd3786\"], [0.5555555555555556, \"#d8576b\"], [0.6666666666666666, \"#ed7953\"], [0.7777777777777778, \"#fb9f3a\"], [0.8888888888888888, \"#fdca26\"], [1.0, \"#f0f921\"]], \"type\": \"heatmapgl\"}], \"histogram\": [{\"marker\": {\"colorbar\": {\"outlinewidth\": 0, \"ticks\": \"\"}}, \"type\": \"histogram\"}], \"histogram2d\": [{\"colorbar\": {\"outlinewidth\": 0, \"ticks\": \"\"}, \"colorscale\": [[0.0, \"#0d0887\"], [0.1111111111111111, \"#46039f\"], [0.2222222222222222, \"#7201a8\"], [0.3333333333333333, \"#9c179e\"], [0.4444444444444444, \"#bd3786\"], [0.5555555555555556, \"#d8576b\"], [0.6666666666666666, \"#ed7953\"], [0.7777777777777778, \"#fb9f3a\"], [0.8888888888888888, \"#fdca26\"], [1.0, \"#f0f921\"]], \"type\": \"histogram2d\"}], \"histogram2dcontour\": [{\"colorbar\": {\"outlinewidth\": 0, \"ticks\": \"\"}, \"colorscale\": [[0.0, \"#0d0887\"], [0.1111111111111111, \"#46039f\"], [0.2222222222222222, \"#7201a8\"], [0.3333333333333333, \"#9c179e\"], [0.4444444444444444, \"#bd3786\"], [0.5555555555555556, \"#d8576b\"], [0.6666666666666666, \"#ed7953\"], [0.7777777777777778, \"#fb9f3a\"], [0.8888888888888888, \"#fdca26\"], [1.0, \"#f0f921\"]], \"type\": \"histogram2dcontour\"}], \"mesh3d\": [{\"colorbar\": {\"outlinewidth\": 0, \"ticks\": \"\"}, \"type\": \"mesh3d\"}], \"parcoords\": [{\"line\": {\"colorbar\": {\"outlinewidth\": 0, \"ticks\": \"\"}}, \"type\": \"parcoords\"}], \"pie\": [{\"automargin\": true, \"type\": \"pie\"}], \"scatter\": [{\"marker\": {\"colorbar\": {\"outlinewidth\": 0, \"ticks\": \"\"}}, \"type\": \"scatter\"}], \"scatter3d\": [{\"line\": {\"colorbar\": {\"outlinewidth\": 0, \"ticks\": \"\"}}, \"marker\": {\"colorbar\": {\"outlinewidth\": 0, \"ticks\": \"\"}}, \"type\": \"scatter3d\"}], \"scattercarpet\": [{\"marker\": {\"colorbar\": {\"outlinewidth\": 0, \"ticks\": \"\"}}, \"type\": \"scattercarpet\"}], \"scattergeo\": [{\"marker\": {\"colorbar\": {\"outlinewidth\": 0, \"ticks\": \"\"}}, \"type\": \"scattergeo\"}], \"scattergl\": [{\"marker\": {\"colorbar\": {\"outlinewidth\": 0, \"ticks\": \"\"}}, \"type\": \"scattergl\"}], \"scattermapbox\": [{\"marker\": {\"colorbar\": {\"outlinewidth\": 0, \"ticks\": \"\"}}, \"type\": \"scattermapbox\"}], \"scatterpolar\": [{\"marker\": {\"colorbar\": {\"outlinewidth\": 0, \"ticks\": \"\"}}, \"type\": \"scatterpolar\"}], \"scatterpolargl\": [{\"marker\": {\"colorbar\": {\"outlinewidth\": 0, \"ticks\": \"\"}}, \"type\": \"scatterpolargl\"}], \"scatterternary\": [{\"marker\": {\"colorbar\": {\"outlinewidth\": 0, \"ticks\": \"\"}}, \"type\": \"scatterternary\"}], \"surface\": [{\"colorbar\": {\"outlinewidth\": 0, \"ticks\": \"\"}, \"colorscale\": [[0.0, \"#0d0887\"], [0.1111111111111111, \"#46039f\"], [0.2222222222222222, \"#7201a8\"], [0.3333333333333333, \"#9c179e\"], [0.4444444444444444, \"#bd3786\"], [0.5555555555555556, \"#d8576b\"], [0.6666666666666666, \"#ed7953\"], [0.7777777777777778, \"#fb9f3a\"], [0.8888888888888888, \"#fdca26\"], [1.0, \"#f0f921\"]], \"type\": \"surface\"}], \"table\": [{\"cells\": {\"fill\": {\"color\": \"#EBF0F8\"}, \"line\": {\"color\": \"white\"}}, \"header\": {\"fill\": {\"color\": \"#C8D4E3\"}, \"line\": {\"color\": \"white\"}}, \"type\": \"table\"}]}, \"layout\": {\"annotationdefaults\": {\"arrowcolor\": \"#2a3f5f\", \"arrowhead\": 0, \"arrowwidth\": 1}, \"coloraxis\": {\"colorbar\": {\"outlinewidth\": 0, \"ticks\": \"\"}}, \"colorscale\": {\"diverging\": [[0, \"#8e0152\"], [0.1, \"#c51b7d\"], [0.2, \"#de77ae\"], [0.3, \"#f1b6da\"], [0.4, \"#fde0ef\"], [0.5, \"#f7f7f7\"], [0.6, \"#e6f5d0\"], [0.7, \"#b8e186\"], [0.8, \"#7fbc41\"], [0.9, \"#4d9221\"], [1, \"#276419\"]], \"sequential\": [[0.0, \"#0d0887\"], [0.1111111111111111, \"#46039f\"], [0.2222222222222222, \"#7201a8\"], [0.3333333333333333, \"#9c179e\"], [0.4444444444444444, \"#bd3786\"], [0.5555555555555556, \"#d8576b\"], [0.6666666666666666, \"#ed7953\"], [0.7777777777777778, \"#fb9f3a\"], [0.8888888888888888, \"#fdca26\"], [1.0, \"#f0f921\"]], \"sequentialminus\": [[0.0, \"#0d0887\"], [0.1111111111111111, \"#46039f\"], [0.2222222222222222, \"#7201a8\"], [0.3333333333333333, \"#9c179e\"], [0.4444444444444444, \"#bd3786\"], [0.5555555555555556, \"#d8576b\"], [0.6666666666666666, \"#ed7953\"], [0.7777777777777778, \"#fb9f3a\"], [0.8888888888888888, \"#fdca26\"], [1.0, \"#f0f921\"]]}, \"colorway\": [\"#636efa\", \"#EF553B\", \"#00cc96\", \"#ab63fa\", \"#FFA15A\", \"#19d3f3\", \"#FF6692\", \"#B6E880\", \"#FF97FF\", \"#FECB52\"], \"font\": {\"color\": \"#2a3f5f\"}, \"geo\": {\"bgcolor\": \"white\", \"lakecolor\": \"white\", \"landcolor\": \"#E5ECF6\", \"showlakes\": true, \"showland\": true, \"subunitcolor\": \"white\"}, \"hoverlabel\": {\"align\": \"left\"}, \"hovermode\": \"closest\", \"mapbox\": {\"style\": \"light\"}, \"paper_bgcolor\": \"white\", \"plot_bgcolor\": \"#E5ECF6\", \"polar\": {\"angularaxis\": {\"gridcolor\": \"white\", \"linecolor\": \"white\", \"ticks\": \"\"}, \"bgcolor\": \"#E5ECF6\", \"radialaxis\": {\"gridcolor\": \"white\", \"linecolor\": \"white\", \"ticks\": \"\"}}, \"scene\": {\"xaxis\": {\"backgroundcolor\": \"#E5ECF6\", \"gridcolor\": \"white\", \"gridwidth\": 2, \"linecolor\": \"white\", \"showbackground\": true, \"ticks\": \"\", \"zerolinecolor\": \"white\"}, \"yaxis\": {\"backgroundcolor\": \"#E5ECF6\", \"gridcolor\": \"white\", \"gridwidth\": 2, \"linecolor\": \"white\", \"showbackground\": true, \"ticks\": \"\", \"zerolinecolor\": \"white\"}, \"zaxis\": {\"backgroundcolor\": \"#E5ECF6\", \"gridcolor\": \"white\", \"gridwidth\": 2, \"linecolor\": \"white\", \"showbackground\": true, \"ticks\": \"\", \"zerolinecolor\": \"white\"}}, \"shapedefaults\": {\"line\": {\"color\": \"#2a3f5f\"}}, \"ternary\": {\"aaxis\": {\"gridcolor\": \"white\", \"linecolor\": \"white\", \"ticks\": \"\"}, \"baxis\": {\"gridcolor\": \"white\", \"linecolor\": \"white\", \"ticks\": \"\"}, \"bgcolor\": \"#E5ECF6\", \"caxis\": {\"gridcolor\": \"white\", \"linecolor\": \"white\", \"ticks\": \"\"}}, \"title\": {\"x\": 0.05}, \"xaxis\": {\"automargin\": true, \"gridcolor\": \"white\", \"linecolor\": \"white\", \"ticks\": \"\", \"title\": {\"standoff\": 15}, \"zerolinecolor\": \"white\", \"zerolinewidth\": 2}, \"yaxis\": {\"automargin\": true, \"gridcolor\": \"white\", \"linecolor\": \"white\", \"ticks\": \"\", \"title\": {\"standoff\": 15}, \"zerolinecolor\": \"white\", \"zerolinewidth\": 2}}}, \"title\": {\"text\": \"Comportamiento de precio de acciones\"}, \"xaxis\": {\"anchor\": \"y\", \"domain\": [0.0, 1.0], \"title\": {\"text\": \"Fecha_dias\"}}, \"yaxis\": {\"anchor\": \"x\", \"domain\": [0.0, 1.0], \"title\": {\"text\": \"Precio (USD)\"}}},\n",
              "                        {\"responsive\": true}\n",
              "                    ).then(function(){\n",
              "                            \n",
              "var gd = document.getElementById('88258f4b-0b4a-4f2c-ad43-340f572fc0d1');\n",
              "var x = new MutationObserver(function (mutations, observer) {{\n",
              "        var display = window.getComputedStyle(gd).display;\n",
              "        if (!display || display === 'none') {{\n",
              "            console.log([gd, 'removed!']);\n",
              "            Plotly.purge(gd);\n",
              "            observer.disconnect();\n",
              "        }}\n",
              "}});\n",
              "\n",
              "// Listen for the removal of the full notebook cells\n",
              "var notebookContainer = gd.closest('#notebook-container');\n",
              "if (notebookContainer) {{\n",
              "    x.observe(notebookContainer, {childList: true});\n",
              "}}\n",
              "\n",
              "// Listen for the clearing of the current output cell\n",
              "var outputEl = gd.closest('.output');\n",
              "if (outputEl) {{\n",
              "    x.observe(outputEl, {childList: true});\n",
              "}}\n",
              "\n",
              "                        })\n",
              "                };\n",
              "                \n",
              "            </script>\n",
              "        </div>\n",
              "</body>\n",
              "</html>"
            ]
          },
          "metadata": {}
        }
      ]
    },
    {
      "cell_type": "markdown",
      "source": [
        "# Excluyendo Amazon y GOOGLE"
      ],
      "metadata": {
        "id": "2pgxL7QNNwEw"
      }
    },
    {
      "cell_type": "code",
      "source": [
        "df_n=df.copy()\n",
        "df_n['Fecha']=df.index\n",
        "df_n= df_n.reset_index(drop=True)\n",
        "df_n= df_n.drop(columns=['GOOG','AMZN'])\n",
        "df_n"
      ],
      "metadata": {
        "colab": {
          "base_uri": "https://localhost:8080/",
          "height": 395
        },
        "id": "m8RqaEIcN06D",
        "outputId": "d79f30c4-945c-4f4b-dc5d-a1f540289a79"
      },
      "execution_count": null,
      "outputs": [
        {
          "output_type": "execute_result",
          "data": {
            "text/html": [
              "<div>\n",
              "<style scoped>\n",
              "    .dataframe tbody tr th:only-of-type {\n",
              "        vertical-align: middle;\n",
              "    }\n",
              "\n",
              "    .dataframe tbody tr th {\n",
              "        vertical-align: top;\n",
              "    }\n",
              "\n",
              "    .dataframe thead th {\n",
              "        text-align: right;\n",
              "    }\n",
              "</style>\n",
              "<table border=\"1\" class=\"dataframe\">\n",
              "  <thead>\n",
              "    <tr style=\"text-align: right;\">\n",
              "      <th></th>\n",
              "      <th>MCD</th>\n",
              "      <th>SBUX</th>\n",
              "      <th>MSFT</th>\n",
              "      <th>JPM</th>\n",
              "      <th>BAC</th>\n",
              "      <th>C</th>\n",
              "      <th>MAR</th>\n",
              "      <th>HLT</th>\n",
              "      <th>RCL</th>\n",
              "      <th>V</th>\n",
              "      <th>MA</th>\n",
              "      <th>PYPL</th>\n",
              "      <th>Fecha</th>\n",
              "    </tr>\n",
              "  </thead>\n",
              "  <tbody>\n",
              "    <tr>\n",
              "      <th>0</th>\n",
              "      <td>203.187836</td>\n",
              "      <td>95.235695</td>\n",
              "      <td>230.031799</td>\n",
              "      <td>125.517960</td>\n",
              "      <td>29.089981</td>\n",
              "      <td>56.271671</td>\n",
              "      <td>116.309998</td>\n",
              "      <td>101.389999</td>\n",
              "      <td>65.000000</td>\n",
              "      <td>192.070175</td>\n",
              "      <td>314.746094</td>\n",
              "      <td>234.309998</td>\n",
              "      <td>2021-01-01</td>\n",
              "    </tr>\n",
              "    <tr>\n",
              "      <th>1</th>\n",
              "      <td>201.525894</td>\n",
              "      <td>106.273232</td>\n",
              "      <td>230.448318</td>\n",
              "      <td>144.598679</td>\n",
              "      <td>34.054409</td>\n",
              "      <td>64.472809</td>\n",
              "      <td>148.070007</td>\n",
              "      <td>123.680000</td>\n",
              "      <td>93.269997</td>\n",
              "      <td>211.093323</td>\n",
              "      <td>352.569061</td>\n",
              "      <td>259.850006</td>\n",
              "      <td>2021-02-01</td>\n",
              "    </tr>\n",
              "    <tr>\n",
              "      <th>2</th>\n",
              "      <td>220.471207</td>\n",
              "      <td>107.950699</td>\n",
              "      <td>234.348633</td>\n",
              "      <td>149.570267</td>\n",
              "      <td>37.959236</td>\n",
              "      <td>71.196068</td>\n",
              "      <td>148.110001</td>\n",
              "      <td>120.919998</td>\n",
              "      <td>85.610001</td>\n",
              "      <td>210.764023</td>\n",
              "      <td>354.761108</td>\n",
              "      <td>242.839996</td>\n",
              "      <td>2021-03-01</td>\n",
              "    </tr>\n",
              "    <tr>\n",
              "      <th>3</th>\n",
              "      <td>232.215775</td>\n",
              "      <td>113.107674</td>\n",
              "      <td>250.659698</td>\n",
              "      <td>151.122665</td>\n",
              "      <td>39.961990</td>\n",
              "      <td>69.718323</td>\n",
              "      <td>148.520004</td>\n",
              "      <td>128.699997</td>\n",
              "      <td>86.949997</td>\n",
              "      <td>232.494446</td>\n",
              "      <td>380.676971</td>\n",
              "      <td>262.290009</td>\n",
              "      <td>2021-04-01</td>\n",
              "    </tr>\n",
              "    <tr>\n",
              "      <th>4</th>\n",
              "      <td>230.061630</td>\n",
              "      <td>112.505043</td>\n",
              "      <td>248.174774</td>\n",
              "      <td>162.320847</td>\n",
              "      <td>41.795921</td>\n",
              "      <td>77.564484</td>\n",
              "      <td>143.580002</td>\n",
              "      <td>125.269997</td>\n",
              "      <td>93.269997</td>\n",
              "      <td>226.263016</td>\n",
              "      <td>359.701202</td>\n",
              "      <td>260.019989</td>\n",
              "      <td>2021-05-01</td>\n",
              "    </tr>\n",
              "    <tr>\n",
              "      <th>5</th>\n",
              "      <td>228.463959</td>\n",
              "      <td>110.899529</td>\n",
              "      <td>269.888611</td>\n",
              "      <td>153.722504</td>\n",
              "      <td>40.652176</td>\n",
              "      <td>69.720337</td>\n",
              "      <td>136.520004</td>\n",
              "      <td>120.620003</td>\n",
              "      <td>85.279999</td>\n",
              "      <td>233.091354</td>\n",
              "      <td>364.200226</td>\n",
              "      <td>291.480011</td>\n",
              "      <td>2021-06-01</td>\n",
              "    </tr>\n",
              "    <tr>\n",
              "      <th>6</th>\n",
              "      <td>240.055786</td>\n",
              "      <td>120.441185</td>\n",
              "      <td>283.846313</td>\n",
              "      <td>150.006454</td>\n",
              "      <td>37.981617</td>\n",
              "      <td>66.635887</td>\n",
              "      <td>145.979996</td>\n",
              "      <td>131.449997</td>\n",
              "      <td>76.870003</td>\n",
              "      <td>245.622177</td>\n",
              "      <td>384.999420</td>\n",
              "      <td>275.529999</td>\n",
              "      <td>2021-07-01</td>\n",
              "    </tr>\n",
              "    <tr>\n",
              "      <th>7</th>\n",
              "      <td>234.863205</td>\n",
              "      <td>116.533272</td>\n",
              "      <td>300.752960</td>\n",
              "      <td>158.991928</td>\n",
              "      <td>41.338177</td>\n",
              "      <td>71.392593</td>\n",
              "      <td>135.139999</td>\n",
              "      <td>124.860001</td>\n",
              "      <td>82.730003</td>\n",
              "      <td>228.386063</td>\n",
              "      <td>345.793121</td>\n",
              "      <td>288.660004</td>\n",
              "      <td>2021-08-01</td>\n",
              "    </tr>\n",
              "    <tr>\n",
              "      <th>8</th>\n",
              "      <td>239.780670</td>\n",
              "      <td>109.836403</td>\n",
              "      <td>281.405182</td>\n",
              "      <td>162.709534</td>\n",
              "      <td>42.031273</td>\n",
              "      <td>69.675041</td>\n",
              "      <td>148.089996</td>\n",
              "      <td>132.110001</td>\n",
              "      <td>88.949997</td>\n",
              "      <td>222.358551</td>\n",
              "      <td>347.241272</td>\n",
              "      <td>260.209991</td>\n",
              "      <td>2021-09-01</td>\n",
              "    </tr>\n",
              "    <tr>\n",
              "      <th>9</th>\n",
              "      <td>244.196198</td>\n",
              "      <td>105.614609</td>\n",
              "      <td>331.014404</td>\n",
              "      <td>168.872391</td>\n",
              "      <td>47.551128</td>\n",
              "      <td>68.662384</td>\n",
              "      <td>160.020004</td>\n",
              "      <td>143.949997</td>\n",
              "      <td>84.430000</td>\n",
              "      <td>211.397858</td>\n",
              "      <td>335.096588</td>\n",
              "      <td>232.589996</td>\n",
              "      <td>2021-10-01</td>\n",
              "    </tr>\n",
              "    <tr>\n",
              "      <th>10</th>\n",
              "      <td>243.251434</td>\n",
              "      <td>109.169281</td>\n",
              "      <td>329.986298</td>\n",
              "      <td>158.830002</td>\n",
              "      <td>44.256985</td>\n",
              "      <td>63.700001</td>\n",
              "      <td>147.559998</td>\n",
              "      <td>135.070007</td>\n",
              "      <td>69.820000</td>\n",
              "      <td>193.429489</td>\n",
              "      <td>314.920013</td>\n",
              "      <td>184.889999</td>\n",
              "      <td>2021-11-01</td>\n",
              "    </tr>\n",
              "  </tbody>\n",
              "</table>\n",
              "</div>"
            ],
            "text/plain": [
              "           MCD        SBUX        MSFT  ...          MA        PYPL       Fecha\n",
              "0   203.187836   95.235695  230.031799  ...  314.746094  234.309998  2021-01-01\n",
              "1   201.525894  106.273232  230.448318  ...  352.569061  259.850006  2021-02-01\n",
              "2   220.471207  107.950699  234.348633  ...  354.761108  242.839996  2021-03-01\n",
              "3   232.215775  113.107674  250.659698  ...  380.676971  262.290009  2021-04-01\n",
              "4   230.061630  112.505043  248.174774  ...  359.701202  260.019989  2021-05-01\n",
              "5   228.463959  110.899529  269.888611  ...  364.200226  291.480011  2021-06-01\n",
              "6   240.055786  120.441185  283.846313  ...  384.999420  275.529999  2021-07-01\n",
              "7   234.863205  116.533272  300.752960  ...  345.793121  288.660004  2021-08-01\n",
              "8   239.780670  109.836403  281.405182  ...  347.241272  260.209991  2021-09-01\n",
              "9   244.196198  105.614609  331.014404  ...  335.096588  232.589996  2021-10-01\n",
              "10  243.251434  109.169281  329.986298  ...  314.920013  184.889999  2021-11-01\n",
              "\n",
              "[11 rows x 13 columns]"
            ]
          },
          "metadata": {},
          "execution_count": 55
        }
      ]
    },
    {
      "cell_type": "code",
      "source": [
        "columnas=list(df.columns)\n",
        "unwanted_num = {'AMZN', 'GOOG'}\n",
        "\n",
        "col_final = [x for x in columnas if x not in unwanted_num]\n",
        "col_final"
      ],
      "metadata": {
        "colab": {
          "base_uri": "https://localhost:8080/"
        },
        "id": "mekxZmA3OGmW",
        "outputId": "bd92ff0d-b212-4b2e-d5af-e867f3599014"
      },
      "execution_count": null,
      "outputs": [
        {
          "output_type": "execute_result",
          "data": {
            "text/plain": [
              "['MCD',\n",
              " 'SBUX',\n",
              " 'MSFT',\n",
              " 'JPM',\n",
              " 'BAC',\n",
              " 'C',\n",
              " 'MAR',\n",
              " 'HLT',\n",
              " 'RCL',\n",
              " 'V',\n",
              " 'MA',\n",
              " 'PYPL']"
            ]
          },
          "metadata": {},
          "execution_count": 65
        }
      ]
    },
    {
      "cell_type": "code",
      "source": [
        "df_long = pd.melt(df_n , value_vars=col_final,id_vars='Fecha')\n",
        "df_long"
      ],
      "metadata": {
        "colab": {
          "base_uri": "https://localhost:8080/",
          "height": 424
        },
        "id": "LxpmXbJeN9A0",
        "outputId": "34ad75f0-dc12-46ff-d2cd-bd55c49a878a"
      },
      "execution_count": null,
      "outputs": [
        {
          "output_type": "execute_result",
          "data": {
            "text/html": [
              "<div>\n",
              "<style scoped>\n",
              "    .dataframe tbody tr th:only-of-type {\n",
              "        vertical-align: middle;\n",
              "    }\n",
              "\n",
              "    .dataframe tbody tr th {\n",
              "        vertical-align: top;\n",
              "    }\n",
              "\n",
              "    .dataframe thead th {\n",
              "        text-align: right;\n",
              "    }\n",
              "</style>\n",
              "<table border=\"1\" class=\"dataframe\">\n",
              "  <thead>\n",
              "    <tr style=\"text-align: right;\">\n",
              "      <th></th>\n",
              "      <th>Fecha</th>\n",
              "      <th>variable</th>\n",
              "      <th>value</th>\n",
              "    </tr>\n",
              "  </thead>\n",
              "  <tbody>\n",
              "    <tr>\n",
              "      <th>0</th>\n",
              "      <td>2021-01-01</td>\n",
              "      <td>MCD</td>\n",
              "      <td>203.187836</td>\n",
              "    </tr>\n",
              "    <tr>\n",
              "      <th>1</th>\n",
              "      <td>2021-02-01</td>\n",
              "      <td>MCD</td>\n",
              "      <td>201.525894</td>\n",
              "    </tr>\n",
              "    <tr>\n",
              "      <th>2</th>\n",
              "      <td>2021-03-01</td>\n",
              "      <td>MCD</td>\n",
              "      <td>220.471207</td>\n",
              "    </tr>\n",
              "    <tr>\n",
              "      <th>3</th>\n",
              "      <td>2021-04-01</td>\n",
              "      <td>MCD</td>\n",
              "      <td>232.215775</td>\n",
              "    </tr>\n",
              "    <tr>\n",
              "      <th>4</th>\n",
              "      <td>2021-05-01</td>\n",
              "      <td>MCD</td>\n",
              "      <td>230.061630</td>\n",
              "    </tr>\n",
              "    <tr>\n",
              "      <th>...</th>\n",
              "      <td>...</td>\n",
              "      <td>...</td>\n",
              "      <td>...</td>\n",
              "    </tr>\n",
              "    <tr>\n",
              "      <th>127</th>\n",
              "      <td>2021-07-01</td>\n",
              "      <td>PYPL</td>\n",
              "      <td>275.529999</td>\n",
              "    </tr>\n",
              "    <tr>\n",
              "      <th>128</th>\n",
              "      <td>2021-08-01</td>\n",
              "      <td>PYPL</td>\n",
              "      <td>288.660004</td>\n",
              "    </tr>\n",
              "    <tr>\n",
              "      <th>129</th>\n",
              "      <td>2021-09-01</td>\n",
              "      <td>PYPL</td>\n",
              "      <td>260.209991</td>\n",
              "    </tr>\n",
              "    <tr>\n",
              "      <th>130</th>\n",
              "      <td>2021-10-01</td>\n",
              "      <td>PYPL</td>\n",
              "      <td>232.589996</td>\n",
              "    </tr>\n",
              "    <tr>\n",
              "      <th>131</th>\n",
              "      <td>2021-11-01</td>\n",
              "      <td>PYPL</td>\n",
              "      <td>184.889999</td>\n",
              "    </tr>\n",
              "  </tbody>\n",
              "</table>\n",
              "<p>132 rows × 3 columns</p>\n",
              "</div>"
            ],
            "text/plain": [
              "          Fecha variable       value\n",
              "0    2021-01-01      MCD  203.187836\n",
              "1    2021-02-01      MCD  201.525894\n",
              "2    2021-03-01      MCD  220.471207\n",
              "3    2021-04-01      MCD  232.215775\n",
              "4    2021-05-01      MCD  230.061630\n",
              "..          ...      ...         ...\n",
              "127  2021-07-01     PYPL  275.529999\n",
              "128  2021-08-01     PYPL  288.660004\n",
              "129  2021-09-01     PYPL  260.209991\n",
              "130  2021-10-01     PYPL  232.589996\n",
              "131  2021-11-01     PYPL  184.889999\n",
              "\n",
              "[132 rows x 3 columns]"
            ]
          },
          "metadata": {},
          "execution_count": 66
        }
      ]
    },
    {
      "cell_type": "code",
      "source": [
        "import plotly.express as px\n",
        "\n",
        "\n",
        "fig=px.line(data_frame=df_long,x='Fecha',y='value',line_group='variable',color='variable',title='Comportamiento de precio de acciones',\\\n",
        "             labels={\n",
        "                     \"Fecha\": \"Fecha_dias\",\n",
        "                     \"value\": \"Precio (USD)\"\n",
        "                 })\n",
        "fig.update_layout(paper_bgcolor=\"#FFFFFF\",plot_bgcolor='#FFFFFF',)\n",
        "\n",
        "fig.show()"
      ],
      "metadata": {
        "colab": {
          "base_uri": "https://localhost:8080/",
          "height": 542
        },
        "id": "c7uAuDP-PFfT",
        "outputId": "12effcce-53fd-4eb8-f9a8-5b1996d38c52"
      },
      "execution_count": null,
      "outputs": [
        {
          "output_type": "display_data",
          "data": {
            "text/html": [
              "<html>\n",
              "<head><meta charset=\"utf-8\" /></head>\n",
              "<body>\n",
              "    <div>\n",
              "            <script src=\"https://cdnjs.cloudflare.com/ajax/libs/mathjax/2.7.5/MathJax.js?config=TeX-AMS-MML_SVG\"></script><script type=\"text/javascript\">if (window.MathJax) {MathJax.Hub.Config({SVG: {font: \"STIX-Web\"}});}</script>\n",
              "                <script type=\"text/javascript\">window.PlotlyConfig = {MathJaxConfig: 'local'};</script>\n",
              "        <script src=\"https://cdn.plot.ly/plotly-latest.min.js\"></script>    \n",
              "            <div id=\"d21c64e5-d86d-4598-950f-1becde92cc19\" class=\"plotly-graph-div\" style=\"height:525px; width:100%;\"></div>\n",
              "            <script type=\"text/javascript\">\n",
              "                \n",
              "                    window.PLOTLYENV=window.PLOTLYENV || {};\n",
              "                    \n",
              "                if (document.getElementById(\"d21c64e5-d86d-4598-950f-1becde92cc19\")) {\n",
              "                    Plotly.newPlot(\n",
              "                        'd21c64e5-d86d-4598-950f-1becde92cc19',\n",
              "                        [{\"hoverlabel\": {\"namelength\": 0}, \"hovertemplate\": \"variable=MCD<br>Fecha_dias=%{x}<br>Precio (USD)=%{y}\", \"legendgroup\": \"variable=MCD\", \"line\": {\"color\": \"#636efa\", \"dash\": \"solid\"}, \"mode\": \"lines\", \"name\": \"variable=MCD\", \"showlegend\": true, \"type\": \"scatter\", \"x\": [\"2021-01-01\", \"2021-02-01\", \"2021-03-01\", \"2021-04-01\", \"2021-05-01\", \"2021-06-01\", \"2021-07-01\", \"2021-08-01\", \"2021-09-01\", \"2021-10-01\", \"2021-11-01\"], \"xaxis\": \"x\", \"y\": [203.18783569335938, 201.52589416503903, 220.47120666503903, 232.2157745361328, 230.06163024902344, 228.4639587402344, 240.0557861328125, 234.8632049560547, 239.7806701660156, 244.1961975097656, 243.25143432617188], \"yaxis\": \"y\"}, {\"hoverlabel\": {\"namelength\": 0}, \"hovertemplate\": \"variable=SBUX<br>Fecha_dias=%{x}<br>Precio (USD)=%{y}\", \"legendgroup\": \"variable=SBUX\", \"line\": {\"color\": \"#EF553B\", \"dash\": \"solid\"}, \"mode\": \"lines\", \"name\": \"variable=SBUX\", \"showlegend\": true, \"type\": \"scatter\", \"x\": [\"2021-01-01\", \"2021-02-01\", \"2021-03-01\", \"2021-04-01\", \"2021-05-01\", \"2021-06-01\", \"2021-07-01\", \"2021-08-01\", \"2021-09-01\", \"2021-10-01\", \"2021-11-01\"], \"xaxis\": \"x\", \"y\": [95.2356948852539, 106.27323150634766, 107.95069885253906, 113.10767364501952, 112.50504302978516, 110.89952850341795, 120.4411849975586, 116.53327178955078, 109.8364028930664, 105.61460876464844, 109.16928100585938], \"yaxis\": \"y\"}, {\"hoverlabel\": {\"namelength\": 0}, \"hovertemplate\": \"variable=MSFT<br>Fecha_dias=%{x}<br>Precio (USD)=%{y}\", \"legendgroup\": \"variable=MSFT\", \"line\": {\"color\": \"#00cc96\", \"dash\": \"solid\"}, \"mode\": \"lines\", \"name\": \"variable=MSFT\", \"showlegend\": true, \"type\": \"scatter\", \"x\": [\"2021-01-01\", \"2021-02-01\", \"2021-03-01\", \"2021-04-01\", \"2021-05-01\", \"2021-06-01\", \"2021-07-01\", \"2021-08-01\", \"2021-09-01\", \"2021-10-01\", \"2021-11-01\"], \"xaxis\": \"x\", \"y\": [230.03179931640625, 230.4483184814453, 234.3486328125, 250.6596984863281, 248.17477416992188, 269.8886108398437, 283.8463134765625, 300.7529602050781, 281.40518188476557, 331.014404296875, 329.9862976074219], \"yaxis\": \"y\"}, {\"hoverlabel\": {\"namelength\": 0}, \"hovertemplate\": \"variable=JPM<br>Fecha_dias=%{x}<br>Precio (USD)=%{y}\", \"legendgroup\": \"variable=JPM\", \"line\": {\"color\": \"#ab63fa\", \"dash\": \"solid\"}, \"mode\": \"lines\", \"name\": \"variable=JPM\", \"showlegend\": true, \"type\": \"scatter\", \"x\": [\"2021-01-01\", \"2021-02-01\", \"2021-03-01\", \"2021-04-01\", \"2021-05-01\", \"2021-06-01\", \"2021-07-01\", \"2021-08-01\", \"2021-09-01\", \"2021-10-01\", \"2021-11-01\"], \"xaxis\": \"x\", \"y\": [125.51795959472656, 144.5986785888672, 149.5702667236328, 151.12266540527344, 162.3208465576172, 153.72250366210938, 150.00645446777344, 158.99192810058594, 162.70953369140625, 168.8723907470703, 158.8300018310547], \"yaxis\": \"y\"}, {\"hoverlabel\": {\"namelength\": 0}, \"hovertemplate\": \"variable=BAC<br>Fecha_dias=%{x}<br>Precio (USD)=%{y}\", \"legendgroup\": \"variable=BAC\", \"line\": {\"color\": \"#FFA15A\", \"dash\": \"solid\"}, \"mode\": \"lines\", \"name\": \"variable=BAC\", \"showlegend\": true, \"type\": \"scatter\", \"x\": [\"2021-01-01\", \"2021-02-01\", \"2021-03-01\", \"2021-04-01\", \"2021-05-01\", \"2021-06-01\", \"2021-07-01\", \"2021-08-01\", \"2021-09-01\", \"2021-10-01\", \"2021-11-01\"], \"xaxis\": \"x\", \"y\": [29.08998107910156, 34.05440902709961, 37.95923614501953, 39.96199035644531, 41.7959213256836, 40.65217590332031, 37.98161697387695, 41.33817672729492, 42.0312728881836, 47.55112838745117, 44.25698471069336], \"yaxis\": \"y\"}, {\"hoverlabel\": {\"namelength\": 0}, \"hovertemplate\": \"variable=C<br>Fecha_dias=%{x}<br>Precio (USD)=%{y}\", \"legendgroup\": \"variable=C\", \"line\": {\"color\": \"#19d3f3\", \"dash\": \"solid\"}, \"mode\": \"lines\", \"name\": \"variable=C\", \"showlegend\": true, \"type\": \"scatter\", \"x\": [\"2021-01-01\", \"2021-02-01\", \"2021-03-01\", \"2021-04-01\", \"2021-05-01\", \"2021-06-01\", \"2021-07-01\", \"2021-08-01\", \"2021-09-01\", \"2021-10-01\", \"2021-11-01\"], \"xaxis\": \"x\", \"y\": [56.27167129516602, 64.47280883789061, 71.1960678100586, 69.71832275390625, 77.56448364257812, 69.7203369140625, 66.63588714599611, 71.39259338378906, 69.67504119873047, 68.66238403320311, 63.70000076293945], \"yaxis\": \"y\"}, {\"hoverlabel\": {\"namelength\": 0}, \"hovertemplate\": \"variable=MAR<br>Fecha_dias=%{x}<br>Precio (USD)=%{y}\", \"legendgroup\": \"variable=MAR\", \"line\": {\"color\": \"#FF6692\", \"dash\": \"solid\"}, \"mode\": \"lines\", \"name\": \"variable=MAR\", \"showlegend\": true, \"type\": \"scatter\", \"x\": [\"2021-01-01\", \"2021-02-01\", \"2021-03-01\", \"2021-04-01\", \"2021-05-01\", \"2021-06-01\", \"2021-07-01\", \"2021-08-01\", \"2021-09-01\", \"2021-10-01\", \"2021-11-01\"], \"xaxis\": \"x\", \"y\": [116.30999755859376, 148.07000732421875, 148.11000061035156, 148.52000427246094, 143.5800018310547, 136.52000427246094, 145.97999572753906, 135.13999938964844, 148.08999633789062, 160.02000427246094, 147.55999755859375], \"yaxis\": \"y\"}, {\"hoverlabel\": {\"namelength\": 0}, \"hovertemplate\": \"variable=HLT<br>Fecha_dias=%{x}<br>Precio (USD)=%{y}\", \"legendgroup\": \"variable=HLT\", \"line\": {\"color\": \"#B6E880\", \"dash\": \"solid\"}, \"mode\": \"lines\", \"name\": \"variable=HLT\", \"showlegend\": true, \"type\": \"scatter\", \"x\": [\"2021-01-01\", \"2021-02-01\", \"2021-03-01\", \"2021-04-01\", \"2021-05-01\", \"2021-06-01\", \"2021-07-01\", \"2021-08-01\", \"2021-09-01\", \"2021-10-01\", \"2021-11-01\"], \"xaxis\": \"x\", \"y\": [101.38999938964844, 123.68000030517578, 120.91999816894531, 128.69999694824222, 125.2699966430664, 120.62000274658205, 131.44999694824222, 124.86000061035156, 132.11000061035156, 143.9499969482422, 135.07000732421878], \"yaxis\": \"y\"}, {\"hoverlabel\": {\"namelength\": 0}, \"hovertemplate\": \"variable=RCL<br>Fecha_dias=%{x}<br>Precio (USD)=%{y}\", \"legendgroup\": \"variable=RCL\", \"line\": {\"color\": \"#FF97FF\", \"dash\": \"solid\"}, \"mode\": \"lines\", \"name\": \"variable=RCL\", \"showlegend\": true, \"type\": \"scatter\", \"x\": [\"2021-01-01\", \"2021-02-01\", \"2021-03-01\", \"2021-04-01\", \"2021-05-01\", \"2021-06-01\", \"2021-07-01\", \"2021-08-01\", \"2021-09-01\", \"2021-10-01\", \"2021-11-01\"], \"xaxis\": \"x\", \"y\": [65.0, 93.2699966430664, 85.61000061035156, 86.94999694824219, 93.2699966430664, 85.27999877929688, 76.87000274658203, 82.7300033569336, 88.94999694824219, 84.43000030517578, 69.81999969482422], \"yaxis\": \"y\"}, {\"hoverlabel\": {\"namelength\": 0}, \"hovertemplate\": \"variable=V<br>Fecha_dias=%{x}<br>Precio (USD)=%{y}\", \"legendgroup\": \"variable=V\", \"line\": {\"color\": \"#FECB52\", \"dash\": \"solid\"}, \"mode\": \"lines\", \"name\": \"variable=V\", \"showlegend\": true, \"type\": \"scatter\", \"x\": [\"2021-01-01\", \"2021-02-01\", \"2021-03-01\", \"2021-04-01\", \"2021-05-01\", \"2021-06-01\", \"2021-07-01\", \"2021-08-01\", \"2021-09-01\", \"2021-10-01\", \"2021-11-01\"], \"xaxis\": \"x\", \"y\": [192.07017517089844, 211.09332275390625, 210.76402282714844, 232.49444580078125, 226.2630157470703, 233.0913543701172, 245.62217712402344, 228.3860626220703, 222.35855102539062, 211.3978576660156, 193.4294891357422], \"yaxis\": \"y\"}, {\"hoverlabel\": {\"namelength\": 0}, \"hovertemplate\": \"variable=MA<br>Fecha_dias=%{x}<br>Precio (USD)=%{y}\", \"legendgroup\": \"variable=MA\", \"line\": {\"color\": \"#636efa\", \"dash\": \"solid\"}, \"mode\": \"lines\", \"name\": \"variable=MA\", \"showlegend\": true, \"type\": \"scatter\", \"x\": [\"2021-01-01\", \"2021-02-01\", \"2021-03-01\", \"2021-04-01\", \"2021-05-01\", \"2021-06-01\", \"2021-07-01\", \"2021-08-01\", \"2021-09-01\", \"2021-10-01\", \"2021-11-01\"], \"xaxis\": \"x\", \"y\": [314.74609375, 352.5690612792969, 354.7611083984375, 380.6769714355469, 359.7012023925781, 364.2002258300781, 384.9994201660156, 345.7931213378906, 347.24127197265625, 335.0965881347656, 314.9200134277344], \"yaxis\": \"y\"}, {\"hoverlabel\": {\"namelength\": 0}, \"hovertemplate\": \"variable=PYPL<br>Fecha_dias=%{x}<br>Precio (USD)=%{y}\", \"legendgroup\": \"variable=PYPL\", \"line\": {\"color\": \"#EF553B\", \"dash\": \"solid\"}, \"mode\": \"lines\", \"name\": \"variable=PYPL\", \"showlegend\": true, \"type\": \"scatter\", \"x\": [\"2021-01-01\", \"2021-02-01\", \"2021-03-01\", \"2021-04-01\", \"2021-05-01\", \"2021-06-01\", \"2021-07-01\", \"2021-08-01\", \"2021-09-01\", \"2021-10-01\", \"2021-11-01\"], \"xaxis\": \"x\", \"y\": [234.30999755859372, 259.85000610351557, 242.83999633789062, 262.29000854492193, 260.01998901367193, 291.4800109863281, 275.52999877929693, 288.6600036621094, 260.20999145507807, 232.58999633789062, 184.88999938964844], \"yaxis\": \"y\"}],\n",
              "                        {\"legend\": {\"tracegroupgap\": 0}, \"paper_bgcolor\": \"#FFFFFF\", \"plot_bgcolor\": \"#FFFFFF\", \"template\": {\"data\": {\"bar\": [{\"error_x\": {\"color\": \"#2a3f5f\"}, \"error_y\": {\"color\": \"#2a3f5f\"}, \"marker\": {\"line\": {\"color\": \"#E5ECF6\", \"width\": 0.5}}, \"type\": \"bar\"}], \"barpolar\": [{\"marker\": {\"line\": {\"color\": \"#E5ECF6\", \"width\": 0.5}}, \"type\": \"barpolar\"}], \"carpet\": [{\"aaxis\": {\"endlinecolor\": \"#2a3f5f\", \"gridcolor\": \"white\", \"linecolor\": \"white\", \"minorgridcolor\": \"white\", \"startlinecolor\": \"#2a3f5f\"}, \"baxis\": {\"endlinecolor\": \"#2a3f5f\", \"gridcolor\": \"white\", \"linecolor\": \"white\", \"minorgridcolor\": \"white\", \"startlinecolor\": \"#2a3f5f\"}, \"type\": \"carpet\"}], \"choropleth\": [{\"colorbar\": {\"outlinewidth\": 0, \"ticks\": \"\"}, \"type\": \"choropleth\"}], \"contour\": [{\"colorbar\": {\"outlinewidth\": 0, \"ticks\": \"\"}, \"colorscale\": [[0.0, \"#0d0887\"], [0.1111111111111111, \"#46039f\"], [0.2222222222222222, \"#7201a8\"], [0.3333333333333333, \"#9c179e\"], [0.4444444444444444, \"#bd3786\"], [0.5555555555555556, \"#d8576b\"], [0.6666666666666666, \"#ed7953\"], [0.7777777777777778, \"#fb9f3a\"], [0.8888888888888888, \"#fdca26\"], [1.0, \"#f0f921\"]], \"type\": \"contour\"}], \"contourcarpet\": [{\"colorbar\": {\"outlinewidth\": 0, \"ticks\": \"\"}, \"type\": \"contourcarpet\"}], \"heatmap\": [{\"colorbar\": {\"outlinewidth\": 0, \"ticks\": \"\"}, \"colorscale\": [[0.0, \"#0d0887\"], [0.1111111111111111, \"#46039f\"], [0.2222222222222222, \"#7201a8\"], [0.3333333333333333, \"#9c179e\"], [0.4444444444444444, \"#bd3786\"], [0.5555555555555556, \"#d8576b\"], [0.6666666666666666, \"#ed7953\"], [0.7777777777777778, \"#fb9f3a\"], [0.8888888888888888, \"#fdca26\"], [1.0, \"#f0f921\"]], \"type\": \"heatmap\"}], \"heatmapgl\": [{\"colorbar\": {\"outlinewidth\": 0, \"ticks\": \"\"}, \"colorscale\": [[0.0, \"#0d0887\"], [0.1111111111111111, \"#46039f\"], [0.2222222222222222, \"#7201a8\"], [0.3333333333333333, \"#9c179e\"], [0.4444444444444444, \"#bd3786\"], [0.5555555555555556, \"#d8576b\"], [0.6666666666666666, \"#ed7953\"], [0.7777777777777778, \"#fb9f3a\"], [0.8888888888888888, \"#fdca26\"], [1.0, \"#f0f921\"]], \"type\": \"heatmapgl\"}], \"histogram\": [{\"marker\": {\"colorbar\": {\"outlinewidth\": 0, \"ticks\": \"\"}}, \"type\": \"histogram\"}], \"histogram2d\": [{\"colorbar\": {\"outlinewidth\": 0, \"ticks\": \"\"}, \"colorscale\": [[0.0, \"#0d0887\"], [0.1111111111111111, \"#46039f\"], [0.2222222222222222, \"#7201a8\"], [0.3333333333333333, \"#9c179e\"], [0.4444444444444444, \"#bd3786\"], [0.5555555555555556, \"#d8576b\"], [0.6666666666666666, \"#ed7953\"], [0.7777777777777778, \"#fb9f3a\"], [0.8888888888888888, \"#fdca26\"], [1.0, \"#f0f921\"]], \"type\": \"histogram2d\"}], \"histogram2dcontour\": [{\"colorbar\": {\"outlinewidth\": 0, \"ticks\": \"\"}, \"colorscale\": [[0.0, \"#0d0887\"], [0.1111111111111111, \"#46039f\"], [0.2222222222222222, \"#7201a8\"], [0.3333333333333333, \"#9c179e\"], [0.4444444444444444, \"#bd3786\"], [0.5555555555555556, \"#d8576b\"], [0.6666666666666666, \"#ed7953\"], [0.7777777777777778, \"#fb9f3a\"], [0.8888888888888888, \"#fdca26\"], [1.0, \"#f0f921\"]], \"type\": \"histogram2dcontour\"}], \"mesh3d\": [{\"colorbar\": {\"outlinewidth\": 0, \"ticks\": \"\"}, \"type\": \"mesh3d\"}], \"parcoords\": [{\"line\": {\"colorbar\": {\"outlinewidth\": 0, \"ticks\": \"\"}}, \"type\": \"parcoords\"}], \"pie\": [{\"automargin\": true, \"type\": \"pie\"}], \"scatter\": [{\"marker\": {\"colorbar\": {\"outlinewidth\": 0, \"ticks\": \"\"}}, \"type\": \"scatter\"}], \"scatter3d\": [{\"line\": {\"colorbar\": {\"outlinewidth\": 0, \"ticks\": \"\"}}, \"marker\": {\"colorbar\": {\"outlinewidth\": 0, \"ticks\": \"\"}}, \"type\": \"scatter3d\"}], \"scattercarpet\": [{\"marker\": {\"colorbar\": {\"outlinewidth\": 0, \"ticks\": \"\"}}, \"type\": \"scattercarpet\"}], \"scattergeo\": [{\"marker\": {\"colorbar\": {\"outlinewidth\": 0, \"ticks\": \"\"}}, \"type\": \"scattergeo\"}], \"scattergl\": [{\"marker\": {\"colorbar\": {\"outlinewidth\": 0, \"ticks\": \"\"}}, \"type\": \"scattergl\"}], \"scattermapbox\": [{\"marker\": {\"colorbar\": {\"outlinewidth\": 0, \"ticks\": \"\"}}, \"type\": \"scattermapbox\"}], \"scatterpolar\": [{\"marker\": {\"colorbar\": {\"outlinewidth\": 0, \"ticks\": \"\"}}, \"type\": \"scatterpolar\"}], \"scatterpolargl\": [{\"marker\": {\"colorbar\": {\"outlinewidth\": 0, \"ticks\": \"\"}}, \"type\": \"scatterpolargl\"}], \"scatterternary\": [{\"marker\": {\"colorbar\": {\"outlinewidth\": 0, \"ticks\": \"\"}}, \"type\": \"scatterternary\"}], \"surface\": [{\"colorbar\": {\"outlinewidth\": 0, \"ticks\": \"\"}, \"colorscale\": [[0.0, \"#0d0887\"], [0.1111111111111111, \"#46039f\"], [0.2222222222222222, \"#7201a8\"], [0.3333333333333333, \"#9c179e\"], [0.4444444444444444, \"#bd3786\"], [0.5555555555555556, \"#d8576b\"], [0.6666666666666666, \"#ed7953\"], [0.7777777777777778, \"#fb9f3a\"], [0.8888888888888888, \"#fdca26\"], [1.0, \"#f0f921\"]], \"type\": \"surface\"}], \"table\": [{\"cells\": {\"fill\": {\"color\": \"#EBF0F8\"}, \"line\": {\"color\": \"white\"}}, \"header\": {\"fill\": {\"color\": \"#C8D4E3\"}, \"line\": {\"color\": \"white\"}}, \"type\": \"table\"}]}, \"layout\": {\"annotationdefaults\": {\"arrowcolor\": \"#2a3f5f\", \"arrowhead\": 0, \"arrowwidth\": 1}, \"coloraxis\": {\"colorbar\": {\"outlinewidth\": 0, \"ticks\": \"\"}}, \"colorscale\": {\"diverging\": [[0, \"#8e0152\"], [0.1, \"#c51b7d\"], [0.2, \"#de77ae\"], [0.3, \"#f1b6da\"], [0.4, \"#fde0ef\"], [0.5, \"#f7f7f7\"], [0.6, \"#e6f5d0\"], [0.7, \"#b8e186\"], [0.8, \"#7fbc41\"], [0.9, \"#4d9221\"], [1, \"#276419\"]], \"sequential\": [[0.0, \"#0d0887\"], [0.1111111111111111, \"#46039f\"], [0.2222222222222222, \"#7201a8\"], [0.3333333333333333, \"#9c179e\"], [0.4444444444444444, \"#bd3786\"], [0.5555555555555556, \"#d8576b\"], [0.6666666666666666, \"#ed7953\"], [0.7777777777777778, \"#fb9f3a\"], [0.8888888888888888, \"#fdca26\"], [1.0, \"#f0f921\"]], \"sequentialminus\": [[0.0, \"#0d0887\"], [0.1111111111111111, \"#46039f\"], [0.2222222222222222, \"#7201a8\"], [0.3333333333333333, \"#9c179e\"], [0.4444444444444444, \"#bd3786\"], [0.5555555555555556, \"#d8576b\"], [0.6666666666666666, \"#ed7953\"], [0.7777777777777778, \"#fb9f3a\"], [0.8888888888888888, \"#fdca26\"], [1.0, \"#f0f921\"]]}, \"colorway\": [\"#636efa\", \"#EF553B\", \"#00cc96\", \"#ab63fa\", \"#FFA15A\", \"#19d3f3\", \"#FF6692\", \"#B6E880\", \"#FF97FF\", \"#FECB52\"], \"font\": {\"color\": \"#2a3f5f\"}, \"geo\": {\"bgcolor\": \"white\", \"lakecolor\": \"white\", \"landcolor\": \"#E5ECF6\", \"showlakes\": true, \"showland\": true, \"subunitcolor\": \"white\"}, \"hoverlabel\": {\"align\": \"left\"}, \"hovermode\": \"closest\", \"mapbox\": {\"style\": \"light\"}, \"paper_bgcolor\": \"white\", \"plot_bgcolor\": \"#E5ECF6\", \"polar\": {\"angularaxis\": {\"gridcolor\": \"white\", \"linecolor\": \"white\", \"ticks\": \"\"}, \"bgcolor\": \"#E5ECF6\", \"radialaxis\": {\"gridcolor\": \"white\", \"linecolor\": \"white\", \"ticks\": \"\"}}, \"scene\": {\"xaxis\": {\"backgroundcolor\": \"#E5ECF6\", \"gridcolor\": \"white\", \"gridwidth\": 2, \"linecolor\": \"white\", \"showbackground\": true, \"ticks\": \"\", \"zerolinecolor\": \"white\"}, \"yaxis\": {\"backgroundcolor\": \"#E5ECF6\", \"gridcolor\": \"white\", \"gridwidth\": 2, \"linecolor\": \"white\", \"showbackground\": true, \"ticks\": \"\", \"zerolinecolor\": \"white\"}, \"zaxis\": {\"backgroundcolor\": \"#E5ECF6\", \"gridcolor\": \"white\", \"gridwidth\": 2, \"linecolor\": \"white\", \"showbackground\": true, \"ticks\": \"\", \"zerolinecolor\": \"white\"}}, \"shapedefaults\": {\"line\": {\"color\": \"#2a3f5f\"}}, \"ternary\": {\"aaxis\": {\"gridcolor\": \"white\", \"linecolor\": \"white\", \"ticks\": \"\"}, \"baxis\": {\"gridcolor\": \"white\", \"linecolor\": \"white\", \"ticks\": \"\"}, \"bgcolor\": \"#E5ECF6\", \"caxis\": {\"gridcolor\": \"white\", \"linecolor\": \"white\", \"ticks\": \"\"}}, \"title\": {\"x\": 0.05}, \"xaxis\": {\"automargin\": true, \"gridcolor\": \"white\", \"linecolor\": \"white\", \"ticks\": \"\", \"title\": {\"standoff\": 15}, \"zerolinecolor\": \"white\", \"zerolinewidth\": 2}, \"yaxis\": {\"automargin\": true, \"gridcolor\": \"white\", \"linecolor\": \"white\", \"ticks\": \"\", \"title\": {\"standoff\": 15}, \"zerolinecolor\": \"white\", \"zerolinewidth\": 2}}}, \"title\": {\"text\": \"Comportamiento de precio de acciones\"}, \"xaxis\": {\"anchor\": \"y\", \"domain\": [0.0, 1.0], \"title\": {\"text\": \"Fecha_dias\"}}, \"yaxis\": {\"anchor\": \"x\", \"domain\": [0.0, 1.0], \"title\": {\"text\": \"Precio (USD)\"}}},\n",
              "                        {\"responsive\": true}\n",
              "                    ).then(function(){\n",
              "                            \n",
              "var gd = document.getElementById('d21c64e5-d86d-4598-950f-1becde92cc19');\n",
              "var x = new MutationObserver(function (mutations, observer) {{\n",
              "        var display = window.getComputedStyle(gd).display;\n",
              "        if (!display || display === 'none') {{\n",
              "            console.log([gd, 'removed!']);\n",
              "            Plotly.purge(gd);\n",
              "            observer.disconnect();\n",
              "        }}\n",
              "}});\n",
              "\n",
              "// Listen for the removal of the full notebook cells\n",
              "var notebookContainer = gd.closest('#notebook-container');\n",
              "if (notebookContainer) {{\n",
              "    x.observe(notebookContainer, {childList: true});\n",
              "}}\n",
              "\n",
              "// Listen for the clearing of the current output cell\n",
              "var outputEl = gd.closest('.output');\n",
              "if (outputEl) {{\n",
              "    x.observe(outputEl, {childList: true});\n",
              "}}\n",
              "\n",
              "                        })\n",
              "                };\n",
              "                \n",
              "            </script>\n",
              "        </div>\n",
              "</body>\n",
              "</html>"
            ]
          },
          "metadata": {}
        }
      ]
    },
    {
      "cell_type": "markdown",
      "source": [
        "Ahora se pueden ver mucho mejor las fluctuaciones de cada compañia que antes no era tan claro"
      ],
      "metadata": {
        "id": "rujBgm-NPJd-"
      }
    }
  ]
}