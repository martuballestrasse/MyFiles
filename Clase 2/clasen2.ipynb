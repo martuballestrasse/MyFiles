{
  "nbformat": 4,
  "nbformat_minor": 0,
  "metadata": {
    "colab": {
      "provenance": [],
      "authorship_tag": "ABX9TyNbfsOz2cFIuf1GsF15gZWR",
      "include_colab_link": true
    },
    "kernelspec": {
      "name": "python3",
      "display_name": "Python 3"
    },
    "language_info": {
      "name": "python"
    }
  },
  "cells": [
    {
      "cell_type": "markdown",
      "metadata": {
        "id": "view-in-github",
        "colab_type": "text"
      },
      "source": [
        "<a href=\"https://colab.research.google.com/github/martuballestrasse/01_clase/blob/main/clasen2.ipynb\" target=\"_parent\"><img src=\"https://colab.research.google.com/assets/colab-badge.svg\" alt=\"Open In Colab\"/></a>"
      ]
    },
    {
      "cell_type": "markdown",
      "source": [
        "#Encabezado\n",
        "---\n",
        "Tasks:\n",
        "  -almacenar texto en una variable\n",
        "  -crear un array, lista"
      ],
      "metadata": {
        "id": "UvZ0mhbTnBvr"
      }
    },
    {
      "cell_type": "code",
      "execution_count": null,
      "metadata": {
        "id": "2kS1hspNNZCz",
        "colab": {
          "base_uri": "https://localhost:8080/"
        },
        "outputId": "9cb8fbe7-aca6-4510-ea9c-20ba7fd94527"
      },
      "outputs": [
        {
          "output_type": "execute_result",
          "data": {
            "text/plain": [
              "1000000"
            ]
          },
          "metadata": {},
          "execution_count": 3
        }
      ],
      "source": [
        "#Sumatoria hasta el numero 2_000 pero numeros impares\n",
        "\n",
        "numeros = list(range(1, 2000, 2))\n",
        "sumatoria = sum (numeros)\n",
        "sumatoria"
      ]
    },
    {
      "cell_type": "code",
      "source": [
        "import math\n",
        "import random"
      ],
      "metadata": {
        "id": "Gntz0LactWKJ"
      },
      "execution_count": 5,
      "outputs": []
    },
    {
      "cell_type": "code",
      "source": [
        "variable_iteracion = []\n",
        "\n",
        "for numero_rango in list(range(1, 100)):\n",
        "  numero_aleatorio = random.random() * numero_rango\n",
        "  variable_iteracion.append(numero_aleatorio)\n",
        "\n",
        "\n",
        "variable_iteracion\n",
        "\n"
      ],
      "metadata": {
        "colab": {
          "base_uri": "https://localhost:8080/"
        },
        "id": "OIr6OWkbuLF-",
        "outputId": "83ee1189-40f8-4a0f-d085-14befb60984d"
      },
      "execution_count": 6,
      "outputs": [
        {
          "output_type": "execute_result",
          "data": {
            "text/plain": [
              "[0.021978082957765266,\n",
              " 0.3471216025749979,\n",
              " 0.29584927069139055,\n",
              " 3.126446447116979,\n",
              " 4.925152959632085,\n",
              " 1.8923172876889605,\n",
              " 3.674181643601487,\n",
              " 2.7608108962486133,\n",
              " 2.3470228720340978,\n",
              " 9.961066267070724,\n",
              " 6.417789604586846,\n",
              " 8.500313596639536,\n",
              " 10.970048007288254,\n",
              " 0.571901360916306,\n",
              " 2.0415944394974774,\n",
              " 11.100677900972114,\n",
              " 10.82461803872648,\n",
              " 14.851438244312279,\n",
              " 5.0405898624273755,\n",
              " 19.992579274290847,\n",
              " 2.9794530267901242,\n",
              " 4.2974826005808,\n",
              " 15.491898626154914,\n",
              " 0.17053703447823398,\n",
              " 21.19552821952862,\n",
              " 18.763442102218686,\n",
              " 2.8991512350437443,\n",
              " 0.9721707639080024,\n",
              " 26.33737245247101,\n",
              " 28.604066709163163,\n",
              " 19.972644206107056,\n",
              " 5.718266463330174,\n",
              " 20.917325643230544,\n",
              " 24.179082163640697,\n",
              " 28.27636907607201,\n",
              " 3.044455281510254,\n",
              " 31.95215009610725,\n",
              " 15.878616265152909,\n",
              " 13.212817087829496,\n",
              " 10.788386649903074,\n",
              " 22.78286309422236,\n",
              " 17.417365401153155,\n",
              " 4.736946590570085,\n",
              " 41.50351326589863,\n",
              " 24.71200272815195,\n",
              " 28.76538969007291,\n",
              " 11.512729851794736,\n",
              " 42.886464347481535,\n",
              " 4.397384275578282,\n",
              " 10.56618335531106,\n",
              " 3.4691905813052237,\n",
              " 23.624218335487146,\n",
              " 29.759621523102318,\n",
              " 14.910973345192296,\n",
              " 51.44479084865831,\n",
              " 46.27771600745265,\n",
              " 34.730147604798766,\n",
              " 9.657369625960724,\n",
              " 42.55586660577805,\n",
              " 0.8659892263097579,\n",
              " 39.465902002883674,\n",
              " 30.58092972243378,\n",
              " 29.029323136758084,\n",
              " 27.169239995967487,\n",
              " 63.779364688128545,\n",
              " 55.29713156048249,\n",
              " 38.55276732424532,\n",
              " 11.00961896370618,\n",
              " 60.324026717143745,\n",
              " 38.76974866238942,\n",
              " 26.407093107641955,\n",
              " 43.45609106621958,\n",
              " 23.58095603405696,\n",
              " 58.482135390483975,\n",
              " 74.91855163425454,\n",
              " 7.6963538317414315,\n",
              " 13.742862694437756,\n",
              " 9.069337546397303,\n",
              " 40.40445417111821,\n",
              " 25.773857148245813,\n",
              " 72.04223132327382,\n",
              " 46.995742660662955,\n",
              " 13.174388538330698,\n",
              " 48.231761650788165,\n",
              " 13.19306319250327,\n",
              " 4.829240009554827,\n",
              " 48.948081140812356,\n",
              " 31.75591187494266,\n",
              " 35.55666025903972,\n",
              " 82.4509762333953,\n",
              " 78.90135650382588,\n",
              " 84.69971071674799,\n",
              " 21.433137697391256,\n",
              " 65.32542860077837,\n",
              " 74.05421345581493,\n",
              " 89.5590864746551,\n",
              " 92.71655849515095,\n",
              " 20.16895857715754,\n",
              " 26.42780912584325]"
            ]
          },
          "metadata": {},
          "execution_count": 6
        }
      ]
    },
    {
      "cell_type": "code",
      "source": [
        "def breaker_printer(lista_iterable: list, tope:int) -> str:\n",
        "  contador = 0\n",
        "  while lista_iterable[contador] < tope:\n",
        "    print(f\"El numero de iteracion es: {contador} -> y su valor es\\t, {lista_iterable[contador]:.3f}\")\n",
        "    contador += 1\n",
        "  else:\n",
        "    return f\"Ya estoy afuera y el siguiente numero va a ser mayor a {tope}\"\n"
      ],
      "metadata": {
        "id": "tqCpjtfO18et"
      },
      "execution_count": 2,
      "outputs": []
    },
    {
      "cell_type": "code",
      "source": [
        "breaker_printer(variable_iteracion, 30)"
      ],
      "metadata": {
        "colab": {
          "base_uri": "https://localhost:8080/",
          "height": 660
        },
        "id": "mWsgVI5623Ay",
        "outputId": "112f7901-c1eb-405e-b4be-ba02bd6d634e"
      },
      "execution_count": 7,
      "outputs": [
        {
          "output_type": "stream",
          "name": "stdout",
          "text": [
            "El numero de iteracion es: 0 -> y su valor es\t, 0.022\n",
            "El numero de iteracion es: 1 -> y su valor es\t, 0.347\n",
            "El numero de iteracion es: 2 -> y su valor es\t, 0.296\n",
            "El numero de iteracion es: 3 -> y su valor es\t, 3.126\n",
            "El numero de iteracion es: 4 -> y su valor es\t, 4.925\n",
            "El numero de iteracion es: 5 -> y su valor es\t, 1.892\n",
            "El numero de iteracion es: 6 -> y su valor es\t, 3.674\n",
            "El numero de iteracion es: 7 -> y su valor es\t, 2.761\n",
            "El numero de iteracion es: 8 -> y su valor es\t, 2.347\n",
            "El numero de iteracion es: 9 -> y su valor es\t, 9.961\n",
            "El numero de iteracion es: 10 -> y su valor es\t, 6.418\n",
            "El numero de iteracion es: 11 -> y su valor es\t, 8.500\n",
            "El numero de iteracion es: 12 -> y su valor es\t, 10.970\n",
            "El numero de iteracion es: 13 -> y su valor es\t, 0.572\n",
            "El numero de iteracion es: 14 -> y su valor es\t, 2.042\n",
            "El numero de iteracion es: 15 -> y su valor es\t, 11.101\n",
            "El numero de iteracion es: 16 -> y su valor es\t, 10.825\n",
            "El numero de iteracion es: 17 -> y su valor es\t, 14.851\n",
            "El numero de iteracion es: 18 -> y su valor es\t, 5.041\n",
            "El numero de iteracion es: 19 -> y su valor es\t, 19.993\n",
            "El numero de iteracion es: 20 -> y su valor es\t, 2.979\n",
            "El numero de iteracion es: 21 -> y su valor es\t, 4.297\n",
            "El numero de iteracion es: 22 -> y su valor es\t, 15.492\n",
            "El numero de iteracion es: 23 -> y su valor es\t, 0.171\n",
            "El numero de iteracion es: 24 -> y su valor es\t, 21.196\n",
            "El numero de iteracion es: 25 -> y su valor es\t, 18.763\n",
            "El numero de iteracion es: 26 -> y su valor es\t, 2.899\n",
            "El numero de iteracion es: 27 -> y su valor es\t, 0.972\n",
            "El numero de iteracion es: 28 -> y su valor es\t, 26.337\n",
            "El numero de iteracion es: 29 -> y su valor es\t, 28.604\n",
            "El numero de iteracion es: 30 -> y su valor es\t, 19.973\n",
            "El numero de iteracion es: 31 -> y su valor es\t, 5.718\n",
            "El numero de iteracion es: 32 -> y su valor es\t, 20.917\n",
            "El numero de iteracion es: 33 -> y su valor es\t, 24.179\n",
            "El numero de iteracion es: 34 -> y su valor es\t, 28.276\n",
            "El numero de iteracion es: 35 -> y su valor es\t, 3.044\n"
          ]
        },
        {
          "output_type": "execute_result",
          "data": {
            "text/plain": [
              "'Ya estoy afuera y el siguiente numero va a ser mayor a 30'"
            ],
            "application/vnd.google.colaboratory.intrinsic+json": {
              "type": "string"
            }
          },
          "metadata": {},
          "execution_count": 7
        }
      ]
    },
    {
      "cell_type": "code",
      "source": [
        "iterable = [x for x in random.sample(range(1, 100), 50)]\n",
        "\n",
        "#Ejercicio: una funcion que me otorgue el valor maximo\n",
        "def valor_max (x)->int:\n",
        "  maximo = x[0]\n",
        "  for numero in x:\n",
        "    if numero > maximo:\n",
        "      maximo = numero\n",
        "  return maximo"
      ],
      "metadata": {
        "id": "SKqTX-Oq4lPh"
      },
      "execution_count": 11,
      "outputs": []
    },
    {
      "cell_type": "code",
      "source": [
        "valor_max(iterable)"
      ],
      "metadata": {
        "id": "eD2FUHcG570A",
        "outputId": "8ca34fa3-adcf-444c-df43-614f908b84f4",
        "colab": {
          "base_uri": "https://localhost:8080/"
        }
      },
      "execution_count": 12,
      "outputs": [
        {
          "output_type": "execute_result",
          "data": {
            "text/plain": [
              "99"
            ]
          },
          "metadata": {},
          "execution_count": 12
        }
      ]
    }
  ]
}
