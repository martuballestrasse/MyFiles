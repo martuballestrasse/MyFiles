{
  "nbformat": 4,
  "nbformat_minor": 0,
  "metadata": {
    "colab": {
      "provenance": [],
      "authorship_tag": "ABX9TyO15jXk2/kRd2uyh6W4/Zyr",
      "include_colab_link": true
    },
    "kernelspec": {
      "name": "python3",
      "display_name": "Python 3"
    },
    "language_info": {
      "name": "python"
    }
  },
  "cells": [
    {
      "cell_type": "markdown",
      "metadata": {
        "id": "view-in-github",
        "colab_type": "text"
      },
      "source": [
        "<a href=\"https://colab.research.google.com/github/martuballestrasse/MyFiles/blob/main/practica_clase2.ipynb\" target=\"_parent\"><img src=\"https://colab.research.google.com/assets/colab-badge.svg\" alt=\"Open In Colab\"/></a>"
      ]
    },
    {
      "cell_type": "markdown",
      "source": [
        "Practica clase 2"
      ],
      "metadata": {
        "id": "OYeyoAq99yea"
      }
    },
    {
      "cell_type": "code",
      "execution_count": 1,
      "metadata": {
        "id": "2kS1hspNNZCz"
      },
      "outputs": [],
      "source": [
        "valores = [200, 225, 232, 221, 243, 256, 255]\n",
        "dias = ['Lunes', 'Martes', 'Miércoles', 'Jueves', 'Viernes', 'Sábado', 'Domingo']"
      ]
    },
    {
      "cell_type": "code",
      "source": [
        "import numpy as np\n",
        "# Calcular la diferencia entre valores consecutivos\n",
        "diferencias = np.diff(valores)\n",
        "diferencias"
      ],
      "metadata": {
        "id": "Gntz0LactWKJ",
        "colab": {
          "base_uri": "https://localhost:8080/"
        },
        "outputId": "fd590de2-8c8c-4f47-f0b6-58835d5f8fdd"
      },
      "execution_count": 2,
      "outputs": [
        {
          "output_type": "execute_result",
          "data": {
            "text/plain": [
              "array([ 25,   7, -11,  22,  13,  -1])"
            ]
          },
          "metadata": {},
          "execution_count": 2
        }
      ]
    },
    {
      "cell_type": "code",
      "source": [
        "# Calcular la diferencia entre valores consecutivos\n",
        "diferencias = np.diff(valores)\n",
        "\n",
        "# Detectar retrocesos en los valores\n",
        "for i, cambio in enumerate(diferencias, start=1):\n",
        "    if cambio < 0:\n",
        "        print(f\"Hubo un retroceso el día {dias[i]} (valor: {valores[i]} vs día anterior: {valores[i-1]})\")"
      ],
      "metadata": {
        "colab": {
          "base_uri": "https://localhost:8080/"
        },
        "id": "OIr6OWkbuLF-",
        "outputId": "23150819-1b07-4196-9d77-27c0ba72ca82"
      },
      "execution_count": 3,
      "outputs": [
        {
          "output_type": "stream",
          "name": "stdout",
          "text": [
            "Hubo un retroceso el día Jueves (valor: 221 vs día anterior: 232)\n",
            "Hubo un retroceso el día Domingo (valor: 255 vs día anterior: 256)\n"
          ]
        }
      ]
    },
    {
      "cell_type": "code",
      "source": [
        "import pandas as pd\n",
        "data = {'Valores': valores, 'Días': dias}\n",
        "df = pd.DataFrame(data)\n",
        "df.info\n",
        "\n",
        "# Calculate the min and max of the 'Valores' column\n",
        "min_valores = df['Valores'].min()\n",
        "max_valores = df['Valores'].max()\n",
        "\n",
        "# Print the min and max\n",
        "print(f\"The min of the 'Valores' column is: {min_valores}\")\n",
        "print(f\"The max of the 'Valores' column is: {max_valores}\")"
      ],
      "metadata": {
        "colab": {
          "base_uri": "https://localhost:8080/"
        },
        "id": "nuT7o8SRBQP3",
        "outputId": "f6da213a-469a-489e-bfdd-7764e59ed46b"
      },
      "execution_count": 14,
      "outputs": [
        {
          "output_type": "stream",
          "name": "stdout",
          "text": [
            "The min of the 'Valores' column is: 200\n",
            "The max of the 'Valores' column is: 256\n"
          ]
        }
      ]
    },
    {
      "cell_type": "markdown",
      "source": [
        "Trabajamos con clases"
      ],
      "metadata": {
        "id": "8PYD-o2cEm4l"
      }
    },
    {
      "cell_type": "code",
      "source": [
        "#Clases: En lugar de tener mil variables y funciones sueltas, todo queda agrupado dentro de un objeto.\n",
        "class Persona:\n",
        "    def __init__(self, nombre, edad, raza):\n",
        "        self.nombre = nombre\n",
        "        self.edad = edad\n",
        "        self.raza = raza\n",
        "\n",
        "    def saludar(self):\n",
        "        print(f\"Hola, soy {self.nombre} , tengo {self.edad} años y soy {self.raza}.\")\n",
        "\n",
        "juan = Persona(\"Juan\", 30, \"labrador\")\n",
        "juan.saludar()"
      ],
      "metadata": {
        "colab": {
          "base_uri": "https://localhost:8080/"
        },
        "id": "34EFzm8PDY-c",
        "outputId": "0b9716d4-0ef7-4509-e396-28a9ccc21782"
      },
      "execution_count": 16,
      "outputs": [
        {
          "output_type": "stream",
          "name": "stdout",
          "text": [
            "Hola, soy Juan , tengo 30 años y soy labrador.\n"
          ]
        }
      ]
    },
    {
      "cell_type": "code",
      "source": [
        "# Crear una clase `Producto` con atributos: nombre, precio y categoría.\n",
        "# Agregar un método para mostrar la información con formato.\n",
        "class Producto:\n",
        "    def __init__(self, nombre, precio, categoria):\n",
        "        self.nombre = nombre\n",
        "        self.precio = precio\n",
        "        self.categoria = categoria\n",
        "\n",
        "    def mostrar_info(self):\n",
        "        return f\"{self.nombre} (${self.precio}) - Categoría: {self.categoria}\"\n",
        "\n",
        "p = Producto(\"Notebook\", 3500, \"Electrónica\")\n",
        "print(p.mostrar_info())"
      ],
      "metadata": {
        "colab": {
          "base_uri": "https://localhost:8080/"
        },
        "id": "uR7jOgJbJVD9",
        "outputId": "99088bb4-98c7-4278-d60d-ea668918c1c0"
      },
      "execution_count": 17,
      "outputs": [
        {
          "output_type": "stream",
          "name": "stdout",
          "text": [
            "Notebook ($3500) - Categoría: Electrónica\n"
          ]
        }
      ]
    },
    {
      "cell_type": "code",
      "source": [
        "class Caja:\n",
        "    def __init__(self, contenido):\n",
        "        self.contenido = contenido\n",
        "\n",
        "c1 = Caja(\"gatito\")\n",
        "c2 = c1  # Misma referencia\n",
        "\n",
        "c2.contenido = \"perrito\"\n",
        "\n",
        "print(\"Contenido de c1:\", c1.contenido)\n",
        "print(\"Contenido de c2:\", c2.contenido)\n",
        "print(\"¿c1 y c2 son el mismo objeto?\", c1 is c2)"
      ],
      "metadata": {
        "colab": {
          "base_uri": "https://localhost:8080/"
        },
        "id": "btfVRZixJYPy",
        "outputId": "74841d5c-60e9-49d7-c240-e4bc7ad30ca1"
      },
      "execution_count": 19,
      "outputs": [
        {
          "output_type": "stream",
          "name": "stdout",
          "text": [
            "Contenido de c1: perrito\n",
            "Contenido de c2: perrito\n",
            "¿c1 y c2 son el mismo objeto? True\n"
          ]
        }
      ]
    },
    {
      "cell_type": "code",
      "source": [
        "# Agregar un método para mostrar el promedio de un alumno.\n",
        "class alumno:\n",
        "  instancias = [] #lista compartida por todos\n",
        "  def __init__(self, nombre, calificacion):\n",
        "        self.nombre = nombre\n",
        "        self.calificacion = calificacion\n",
        "        alumno.instancias.append(self) #se agrega al crear\n",
        "\n",
        "\n",
        "  def mostrar_info(self):\n",
        "        return f\"La nota de {self.nombre} es {self.calificacion}.\"\n",
        "\n",
        "p = alumno(\"Martina\", 8)\n",
        "p1 = alumno(\"Juan\", 7)\n",
        "\n",
        "# Ver todas las instancias\n",
        "for i in alumno.instancias:\n",
        "    print(f\"El alumno {i.nombre} tiene una nota de {i.calificacion}.\")\n",
        "\n",
        "# Calculate and print the average grade\n",
        "total_calificaciones = sum(i.calificacion for i in alumno.instancias)\n",
        "promedio = total_calificaciones / len(alumno.instancias)\n",
        "print(f\"\\nEl promedio de las notas de todos los alumnos es: {promedio}\")"
      ],
      "metadata": {
        "colab": {
          "base_uri": "https://localhost:8080/"
        },
        "id": "m1lkABGjMmh8",
        "outputId": "8d59cebb-d0e9-406c-c691-30479ad2ea7c"
      },
      "execution_count": 40,
      "outputs": [
        {
          "output_type": "stream",
          "name": "stdout",
          "text": [
            "El alumno Martina tiene una nota de 8.\n",
            "El alumno Juan tiene una nota de 7.\n",
            "\n",
            "El promedio de las notas de todos los alumnos es: 7.5\n"
          ]
        }
      ]
    }
  ]
}
