{
  "nbformat": 4,
  "nbformat_minor": 0,
  "metadata": {
    "colab": {
      "provenance": [],
      "authorship_tag": "ABX9TyOH0zDQdt0Ts2+Z41a94vZ+",
      "include_colab_link": true
    },
    "kernelspec": {
      "name": "python3",
      "display_name": "Python 3"
    },
    "language_info": {
      "name": "python"
    }
  },
  "cells": [
    {
      "cell_type": "markdown",
      "metadata": {
        "id": "view-in-github",
        "colab_type": "text"
      },
      "source": [
        "<a href=\"https://colab.research.google.com/github/martuballestrasse/01_clase/blob/main/clase02.ipynb\" target=\"_parent\"><img src=\"https://colab.research.google.com/assets/colab-badge.svg\" alt=\"Open In Colab\"/></a>"
      ]
    },
    {
      "cell_type": "markdown",
      "source": [
        "#Encabezado\n",
        "---\n",
        "Tasks:\n",
        "  -almacenar texto en una variable\n",
        "  -crear un array, lista"
      ],
      "metadata": {
        "id": "UvZ0mhbTnBvr"
      }
    },
    {
      "cell_type": "code",
      "execution_count": null,
      "metadata": {
        "id": "2kS1hspNNZCz",
        "colab": {
          "base_uri": "https://localhost:8080/"
        },
        "outputId": "9cb8fbe7-aca6-4510-ea9c-20ba7fd94527"
      },
      "outputs": [
        {
          "output_type": "execute_result",
          "data": {
            "text/plain": [
              "1000000"
            ]
          },
          "metadata": {},
          "execution_count": 3
        }
      ],
      "source": [
        "#Sumatoria hasta el numero 2_000 pero numeros impares\n",
        "\n",
        "numeros = list(range(1, 2000, 2))\n",
        "sumatoria = sum (numeros)\n",
        "sumatoria"
      ]
    },
    {
      "cell_type": "code",
      "source": [
        "import math\n",
        "import random"
      ],
      "metadata": {
        "id": "Gntz0LactWKJ"
      },
      "execution_count": null,
      "outputs": []
    },
    {
      "cell_type": "code",
      "source": [
        "variable_iteracion = []\n",
        "\n",
        "for numero_rango in list(range(1, 100)):\n",
        "  numero_aleatorio = random.random() * numero_rango\n",
        "  variable_iteracion.append(numero_aleatorio)\n",
        "\n",
        "\n",
        "variable_iteracion\n",
        "\n"
      ],
      "metadata": {
        "colab": {
          "base_uri": "https://localhost:8080/"
        },
        "id": "OIr6OWkbuLF-",
        "outputId": "85c1e8d8-ea02-4776-d0bf-261db59f06fb"
      },
      "execution_count": null,
      "outputs": [
        {
          "output_type": "execute_result",
          "data": {
            "text/plain": [
              "[0.6018950734097928,\n",
              " 1.144378271628158,\n",
              " 0.5385310910939254,\n",
              " 2.2190101648197027,\n",
              " 0.2651900744919211,\n",
              " 3.237446226826256,\n",
              " 0.606505740631287,\n",
              " 6.194898630957318,\n",
              " 5.5820831435422615,\n",
              " 8.641348263955207,\n",
              " 8.999873846149804,\n",
              " 2.8033065356847517,\n",
              " 5.259355113130376,\n",
              " 11.776421515778134,\n",
              " 6.648905567953086,\n",
              " 10.802763300551916,\n",
              " 13.012515063350763,\n",
              " 0.1528803154385776,\n",
              " 5.262631453547476,\n",
              " 19.347409532044807,\n",
              " 20.148736727667824,\n",
              " 19.642523179699864,\n",
              " 11.148972537639688,\n",
              " 22.603156794420837,\n",
              " 17.53556751184555,\n",
              " 0.06613844939943281,\n",
              " 24.916100928295215,\n",
              " 26.30823650849287,\n",
              " 28.65702222147096,\n",
              " 4.198606827903454,\n",
              " 10.944435444020973,\n",
              " 24.568638194067585,\n",
              " 26.00799003089725,\n",
              " 20.108022056965165,\n",
              " 15.683985458278727,\n",
              " 16.024164381033287,\n",
              " 3.0558611169503127,\n",
              " 35.437957725747296,\n",
              " 16.804088607977267,\n",
              " 32.09442646181708,\n",
              " 3.1431784810608794,\n",
              " 34.92969058805236,\n",
              " 9.387630714440748,\n",
              " 18.427394486716334,\n",
              " 41.89738024379574,\n",
              " 35.37506489774154,\n",
              " 40.63621711606811,\n",
              " 21.496964111669932,\n",
              " 36.31769897104182,\n",
              " 44.08290144764541,\n",
              " 31.058114659476672,\n",
              " 21.113699462924835,\n",
              " 18.0354715214749,\n",
              " 9.38791018356904,\n",
              " 39.51473676512841,\n",
              " 37.85912638486767,\n",
              " 39.182035909988755,\n",
              " 2.3833846496885114,\n",
              " 57.39870964819583,\n",
              " 13.65907350205182,\n",
              " 50.64584987430587,\n",
              " 59.16983037247023,\n",
              " 51.963226970391155,\n",
              " 4.561123170175016,\n",
              " 2.8537308750216717,\n",
              " 48.56683036682802,\n",
              " 43.06334000389385,\n",
              " 17.288056443195792,\n",
              " 10.858169993161754,\n",
              " 44.10267230047044,\n",
              " 67.1951360934103,\n",
              " 15.540150389303042,\n",
              " 68.43020986826379,\n",
              " 56.89247931335475,\n",
              " 6.003207150284434,\n",
              " 33.98483875228065,\n",
              " 41.50667750234435,\n",
              " 6.213600570402351,\n",
              " 70.87428181174609,\n",
              " 28.824002312125856,\n",
              " 16.319192294743818,\n",
              " 73.75791149710562,\n",
              " 62.93243470975137,\n",
              " 50.7983551063647,\n",
              " 21.655427124715576,\n",
              " 17.73399093021096,\n",
              " 75.85629880271458,\n",
              " 71.45749206977436,\n",
              " 66.9827703662706,\n",
              " 3.713666493373935,\n",
              " 51.86554285550539,\n",
              " 26.602598673356365,\n",
              " 5.5338701994135135,\n",
              " 46.631989697555326,\n",
              " 3.441110420385119,\n",
              " 34.04104044715349,\n",
              " 47.4126581507406,\n",
              " 36.90293907059579,\n",
              " 80.57912147654193]"
            ]
          },
          "metadata": {},
          "execution_count": 4
        }
      ]
    },
    {
      "cell_type": "code",
      "source": [
        "def breaker_printer(lista_iterable: list, tope:int) -> str:\n",
        "  contador = 0\n",
        "  while lista_iterable[contador] < tope:\n",
        "    print(f\"El numero de iteracion es: {contador} -> y su valor es\\t, {lista_iterable[contador]:.3f}\")\n",
        "    contador += 1\n",
        "  else:\n",
        "    return f\"Ya estoy afuera y el siguiente numero va a ser mayor a {tope}\"\n",
        ""
      ],
      "metadata": {
        "id": "tqCpjtfO18et"
      },
      "execution_count": null,
      "outputs": []
    },
    {
      "cell_type": "code",
      "source": [
        "breaker_printer(variable_iteracion, 30)"
      ],
      "metadata": {
        "id": "mWsgVI5623Ay"
      },
      "execution_count": null,
      "outputs": []
    }
  ]
}
