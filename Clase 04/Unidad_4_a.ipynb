{
  "nbformat": 4,
  "nbformat_minor": 0,
  "metadata": {
    "colab": {
      "provenance": [],
      "include_colab_link": true
    },
    "kernelspec": {
      "name": "python3",
      "display_name": "Python 3"
    },
    "language_info": {
      "name": "python"
    }
  },
  "cells": [
    {
      "cell_type": "markdown",
      "metadata": {
        "id": "view-in-github",
        "colab_type": "text"
      },
      "source": [
        "<a href=\"https://colab.research.google.com/github/martuballestrasse/MyFiles/blob/main/Clase%2004/Unidad_4_a.ipynb\" target=\"_parent\"><img src=\"https://colab.research.google.com/assets/colab-badge.svg\" alt=\"Open In Colab\"/></a>"
      ]
    },
    {
      "cell_type": "markdown",
      "source": [
        "# Manipulacion de nulos"
      ],
      "metadata": {
        "id": "RVeBPsS_JwZG"
      }
    },
    {
      "cell_type": "code",
      "execution_count": null,
      "metadata": {
        "colab": {
          "base_uri": "https://localhost:8080/",
          "height": 206
        },
        "id": "jUr7xOsTlCNQ",
        "outputId": "16744832-d445-499a-f3b4-eccc686a4477"
      },
      "outputs": [
        {
          "output_type": "execute_result",
          "data": {
            "text/plain": [
              "   0    1   2   3    4     5      6   7  8\n",
              "0  6  148  72  35    0  33.6  0.627  50  1\n",
              "1  1   85  66  29    0  26.6  0.351  31  0\n",
              "2  8  183  64   0    0  23.3  0.672  32  1\n",
              "3  1   89  66  23   94  28.1  0.167  21  0\n",
              "4  0  137  40  35  168  43.1  2.288  33  1"
            ],
            "text/html": [
              "\n",
              "  <div id=\"df-e2016aff-80a8-4dcd-a66d-a6c463a12c2e\">\n",
              "    <div class=\"colab-df-container\">\n",
              "      <div>\n",
              "<style scoped>\n",
              "    .dataframe tbody tr th:only-of-type {\n",
              "        vertical-align: middle;\n",
              "    }\n",
              "\n",
              "    .dataframe tbody tr th {\n",
              "        vertical-align: top;\n",
              "    }\n",
              "\n",
              "    .dataframe thead th {\n",
              "        text-align: right;\n",
              "    }\n",
              "</style>\n",
              "<table border=\"1\" class=\"dataframe\">\n",
              "  <thead>\n",
              "    <tr style=\"text-align: right;\">\n",
              "      <th></th>\n",
              "      <th>0</th>\n",
              "      <th>1</th>\n",
              "      <th>2</th>\n",
              "      <th>3</th>\n",
              "      <th>4</th>\n",
              "      <th>5</th>\n",
              "      <th>6</th>\n",
              "      <th>7</th>\n",
              "      <th>8</th>\n",
              "    </tr>\n",
              "  </thead>\n",
              "  <tbody>\n",
              "    <tr>\n",
              "      <th>0</th>\n",
              "      <td>6</td>\n",
              "      <td>148</td>\n",
              "      <td>72</td>\n",
              "      <td>35</td>\n",
              "      <td>0</td>\n",
              "      <td>33.6</td>\n",
              "      <td>0.627</td>\n",
              "      <td>50</td>\n",
              "      <td>1</td>\n",
              "    </tr>\n",
              "    <tr>\n",
              "      <th>1</th>\n",
              "      <td>1</td>\n",
              "      <td>85</td>\n",
              "      <td>66</td>\n",
              "      <td>29</td>\n",
              "      <td>0</td>\n",
              "      <td>26.6</td>\n",
              "      <td>0.351</td>\n",
              "      <td>31</td>\n",
              "      <td>0</td>\n",
              "    </tr>\n",
              "    <tr>\n",
              "      <th>2</th>\n",
              "      <td>8</td>\n",
              "      <td>183</td>\n",
              "      <td>64</td>\n",
              "      <td>0</td>\n",
              "      <td>0</td>\n",
              "      <td>23.3</td>\n",
              "      <td>0.672</td>\n",
              "      <td>32</td>\n",
              "      <td>1</td>\n",
              "    </tr>\n",
              "    <tr>\n",
              "      <th>3</th>\n",
              "      <td>1</td>\n",
              "      <td>89</td>\n",
              "      <td>66</td>\n",
              "      <td>23</td>\n",
              "      <td>94</td>\n",
              "      <td>28.1</td>\n",
              "      <td>0.167</td>\n",
              "      <td>21</td>\n",
              "      <td>0</td>\n",
              "    </tr>\n",
              "    <tr>\n",
              "      <th>4</th>\n",
              "      <td>0</td>\n",
              "      <td>137</td>\n",
              "      <td>40</td>\n",
              "      <td>35</td>\n",
              "      <td>168</td>\n",
              "      <td>43.1</td>\n",
              "      <td>2.288</td>\n",
              "      <td>33</td>\n",
              "      <td>1</td>\n",
              "    </tr>\n",
              "  </tbody>\n",
              "</table>\n",
              "</div>\n",
              "      <button class=\"colab-df-convert\" onclick=\"convertToInteractive('df-e2016aff-80a8-4dcd-a66d-a6c463a12c2e')\"\n",
              "              title=\"Convert this dataframe to an interactive table.\"\n",
              "              style=\"display:none;\">\n",
              "        \n",
              "  <svg xmlns=\"http://www.w3.org/2000/svg\" height=\"24px\"viewBox=\"0 0 24 24\"\n",
              "       width=\"24px\">\n",
              "    <path d=\"M0 0h24v24H0V0z\" fill=\"none\"/>\n",
              "    <path d=\"M18.56 5.44l.94 2.06.94-2.06 2.06-.94-2.06-.94-.94-2.06-.94 2.06-2.06.94zm-11 1L8.5 8.5l.94-2.06 2.06-.94-2.06-.94L8.5 2.5l-.94 2.06-2.06.94zm10 10l.94 2.06.94-2.06 2.06-.94-2.06-.94-.94-2.06-.94 2.06-2.06.94z\"/><path d=\"M17.41 7.96l-1.37-1.37c-.4-.4-.92-.59-1.43-.59-.52 0-1.04.2-1.43.59L10.3 9.45l-7.72 7.72c-.78.78-.78 2.05 0 2.83L4 21.41c.39.39.9.59 1.41.59.51 0 1.02-.2 1.41-.59l7.78-7.78 2.81-2.81c.8-.78.8-2.07 0-2.86zM5.41 20L4 18.59l7.72-7.72 1.47 1.35L5.41 20z\"/>\n",
              "  </svg>\n",
              "      </button>\n",
              "      \n",
              "  <style>\n",
              "    .colab-df-container {\n",
              "      display:flex;\n",
              "      flex-wrap:wrap;\n",
              "      gap: 12px;\n",
              "    }\n",
              "\n",
              "    .colab-df-convert {\n",
              "      background-color: #E8F0FE;\n",
              "      border: none;\n",
              "      border-radius: 50%;\n",
              "      cursor: pointer;\n",
              "      display: none;\n",
              "      fill: #1967D2;\n",
              "      height: 32px;\n",
              "      padding: 0 0 0 0;\n",
              "      width: 32px;\n",
              "    }\n",
              "\n",
              "    .colab-df-convert:hover {\n",
              "      background-color: #E2EBFA;\n",
              "      box-shadow: 0px 1px 2px rgba(60, 64, 67, 0.3), 0px 1px 3px 1px rgba(60, 64, 67, 0.15);\n",
              "      fill: #174EA6;\n",
              "    }\n",
              "\n",
              "    [theme=dark] .colab-df-convert {\n",
              "      background-color: #3B4455;\n",
              "      fill: #D2E3FC;\n",
              "    }\n",
              "\n",
              "    [theme=dark] .colab-df-convert:hover {\n",
              "      background-color: #434B5C;\n",
              "      box-shadow: 0px 1px 3px 1px rgba(0, 0, 0, 0.15);\n",
              "      filter: drop-shadow(0px 1px 2px rgba(0, 0, 0, 0.3));\n",
              "      fill: #FFFFFF;\n",
              "    }\n",
              "  </style>\n",
              "\n",
              "      <script>\n",
              "        const buttonEl =\n",
              "          document.querySelector('#df-e2016aff-80a8-4dcd-a66d-a6c463a12c2e button.colab-df-convert');\n",
              "        buttonEl.style.display =\n",
              "          google.colab.kernel.accessAllowed ? 'block' : 'none';\n",
              "\n",
              "        async function convertToInteractive(key) {\n",
              "          const element = document.querySelector('#df-e2016aff-80a8-4dcd-a66d-a6c463a12c2e');\n",
              "          const dataTable =\n",
              "            await google.colab.kernel.invokeFunction('convertToInteractive',\n",
              "                                                     [key], {});\n",
              "          if (!dataTable) return;\n",
              "\n",
              "          const docLinkHtml = 'Like what you see? Visit the ' +\n",
              "            '<a target=\"_blank\" href=https://colab.research.google.com/notebooks/data_table.ipynb>data table notebook</a>'\n",
              "            + ' to learn more about interactive tables.';\n",
              "          element.innerHTML = '';\n",
              "          dataTable['output_type'] = 'display_data';\n",
              "          await google.colab.output.renderOutput(dataTable, element);\n",
              "          const docLink = document.createElement('div');\n",
              "          docLink.innerHTML = docLinkHtml;\n",
              "          element.appendChild(docLink);\n",
              "        }\n",
              "      </script>\n",
              "    </div>\n",
              "  </div>\n",
              "  "
            ]
          },
          "metadata": {},
          "execution_count": 4
        }
      ],
      "source": [
        "import pandas as pd\n",
        "import numpy as np\n",
        "url='https://raw.githubusercontent.com/jbrownlee/Datasets/master/pima-indians-diabetes.csv'\n",
        "df= pd.read_csv(url, sep=',', header=None)\n",
        "df.head()"
      ]
    },
    {
      "cell_type": "markdown",
      "source": [
        "**Variables incorporadas**\n",
        "\n",
        "    0. Numero de veces embarazada (NEMB).\n",
        "    1. Concentracion de plasma de glucosa (GLU)\n",
        "    2. Presion arterial diastolica en mm Hg (PART).\n",
        "    3. Grosor de piel en triceps en mm (GROS).\n",
        "    4. 2-Hour serum insulin en mu U/ml (HUR).\n",
        "    5. BMI (peso kg/(altura en m)^2 en (BMI).\n",
        "    6. Funcion de prediccion de Diabetes (FPRED)\n",
        "    7. Edad (años)  (AGE).\n",
        "    8. Variable de clase (0 or 1)  (CLASS).\n"
      ],
      "metadata": {
        "id": "al4fTXwjmH7B"
      }
    },
    {
      "cell_type": "code",
      "source": [
        "# renombramos las columnas\n",
        "df = df.rename(columns={0: \"NEMB\", 1: \"GLU\", 2: \"PART\",3:\"GROS\",4:\"HUR\",5:\"BMI\",6:\"FPRED\",7:\"AGE\",8:\"CLASS\"})\n",
        "df.head()"
      ],
      "metadata": {
        "colab": {
          "base_uri": "https://localhost:8080/",
          "height": 206
        },
        "id": "TzUmWO0gm10R",
        "outputId": "8d256a96-1c3b-4e95-e9cb-ed6dc082fe78"
      },
      "execution_count": null,
      "outputs": [
        {
          "output_type": "execute_result",
          "data": {
            "text/plain": [
              "   NEMB  GLU  PART  GROS  HUR   BMI  FPRED  AGE  CLASS\n",
              "0     6  148    72    35    0  33.6  0.627   50      1\n",
              "1     1   85    66    29    0  26.6  0.351   31      0\n",
              "2     8  183    64     0    0  23.3  0.672   32      1\n",
              "3     1   89    66    23   94  28.1  0.167   21      0\n",
              "4     0  137    40    35  168  43.1  2.288   33      1"
            ],
            "text/html": [
              "\n",
              "  <div id=\"df-29cd2869-2d6e-4969-9efd-603f32976f04\">\n",
              "    <div class=\"colab-df-container\">\n",
              "      <div>\n",
              "<style scoped>\n",
              "    .dataframe tbody tr th:only-of-type {\n",
              "        vertical-align: middle;\n",
              "    }\n",
              "\n",
              "    .dataframe tbody tr th {\n",
              "        vertical-align: top;\n",
              "    }\n",
              "\n",
              "    .dataframe thead th {\n",
              "        text-align: right;\n",
              "    }\n",
              "</style>\n",
              "<table border=\"1\" class=\"dataframe\">\n",
              "  <thead>\n",
              "    <tr style=\"text-align: right;\">\n",
              "      <th></th>\n",
              "      <th>NEMB</th>\n",
              "      <th>GLU</th>\n",
              "      <th>PART</th>\n",
              "      <th>GROS</th>\n",
              "      <th>HUR</th>\n",
              "      <th>BMI</th>\n",
              "      <th>FPRED</th>\n",
              "      <th>AGE</th>\n",
              "      <th>CLASS</th>\n",
              "    </tr>\n",
              "  </thead>\n",
              "  <tbody>\n",
              "    <tr>\n",
              "      <th>0</th>\n",
              "      <td>6</td>\n",
              "      <td>148</td>\n",
              "      <td>72</td>\n",
              "      <td>35</td>\n",
              "      <td>0</td>\n",
              "      <td>33.6</td>\n",
              "      <td>0.627</td>\n",
              "      <td>50</td>\n",
              "      <td>1</td>\n",
              "    </tr>\n",
              "    <tr>\n",
              "      <th>1</th>\n",
              "      <td>1</td>\n",
              "      <td>85</td>\n",
              "      <td>66</td>\n",
              "      <td>29</td>\n",
              "      <td>0</td>\n",
              "      <td>26.6</td>\n",
              "      <td>0.351</td>\n",
              "      <td>31</td>\n",
              "      <td>0</td>\n",
              "    </tr>\n",
              "    <tr>\n",
              "      <th>2</th>\n",
              "      <td>8</td>\n",
              "      <td>183</td>\n",
              "      <td>64</td>\n",
              "      <td>0</td>\n",
              "      <td>0</td>\n",
              "      <td>23.3</td>\n",
              "      <td>0.672</td>\n",
              "      <td>32</td>\n",
              "      <td>1</td>\n",
              "    </tr>\n",
              "    <tr>\n",
              "      <th>3</th>\n",
              "      <td>1</td>\n",
              "      <td>89</td>\n",
              "      <td>66</td>\n",
              "      <td>23</td>\n",
              "      <td>94</td>\n",
              "      <td>28.1</td>\n",
              "      <td>0.167</td>\n",
              "      <td>21</td>\n",
              "      <td>0</td>\n",
              "    </tr>\n",
              "    <tr>\n",
              "      <th>4</th>\n",
              "      <td>0</td>\n",
              "      <td>137</td>\n",
              "      <td>40</td>\n",
              "      <td>35</td>\n",
              "      <td>168</td>\n",
              "      <td>43.1</td>\n",
              "      <td>2.288</td>\n",
              "      <td>33</td>\n",
              "      <td>1</td>\n",
              "    </tr>\n",
              "  </tbody>\n",
              "</table>\n",
              "</div>\n",
              "      <button class=\"colab-df-convert\" onclick=\"convertToInteractive('df-29cd2869-2d6e-4969-9efd-603f32976f04')\"\n",
              "              title=\"Convert this dataframe to an interactive table.\"\n",
              "              style=\"display:none;\">\n",
              "        \n",
              "  <svg xmlns=\"http://www.w3.org/2000/svg\" height=\"24px\"viewBox=\"0 0 24 24\"\n",
              "       width=\"24px\">\n",
              "    <path d=\"M0 0h24v24H0V0z\" fill=\"none\"/>\n",
              "    <path d=\"M18.56 5.44l.94 2.06.94-2.06 2.06-.94-2.06-.94-.94-2.06-.94 2.06-2.06.94zm-11 1L8.5 8.5l.94-2.06 2.06-.94-2.06-.94L8.5 2.5l-.94 2.06-2.06.94zm10 10l.94 2.06.94-2.06 2.06-.94-2.06-.94-.94-2.06-.94 2.06-2.06.94z\"/><path d=\"M17.41 7.96l-1.37-1.37c-.4-.4-.92-.59-1.43-.59-.52 0-1.04.2-1.43.59L10.3 9.45l-7.72 7.72c-.78.78-.78 2.05 0 2.83L4 21.41c.39.39.9.59 1.41.59.51 0 1.02-.2 1.41-.59l7.78-7.78 2.81-2.81c.8-.78.8-2.07 0-2.86zM5.41 20L4 18.59l7.72-7.72 1.47 1.35L5.41 20z\"/>\n",
              "  </svg>\n",
              "      </button>\n",
              "      \n",
              "  <style>\n",
              "    .colab-df-container {\n",
              "      display:flex;\n",
              "      flex-wrap:wrap;\n",
              "      gap: 12px;\n",
              "    }\n",
              "\n",
              "    .colab-df-convert {\n",
              "      background-color: #E8F0FE;\n",
              "      border: none;\n",
              "      border-radius: 50%;\n",
              "      cursor: pointer;\n",
              "      display: none;\n",
              "      fill: #1967D2;\n",
              "      height: 32px;\n",
              "      padding: 0 0 0 0;\n",
              "      width: 32px;\n",
              "    }\n",
              "\n",
              "    .colab-df-convert:hover {\n",
              "      background-color: #E2EBFA;\n",
              "      box-shadow: 0px 1px 2px rgba(60, 64, 67, 0.3), 0px 1px 3px 1px rgba(60, 64, 67, 0.15);\n",
              "      fill: #174EA6;\n",
              "    }\n",
              "\n",
              "    [theme=dark] .colab-df-convert {\n",
              "      background-color: #3B4455;\n",
              "      fill: #D2E3FC;\n",
              "    }\n",
              "\n",
              "    [theme=dark] .colab-df-convert:hover {\n",
              "      background-color: #434B5C;\n",
              "      box-shadow: 0px 1px 3px 1px rgba(0, 0, 0, 0.15);\n",
              "      filter: drop-shadow(0px 1px 2px rgba(0, 0, 0, 0.3));\n",
              "      fill: #FFFFFF;\n",
              "    }\n",
              "  </style>\n",
              "\n",
              "      <script>\n",
              "        const buttonEl =\n",
              "          document.querySelector('#df-29cd2869-2d6e-4969-9efd-603f32976f04 button.colab-df-convert');\n",
              "        buttonEl.style.display =\n",
              "          google.colab.kernel.accessAllowed ? 'block' : 'none';\n",
              "\n",
              "        async function convertToInteractive(key) {\n",
              "          const element = document.querySelector('#df-29cd2869-2d6e-4969-9efd-603f32976f04');\n",
              "          const dataTable =\n",
              "            await google.colab.kernel.invokeFunction('convertToInteractive',\n",
              "                                                     [key], {});\n",
              "          if (!dataTable) return;\n",
              "\n",
              "          const docLinkHtml = 'Like what you see? Visit the ' +\n",
              "            '<a target=\"_blank\" href=https://colab.research.google.com/notebooks/data_table.ipynb>data table notebook</a>'\n",
              "            + ' to learn more about interactive tables.';\n",
              "          element.innerHTML = '';\n",
              "          dataTable['output_type'] = 'display_data';\n",
              "          await google.colab.output.renderOutput(dataTable, element);\n",
              "          const docLink = document.createElement('div');\n",
              "          docLink.innerHTML = docLinkHtml;\n",
              "          element.appendChild(docLink);\n",
              "        }\n",
              "      </script>\n",
              "    </div>\n",
              "  </div>\n",
              "  "
            ]
          },
          "metadata": {},
          "execution_count": 5
        }
      ]
    },
    {
      "cell_type": "code",
      "source": [
        "df.info()"
      ],
      "metadata": {
        "colab": {
          "base_uri": "https://localhost:8080/"
        },
        "id": "AmQIYE06na4q",
        "outputId": "5f0a9191-c04f-43ac-a113-b022f0d8f6e5"
      },
      "execution_count": null,
      "outputs": [
        {
          "output_type": "stream",
          "name": "stdout",
          "text": [
            "<class 'pandas.core.frame.DataFrame'>\n",
            "RangeIndex: 768 entries, 0 to 767\n",
            "Data columns (total 9 columns):\n",
            " #   Column  Non-Null Count  Dtype  \n",
            "---  ------  --------------  -----  \n",
            " 0   NEMB    768 non-null    int64  \n",
            " 1   GLU     768 non-null    int64  \n",
            " 2   PART    768 non-null    int64  \n",
            " 3   GROS    768 non-null    int64  \n",
            " 4   HUR     768 non-null    int64  \n",
            " 5   BMI     768 non-null    float64\n",
            " 6   FPRED   768 non-null    float64\n",
            " 7   AGE     768 non-null    int64  \n",
            " 8   CLASS   768 non-null    int64  \n",
            "dtypes: float64(2), int64(7)\n",
            "memory usage: 54.1 KB\n"
          ]
        }
      ]
    },
    {
      "cell_type": "code",
      "source": [
        "df.shape"
      ],
      "metadata": {
        "colab": {
          "base_uri": "https://localhost:8080/"
        },
        "id": "RK7qAGHGncbb",
        "outputId": "c934a1df-d5a0-45a9-b333-20b2d4788dd2"
      },
      "execution_count": null,
      "outputs": [
        {
          "output_type": "execute_result",
          "data": {
            "text/plain": [
              "(768, 9)"
            ]
          },
          "metadata": {},
          "execution_count": 7
        }
      ]
    },
    {
      "cell_type": "code",
      "source": [
        "df.describe()"
      ],
      "metadata": {
        "colab": {
          "base_uri": "https://localhost:8080/",
          "height": 300
        },
        "id": "0bDbEcoUn18g",
        "outputId": "38d71c8c-66fb-414d-9287-e874f335b2f4"
      },
      "execution_count": null,
      "outputs": [
        {
          "output_type": "execute_result",
          "data": {
            "text/plain": [
              "             NEMB         GLU        PART        GROS         HUR         BMI  \\\n",
              "count  768.000000  768.000000  768.000000  768.000000  768.000000  768.000000   \n",
              "mean     3.845052  120.894531   69.105469   20.536458   79.799479   31.992578   \n",
              "std      3.369578   31.972618   19.355807   15.952218  115.244002    7.884160   \n",
              "min      0.000000    0.000000    0.000000    0.000000    0.000000    0.000000   \n",
              "25%      1.000000   99.000000   62.000000    0.000000    0.000000   27.300000   \n",
              "50%      3.000000  117.000000   72.000000   23.000000   30.500000   32.000000   \n",
              "75%      6.000000  140.250000   80.000000   32.000000  127.250000   36.600000   \n",
              "max     17.000000  199.000000  122.000000   99.000000  846.000000   67.100000   \n",
              "\n",
              "            FPRED         AGE       CLASS  \n",
              "count  768.000000  768.000000  768.000000  \n",
              "mean     0.471876   33.240885    0.348958  \n",
              "std      0.331329   11.760232    0.476951  \n",
              "min      0.078000   21.000000    0.000000  \n",
              "25%      0.243750   24.000000    0.000000  \n",
              "50%      0.372500   29.000000    0.000000  \n",
              "75%      0.626250   41.000000    1.000000  \n",
              "max      2.420000   81.000000    1.000000  "
            ],
            "text/html": [
              "\n",
              "  <div id=\"df-c8804937-24dc-466e-93bc-554dd21dcfbb\">\n",
              "    <div class=\"colab-df-container\">\n",
              "      <div>\n",
              "<style scoped>\n",
              "    .dataframe tbody tr th:only-of-type {\n",
              "        vertical-align: middle;\n",
              "    }\n",
              "\n",
              "    .dataframe tbody tr th {\n",
              "        vertical-align: top;\n",
              "    }\n",
              "\n",
              "    .dataframe thead th {\n",
              "        text-align: right;\n",
              "    }\n",
              "</style>\n",
              "<table border=\"1\" class=\"dataframe\">\n",
              "  <thead>\n",
              "    <tr style=\"text-align: right;\">\n",
              "      <th></th>\n",
              "      <th>NEMB</th>\n",
              "      <th>GLU</th>\n",
              "      <th>PART</th>\n",
              "      <th>GROS</th>\n",
              "      <th>HUR</th>\n",
              "      <th>BMI</th>\n",
              "      <th>FPRED</th>\n",
              "      <th>AGE</th>\n",
              "      <th>CLASS</th>\n",
              "    </tr>\n",
              "  </thead>\n",
              "  <tbody>\n",
              "    <tr>\n",
              "      <th>count</th>\n",
              "      <td>768.000000</td>\n",
              "      <td>768.000000</td>\n",
              "      <td>768.000000</td>\n",
              "      <td>768.000000</td>\n",
              "      <td>768.000000</td>\n",
              "      <td>768.000000</td>\n",
              "      <td>768.000000</td>\n",
              "      <td>768.000000</td>\n",
              "      <td>768.000000</td>\n",
              "    </tr>\n",
              "    <tr>\n",
              "      <th>mean</th>\n",
              "      <td>3.845052</td>\n",
              "      <td>120.894531</td>\n",
              "      <td>69.105469</td>\n",
              "      <td>20.536458</td>\n",
              "      <td>79.799479</td>\n",
              "      <td>31.992578</td>\n",
              "      <td>0.471876</td>\n",
              "      <td>33.240885</td>\n",
              "      <td>0.348958</td>\n",
              "    </tr>\n",
              "    <tr>\n",
              "      <th>std</th>\n",
              "      <td>3.369578</td>\n",
              "      <td>31.972618</td>\n",
              "      <td>19.355807</td>\n",
              "      <td>15.952218</td>\n",
              "      <td>115.244002</td>\n",
              "      <td>7.884160</td>\n",
              "      <td>0.331329</td>\n",
              "      <td>11.760232</td>\n",
              "      <td>0.476951</td>\n",
              "    </tr>\n",
              "    <tr>\n",
              "      <th>min</th>\n",
              "      <td>0.000000</td>\n",
              "      <td>0.000000</td>\n",
              "      <td>0.000000</td>\n",
              "      <td>0.000000</td>\n",
              "      <td>0.000000</td>\n",
              "      <td>0.000000</td>\n",
              "      <td>0.078000</td>\n",
              "      <td>21.000000</td>\n",
              "      <td>0.000000</td>\n",
              "    </tr>\n",
              "    <tr>\n",
              "      <th>25%</th>\n",
              "      <td>1.000000</td>\n",
              "      <td>99.000000</td>\n",
              "      <td>62.000000</td>\n",
              "      <td>0.000000</td>\n",
              "      <td>0.000000</td>\n",
              "      <td>27.300000</td>\n",
              "      <td>0.243750</td>\n",
              "      <td>24.000000</td>\n",
              "      <td>0.000000</td>\n",
              "    </tr>\n",
              "    <tr>\n",
              "      <th>50%</th>\n",
              "      <td>3.000000</td>\n",
              "      <td>117.000000</td>\n",
              "      <td>72.000000</td>\n",
              "      <td>23.000000</td>\n",
              "      <td>30.500000</td>\n",
              "      <td>32.000000</td>\n",
              "      <td>0.372500</td>\n",
              "      <td>29.000000</td>\n",
              "      <td>0.000000</td>\n",
              "    </tr>\n",
              "    <tr>\n",
              "      <th>75%</th>\n",
              "      <td>6.000000</td>\n",
              "      <td>140.250000</td>\n",
              "      <td>80.000000</td>\n",
              "      <td>32.000000</td>\n",
              "      <td>127.250000</td>\n",
              "      <td>36.600000</td>\n",
              "      <td>0.626250</td>\n",
              "      <td>41.000000</td>\n",
              "      <td>1.000000</td>\n",
              "    </tr>\n",
              "    <tr>\n",
              "      <th>max</th>\n",
              "      <td>17.000000</td>\n",
              "      <td>199.000000</td>\n",
              "      <td>122.000000</td>\n",
              "      <td>99.000000</td>\n",
              "      <td>846.000000</td>\n",
              "      <td>67.100000</td>\n",
              "      <td>2.420000</td>\n",
              "      <td>81.000000</td>\n",
              "      <td>1.000000</td>\n",
              "    </tr>\n",
              "  </tbody>\n",
              "</table>\n",
              "</div>\n",
              "      <button class=\"colab-df-convert\" onclick=\"convertToInteractive('df-c8804937-24dc-466e-93bc-554dd21dcfbb')\"\n",
              "              title=\"Convert this dataframe to an interactive table.\"\n",
              "              style=\"display:none;\">\n",
              "        \n",
              "  <svg xmlns=\"http://www.w3.org/2000/svg\" height=\"24px\"viewBox=\"0 0 24 24\"\n",
              "       width=\"24px\">\n",
              "    <path d=\"M0 0h24v24H0V0z\" fill=\"none\"/>\n",
              "    <path d=\"M18.56 5.44l.94 2.06.94-2.06 2.06-.94-2.06-.94-.94-2.06-.94 2.06-2.06.94zm-11 1L8.5 8.5l.94-2.06 2.06-.94-2.06-.94L8.5 2.5l-.94 2.06-2.06.94zm10 10l.94 2.06.94-2.06 2.06-.94-2.06-.94-.94-2.06-.94 2.06-2.06.94z\"/><path d=\"M17.41 7.96l-1.37-1.37c-.4-.4-.92-.59-1.43-.59-.52 0-1.04.2-1.43.59L10.3 9.45l-7.72 7.72c-.78.78-.78 2.05 0 2.83L4 21.41c.39.39.9.59 1.41.59.51 0 1.02-.2 1.41-.59l7.78-7.78 2.81-2.81c.8-.78.8-2.07 0-2.86zM5.41 20L4 18.59l7.72-7.72 1.47 1.35L5.41 20z\"/>\n",
              "  </svg>\n",
              "      </button>\n",
              "      \n",
              "  <style>\n",
              "    .colab-df-container {\n",
              "      display:flex;\n",
              "      flex-wrap:wrap;\n",
              "      gap: 12px;\n",
              "    }\n",
              "\n",
              "    .colab-df-convert {\n",
              "      background-color: #E8F0FE;\n",
              "      border: none;\n",
              "      border-radius: 50%;\n",
              "      cursor: pointer;\n",
              "      display: none;\n",
              "      fill: #1967D2;\n",
              "      height: 32px;\n",
              "      padding: 0 0 0 0;\n",
              "      width: 32px;\n",
              "    }\n",
              "\n",
              "    .colab-df-convert:hover {\n",
              "      background-color: #E2EBFA;\n",
              "      box-shadow: 0px 1px 2px rgba(60, 64, 67, 0.3), 0px 1px 3px 1px rgba(60, 64, 67, 0.15);\n",
              "      fill: #174EA6;\n",
              "    }\n",
              "\n",
              "    [theme=dark] .colab-df-convert {\n",
              "      background-color: #3B4455;\n",
              "      fill: #D2E3FC;\n",
              "    }\n",
              "\n",
              "    [theme=dark] .colab-df-convert:hover {\n",
              "      background-color: #434B5C;\n",
              "      box-shadow: 0px 1px 3px 1px rgba(0, 0, 0, 0.15);\n",
              "      filter: drop-shadow(0px 1px 2px rgba(0, 0, 0, 0.3));\n",
              "      fill: #FFFFFF;\n",
              "    }\n",
              "  </style>\n",
              "\n",
              "      <script>\n",
              "        const buttonEl =\n",
              "          document.querySelector('#df-c8804937-24dc-466e-93bc-554dd21dcfbb button.colab-df-convert');\n",
              "        buttonEl.style.display =\n",
              "          google.colab.kernel.accessAllowed ? 'block' : 'none';\n",
              "\n",
              "        async function convertToInteractive(key) {\n",
              "          const element = document.querySelector('#df-c8804937-24dc-466e-93bc-554dd21dcfbb');\n",
              "          const dataTable =\n",
              "            await google.colab.kernel.invokeFunction('convertToInteractive',\n",
              "                                                     [key], {});\n",
              "          if (!dataTable) return;\n",
              "\n",
              "          const docLinkHtml = 'Like what you see? Visit the ' +\n",
              "            '<a target=\"_blank\" href=https://colab.research.google.com/notebooks/data_table.ipynb>data table notebook</a>'\n",
              "            + ' to learn more about interactive tables.';\n",
              "          element.innerHTML = '';\n",
              "          dataTable['output_type'] = 'display_data';\n",
              "          await google.colab.output.renderOutput(dataTable, element);\n",
              "          const docLink = document.createElement('div');\n",
              "          docLink.innerHTML = docLinkHtml;\n",
              "          element.appendChild(docLink);\n",
              "        }\n",
              "      </script>\n",
              "    </div>\n",
              "  </div>\n",
              "  "
            ]
          },
          "metadata": {},
          "execution_count": 8
        }
      ]
    },
    {
      "cell_type": "markdown",
      "source": [
        "Se observan muchas columnas con valores minimos de 0 lo cual tiene poco sentido practico como por ejemplo:\n",
        "\n",
        "    1. Concentracion de plasma de glucosa (GLU)\n",
        "    2. Presion arterial diastolica en mm Hg (PART).\n",
        "    3. Grosor de piel en triceps en mm (GROS).\n",
        "    4. 2-Hour serum insulin en mu U/ml (HUR).\n",
        "    5. BMI (peso kg/(altura en m)^2 en (BMI).\n",
        "    "
      ],
      "metadata": {
        "id": "SGCKJM-in78J"
      }
    },
    {
      "cell_type": "markdown",
      "source": [
        "Calculemos cuantos valores problematicos tenemos"
      ],
      "metadata": {
        "id": "yH7InMjMoX_c"
      }
    },
    {
      "cell_type": "code",
      "source": [
        "# contar el numero de nulos por columnas\n",
        "nun_missing = (df[['GLU','PART','GROS','HUR','BMI']] == 0).sum()\n",
        "print(nun_missing)"
      ],
      "metadata": {
        "colab": {
          "base_uri": "https://localhost:8080/"
        },
        "id": "4VVkBr1boaGR",
        "outputId": "6c6a4cec-bed1-4f1e-940e-400c57e67456"
      },
      "execution_count": null,
      "outputs": [
        {
          "output_type": "stream",
          "name": "stdout",
          "text": [
            "GLU       5\n",
            "PART     35\n",
            "GROS    227\n",
            "HUR     374\n",
            "BMI      11\n",
            "dtype: int64\n"
          ]
        }
      ]
    },
    {
      "cell_type": "markdown",
      "source": [
        "Reemplazar estos valores por nulos"
      ],
      "metadata": {
        "id": "AgzlnIUiozpX"
      }
    },
    {
      "cell_type": "code",
      "source": [
        "# replace '0' values with 'nan'\n",
        "df[['GLU','PART','GROS','HUR','BMI']] = df[['GLU','PART','GROS','HUR','BMI']].replace(0, np.nan)\n",
        "# count the number of nan values in each column\n",
        "print(df.isnull().sum())"
      ],
      "metadata": {
        "colab": {
          "base_uri": "https://localhost:8080/"
        },
        "id": "mbnydAYkoXWv",
        "outputId": "47373de5-b4a9-42c3-c4ea-6b287c08ecf9"
      },
      "execution_count": null,
      "outputs": [
        {
          "output_type": "stream",
          "name": "stdout",
          "text": [
            "NEMB       0\n",
            "GLU        5\n",
            "PART      35\n",
            "GROS     227\n",
            "HUR      374\n",
            "BMI       11\n",
            "FPRED      0\n",
            "AGE        0\n",
            "CLASS      0\n",
            "dtype: int64\n"
          ]
        }
      ]
    },
    {
      "cell_type": "code",
      "source": [
        "df"
      ],
      "metadata": {
        "colab": {
          "base_uri": "https://localhost:8080/",
          "height": 424
        },
        "id": "OKdZ_SqGmAvy",
        "outputId": "7610370e-450a-4c31-8f36-479984379e10"
      },
      "execution_count": null,
      "outputs": [
        {
          "output_type": "execute_result",
          "data": {
            "text/plain": [
              "     NEMB    GLU  PART  GROS    HUR   BMI  FPRED  AGE  CLASS\n",
              "0       6  148.0  72.0  35.0    NaN  33.6  0.627   50      1\n",
              "1       1   85.0  66.0  29.0    NaN  26.6  0.351   31      0\n",
              "2       8  183.0  64.0   NaN    NaN  23.3  0.672   32      1\n",
              "3       1   89.0  66.0  23.0   94.0  28.1  0.167   21      0\n",
              "4       0  137.0  40.0  35.0  168.0  43.1  2.288   33      1\n",
              "..    ...    ...   ...   ...    ...   ...    ...  ...    ...\n",
              "763    10  101.0  76.0  48.0  180.0  32.9  0.171   63      0\n",
              "764     2  122.0  70.0  27.0    NaN  36.8  0.340   27      0\n",
              "765     5  121.0  72.0  23.0  112.0  26.2  0.245   30      0\n",
              "766     1  126.0  60.0   NaN    NaN  30.1  0.349   47      1\n",
              "767     1   93.0  70.0  31.0    NaN  30.4  0.315   23      0\n",
              "\n",
              "[768 rows x 9 columns]"
            ],
            "text/html": [
              "\n",
              "  <div id=\"df-757204d1-2e62-4511-ac02-9c5ac0d641a5\">\n",
              "    <div class=\"colab-df-container\">\n",
              "      <div>\n",
              "<style scoped>\n",
              "    .dataframe tbody tr th:only-of-type {\n",
              "        vertical-align: middle;\n",
              "    }\n",
              "\n",
              "    .dataframe tbody tr th {\n",
              "        vertical-align: top;\n",
              "    }\n",
              "\n",
              "    .dataframe thead th {\n",
              "        text-align: right;\n",
              "    }\n",
              "</style>\n",
              "<table border=\"1\" class=\"dataframe\">\n",
              "  <thead>\n",
              "    <tr style=\"text-align: right;\">\n",
              "      <th></th>\n",
              "      <th>NEMB</th>\n",
              "      <th>GLU</th>\n",
              "      <th>PART</th>\n",
              "      <th>GROS</th>\n",
              "      <th>HUR</th>\n",
              "      <th>BMI</th>\n",
              "      <th>FPRED</th>\n",
              "      <th>AGE</th>\n",
              "      <th>CLASS</th>\n",
              "    </tr>\n",
              "  </thead>\n",
              "  <tbody>\n",
              "    <tr>\n",
              "      <th>0</th>\n",
              "      <td>6</td>\n",
              "      <td>148.0</td>\n",
              "      <td>72.0</td>\n",
              "      <td>35.0</td>\n",
              "      <td>NaN</td>\n",
              "      <td>33.6</td>\n",
              "      <td>0.627</td>\n",
              "      <td>50</td>\n",
              "      <td>1</td>\n",
              "    </tr>\n",
              "    <tr>\n",
              "      <th>1</th>\n",
              "      <td>1</td>\n",
              "      <td>85.0</td>\n",
              "      <td>66.0</td>\n",
              "      <td>29.0</td>\n",
              "      <td>NaN</td>\n",
              "      <td>26.6</td>\n",
              "      <td>0.351</td>\n",
              "      <td>31</td>\n",
              "      <td>0</td>\n",
              "    </tr>\n",
              "    <tr>\n",
              "      <th>2</th>\n",
              "      <td>8</td>\n",
              "      <td>183.0</td>\n",
              "      <td>64.0</td>\n",
              "      <td>NaN</td>\n",
              "      <td>NaN</td>\n",
              "      <td>23.3</td>\n",
              "      <td>0.672</td>\n",
              "      <td>32</td>\n",
              "      <td>1</td>\n",
              "    </tr>\n",
              "    <tr>\n",
              "      <th>3</th>\n",
              "      <td>1</td>\n",
              "      <td>89.0</td>\n",
              "      <td>66.0</td>\n",
              "      <td>23.0</td>\n",
              "      <td>94.0</td>\n",
              "      <td>28.1</td>\n",
              "      <td>0.167</td>\n",
              "      <td>21</td>\n",
              "      <td>0</td>\n",
              "    </tr>\n",
              "    <tr>\n",
              "      <th>4</th>\n",
              "      <td>0</td>\n",
              "      <td>137.0</td>\n",
              "      <td>40.0</td>\n",
              "      <td>35.0</td>\n",
              "      <td>168.0</td>\n",
              "      <td>43.1</td>\n",
              "      <td>2.288</td>\n",
              "      <td>33</td>\n",
              "      <td>1</td>\n",
              "    </tr>\n",
              "    <tr>\n",
              "      <th>...</th>\n",
              "      <td>...</td>\n",
              "      <td>...</td>\n",
              "      <td>...</td>\n",
              "      <td>...</td>\n",
              "      <td>...</td>\n",
              "      <td>...</td>\n",
              "      <td>...</td>\n",
              "      <td>...</td>\n",
              "      <td>...</td>\n",
              "    </tr>\n",
              "    <tr>\n",
              "      <th>763</th>\n",
              "      <td>10</td>\n",
              "      <td>101.0</td>\n",
              "      <td>76.0</td>\n",
              "      <td>48.0</td>\n",
              "      <td>180.0</td>\n",
              "      <td>32.9</td>\n",
              "      <td>0.171</td>\n",
              "      <td>63</td>\n",
              "      <td>0</td>\n",
              "    </tr>\n",
              "    <tr>\n",
              "      <th>764</th>\n",
              "      <td>2</td>\n",
              "      <td>122.0</td>\n",
              "      <td>70.0</td>\n",
              "      <td>27.0</td>\n",
              "      <td>NaN</td>\n",
              "      <td>36.8</td>\n",
              "      <td>0.340</td>\n",
              "      <td>27</td>\n",
              "      <td>0</td>\n",
              "    </tr>\n",
              "    <tr>\n",
              "      <th>765</th>\n",
              "      <td>5</td>\n",
              "      <td>121.0</td>\n",
              "      <td>72.0</td>\n",
              "      <td>23.0</td>\n",
              "      <td>112.0</td>\n",
              "      <td>26.2</td>\n",
              "      <td>0.245</td>\n",
              "      <td>30</td>\n",
              "      <td>0</td>\n",
              "    </tr>\n",
              "    <tr>\n",
              "      <th>766</th>\n",
              "      <td>1</td>\n",
              "      <td>126.0</td>\n",
              "      <td>60.0</td>\n",
              "      <td>NaN</td>\n",
              "      <td>NaN</td>\n",
              "      <td>30.1</td>\n",
              "      <td>0.349</td>\n",
              "      <td>47</td>\n",
              "      <td>1</td>\n",
              "    </tr>\n",
              "    <tr>\n",
              "      <th>767</th>\n",
              "      <td>1</td>\n",
              "      <td>93.0</td>\n",
              "      <td>70.0</td>\n",
              "      <td>31.0</td>\n",
              "      <td>NaN</td>\n",
              "      <td>30.4</td>\n",
              "      <td>0.315</td>\n",
              "      <td>23</td>\n",
              "      <td>0</td>\n",
              "    </tr>\n",
              "  </tbody>\n",
              "</table>\n",
              "<p>768 rows × 9 columns</p>\n",
              "</div>\n",
              "      <button class=\"colab-df-convert\" onclick=\"convertToInteractive('df-757204d1-2e62-4511-ac02-9c5ac0d641a5')\"\n",
              "              title=\"Convert this dataframe to an interactive table.\"\n",
              "              style=\"display:none;\">\n",
              "        \n",
              "  <svg xmlns=\"http://www.w3.org/2000/svg\" height=\"24px\"viewBox=\"0 0 24 24\"\n",
              "       width=\"24px\">\n",
              "    <path d=\"M0 0h24v24H0V0z\" fill=\"none\"/>\n",
              "    <path d=\"M18.56 5.44l.94 2.06.94-2.06 2.06-.94-2.06-.94-.94-2.06-.94 2.06-2.06.94zm-11 1L8.5 8.5l.94-2.06 2.06-.94-2.06-.94L8.5 2.5l-.94 2.06-2.06.94zm10 10l.94 2.06.94-2.06 2.06-.94-2.06-.94-.94-2.06-.94 2.06-2.06.94z\"/><path d=\"M17.41 7.96l-1.37-1.37c-.4-.4-.92-.59-1.43-.59-.52 0-1.04.2-1.43.59L10.3 9.45l-7.72 7.72c-.78.78-.78 2.05 0 2.83L4 21.41c.39.39.9.59 1.41.59.51 0 1.02-.2 1.41-.59l7.78-7.78 2.81-2.81c.8-.78.8-2.07 0-2.86zM5.41 20L4 18.59l7.72-7.72 1.47 1.35L5.41 20z\"/>\n",
              "  </svg>\n",
              "      </button>\n",
              "      \n",
              "  <style>\n",
              "    .colab-df-container {\n",
              "      display:flex;\n",
              "      flex-wrap:wrap;\n",
              "      gap: 12px;\n",
              "    }\n",
              "\n",
              "    .colab-df-convert {\n",
              "      background-color: #E8F0FE;\n",
              "      border: none;\n",
              "      border-radius: 50%;\n",
              "      cursor: pointer;\n",
              "      display: none;\n",
              "      fill: #1967D2;\n",
              "      height: 32px;\n",
              "      padding: 0 0 0 0;\n",
              "      width: 32px;\n",
              "    }\n",
              "\n",
              "    .colab-df-convert:hover {\n",
              "      background-color: #E2EBFA;\n",
              "      box-shadow: 0px 1px 2px rgba(60, 64, 67, 0.3), 0px 1px 3px 1px rgba(60, 64, 67, 0.15);\n",
              "      fill: #174EA6;\n",
              "    }\n",
              "\n",
              "    [theme=dark] .colab-df-convert {\n",
              "      background-color: #3B4455;\n",
              "      fill: #D2E3FC;\n",
              "    }\n",
              "\n",
              "    [theme=dark] .colab-df-convert:hover {\n",
              "      background-color: #434B5C;\n",
              "      box-shadow: 0px 1px 3px 1px rgba(0, 0, 0, 0.15);\n",
              "      filter: drop-shadow(0px 1px 2px rgba(0, 0, 0, 0.3));\n",
              "      fill: #FFFFFF;\n",
              "    }\n",
              "  </style>\n",
              "\n",
              "      <script>\n",
              "        const buttonEl =\n",
              "          document.querySelector('#df-757204d1-2e62-4511-ac02-9c5ac0d641a5 button.colab-df-convert');\n",
              "        buttonEl.style.display =\n",
              "          google.colab.kernel.accessAllowed ? 'block' : 'none';\n",
              "\n",
              "        async function convertToInteractive(key) {\n",
              "          const element = document.querySelector('#df-757204d1-2e62-4511-ac02-9c5ac0d641a5');\n",
              "          const dataTable =\n",
              "            await google.colab.kernel.invokeFunction('convertToInteractive',\n",
              "                                                     [key], {});\n",
              "          if (!dataTable) return;\n",
              "\n",
              "          const docLinkHtml = 'Like what you see? Visit the ' +\n",
              "            '<a target=\"_blank\" href=https://colab.research.google.com/notebooks/data_table.ipynb>data table notebook</a>'\n",
              "            + ' to learn more about interactive tables.';\n",
              "          element.innerHTML = '';\n",
              "          dataTable['output_type'] = 'display_data';\n",
              "          await google.colab.output.renderOutput(dataTable, element);\n",
              "          const docLink = document.createElement('div');\n",
              "          docLink.innerHTML = docLinkHtml;\n",
              "          element.appendChild(docLink);\n",
              "        }\n",
              "      </script>\n",
              "    </div>\n",
              "  </div>\n",
              "  "
            ]
          },
          "metadata": {},
          "execution_count": 11
        }
      ]
    },
    {
      "cell_type": "markdown",
      "source": [
        "## Opcion 1 : Remover filas con nulos"
      ],
      "metadata": {
        "id": "38I2Gl6NpYOp"
      }
    },
    {
      "cell_type": "code",
      "source": [
        "# remover filas con na\n",
        "df.dropna(inplace=True)\n",
        "# mirar el resultado final\n",
        "df.shape"
      ],
      "metadata": {
        "colab": {
          "base_uri": "https://localhost:8080/"
        },
        "id": "uMNKVG3YpaSQ",
        "outputId": "54ac922b-8d70-4407-8a8a-fdd0169e31ff"
      },
      "execution_count": null,
      "outputs": [
        {
          "output_type": "execute_result",
          "data": {
            "text/plain": [
              "(392, 9)"
            ]
          },
          "metadata": {},
          "execution_count": 12
        }
      ]
    },
    {
      "cell_type": "markdown",
      "source": [
        "$$\\color{red}{\\text{OJO!! Remover las filas solo porque tengan nulos no es la mejor forma de trabajar}}$$"
      ],
      "metadata": {
        "id": "DGN02smmEhAa"
      }
    },
    {
      "cell_type": "markdown",
      "source": [
        "## Opcion 2: Imputar los nulos\n",
        "\n",
        "Para esto tenemos varias opciones\n",
        "1. Introducir un valor constante para los nulos o una categoria llamada Desconocido en variables categoricas\n",
        "2. Reemplazar por un valor seleccionado al azar de los otros registros\n",
        "3. Usar la media, mediana o moda para rellenar el valor\n",
        "4. Valor estimado usando un modelo (Inputación)"
      ],
      "metadata": {
        "id": "DUXGkbGhpruZ"
      }
    },
    {
      "cell_type": "code",
      "source": [
        "url='https://raw.githubusercontent.com/jbrownlee/Datasets/master/pima-indians-diabetes.csv'\n",
        "df= pd.read_csv(url,sep=',', header=None)\n",
        "print(df.shape)\n",
        "df=df.replace(0, np.nan)\n",
        "print(df.shape)"
      ],
      "metadata": {
        "id": "qhmXNNdDn7f9",
        "colab": {
          "base_uri": "https://localhost:8080/"
        },
        "outputId": "ae24ca12-70b5-4f9e-d6b3-a3aa7783ad4d"
      },
      "execution_count": null,
      "outputs": [
        {
          "output_type": "stream",
          "name": "stdout",
          "text": [
            "(768, 9)\n",
            "(768, 9)\n"
          ]
        }
      ]
    },
    {
      "cell_type": "code",
      "source": [
        "print(df.head())"
      ],
      "metadata": {
        "colab": {
          "base_uri": "https://localhost:8080/"
        },
        "id": "JynMQ1kt3PMb",
        "outputId": "9f71f8dd-5716-4e9a-bcd8-56c376495328"
      },
      "execution_count": null,
      "outputs": [
        {
          "output_type": "stream",
          "name": "stdout",
          "text": [
            "     0      1     2     3      4     5      6   7    8\n",
            "0  6.0  148.0  72.0  35.0    NaN  33.6  0.627  50  1.0\n",
            "1  1.0   85.0  66.0  29.0    NaN  26.6  0.351  31  NaN\n",
            "2  8.0  183.0  64.0   NaN    NaN  23.3  0.672  32  1.0\n",
            "3  1.0   89.0  66.0  23.0   94.0  28.1  0.167  21  NaN\n",
            "4  NaN  137.0  40.0  35.0  168.0  43.1  2.288  33  1.0\n"
          ]
        }
      ]
    },
    {
      "cell_type": "code",
      "source": [
        "# reemplazar con la media\n",
        "df.fillna(df.mean(), inplace=True)\n",
        "print(df.shape)\n",
        "print(df.head().round(2))"
      ],
      "metadata": {
        "colab": {
          "base_uri": "https://localhost:8080/"
        },
        "id": "E0q_bhGrFFtq",
        "outputId": "a67ee369-8361-4a2a-f635-633615d33ec2"
      },
      "execution_count": null,
      "outputs": [
        {
          "output_type": "stream",
          "name": "stdout",
          "text": [
            "(768, 9)\n",
            "      0      1     2      3       4     5     6   7    8\n",
            "0  6.00  148.0  72.0  35.00  155.55  33.6  0.63  50  1.0\n",
            "1  1.00   85.0  66.0  29.00  155.55  26.6  0.35  31  1.0\n",
            "2  8.00  183.0  64.0  29.15  155.55  23.3  0.67  32  1.0\n",
            "3  1.00   89.0  66.0  23.00   94.00  28.1  0.17  21  1.0\n",
            "4  4.49  137.0  40.0  35.00  168.00  43.1  2.29  33  1.0\n"
          ]
        }
      ]
    },
    {
      "cell_type": "markdown",
      "source": [
        "La librería ```scikit-learn``` proporciona la clase de preprocesamiento ```SimpleImputer``` que se puede usar para reemplazar los valores perdidos.\n",
        "\n",
        "Es una clase flexible que le permite especificar el valor a reemplazar (puede ser algo diferente a NaN) y la técnica utilizada para reemplazarlo (como media, mediana o moda). La clase ```SimpleImputer``` opera directamente en la matriz NumPy en lugar del DataFrame.\n",
        "\n",
        "El siguiente ejemplo usa la clase SimpleImputer para reemplazar los valores faltantes con la media de cada columna y luego imprime el número de valores de NaN en la matriz transformada."
      ],
      "metadata": {
        "id": "aFCxnJXG3isA"
      }
    },
    {
      "cell_type": "code",
      "source": [
        "from numpy import nan\n",
        "from numpy import isnan\n",
        "from pandas import read_csv\n",
        "from sklearn.impute import SimpleImputer\n",
        "url='https://raw.githubusercontent.com/jbrownlee/Datasets/master/pima-indians-diabetes.csv'\n",
        "df= pd.read_csv(url,sep=',', header=None)\n",
        "df=df.replace(0, np.nan)\n",
        "print(df.shape)\n",
        "print(df.head())"
      ],
      "metadata": {
        "colab": {
          "base_uri": "https://localhost:8080/"
        },
        "id": "85eqySTD3NkW",
        "outputId": "e4256ab2-4ad4-4ccc-ea32-82ff41f00841"
      },
      "execution_count": null,
      "outputs": [
        {
          "output_type": "stream",
          "name": "stdout",
          "text": [
            "(768, 9)\n",
            "     0      1     2     3      4     5      6   7    8\n",
            "0  6.0  148.0  72.0  35.0    NaN  33.6  0.627  50  1.0\n",
            "1  1.0   85.0  66.0  29.0    NaN  26.6  0.351  31  NaN\n",
            "2  8.0  183.0  64.0   NaN    NaN  23.3  0.672  32  1.0\n",
            "3  1.0   89.0  66.0  23.0   94.0  28.1  0.167  21  NaN\n",
            "4  NaN  137.0  40.0  35.0  168.0  43.1  2.288  33  1.0\n"
          ]
        }
      ]
    },
    {
      "cell_type": "code",
      "source": [
        "# 1. Crear un numpy array con los valores\n",
        "valores = df.values\n",
        "\n",
        "# 2. Definir el imputador\n",
        "imputador = SimpleImputer(missing_values=np.nan, strategy='mean')\n",
        "\n",
        "# 3. transformar el dataset\n",
        "transformados = imputador.fit_transform(valores)\n",
        "\n",
        "# 4.Contar el numero de NaN en cada columna\n",
        "print('Missing: %d' % isnan(transformados).sum())\n",
        "\n",
        "# 5. Transformar array en DataFrame\n",
        "transformados=pd.DataFrame(transformados)\n",
        "#transformados= transformados.rename(columns={0: \"NEMB\", 1: \"GLU\", 2: \"PART\",3:\"GROS\",4:\"HUR\",5:\"BMI\",6:\"FPRED\",7:\"AGE\",8:\"CLASS\"})\n",
        "print(transformados.head().round(2))"
      ],
      "metadata": {
        "colab": {
          "base_uri": "https://localhost:8080/"
        },
        "id": "_kkpod56GlQv",
        "outputId": "f2985dfd-68f1-4e8a-cf3f-953620d4847c"
      },
      "execution_count": null,
      "outputs": [
        {
          "output_type": "stream",
          "name": "stdout",
          "text": [
            "Missing: 0\n",
            "      0      1     2      3       4     5     6     7    8\n",
            "0  6.00  148.0  72.0  35.00  155.55  33.6  0.63  50.0  1.0\n",
            "1  1.00   85.0  66.0  29.00  155.55  26.6  0.35  31.0  1.0\n",
            "2  8.00  183.0  64.0  29.15  155.55  23.3  0.67  32.0  1.0\n",
            "3  1.00   89.0  66.0  23.00   94.00  28.1  0.17  21.0  1.0\n",
            "4  4.49  137.0  40.0  35.00  168.00  43.1  2.29  33.0  1.0\n"
          ]
        }
      ]
    },
    {
      "cell_type": "code",
      "source": [
        "# Crear un numpy array con los valores\n",
        "valores = df.values\n",
        "# definir el imputador\n",
        "imputador = SimpleImputer(missing_values=np.nan, strategy='median')\n",
        "# trabsformar el dataset\n",
        "transformados = imputador.fit_transform(valores)\n",
        "# Contar el numero de NaN en cada columna\n",
        "print('Missing: %d' % isnan(transformados).sum())\n",
        "transformados=pd.DataFrame(transformados)\n",
        "#transformados= transformados.rename(columns={0: \"NEMB\", 1: \"GLU\", 2: \"PART\",3:\"GROS\",4:\"HUR\",5:\"BMI\",6:\"FPRED\",7:\"AGE\",8:\"CLASS\"})\n",
        "print(transformados.head().round(2))"
      ],
      "metadata": {
        "colab": {
          "base_uri": "https://localhost:8080/"
        },
        "id": "e7PSDkmpIC64",
        "outputId": "171fc9f5-f52e-4ad3-99f2-33db49adafc2"
      },
      "execution_count": null,
      "outputs": [
        {
          "output_type": "stream",
          "name": "stdout",
          "text": [
            "Missing: 0\n",
            "     0      1     2     3      4     5     6     7    8\n",
            "0  6.0  148.0  72.0  35.0  125.0  33.6  0.63  50.0  1.0\n",
            "1  1.0   85.0  66.0  29.0  125.0  26.6  0.35  31.0  1.0\n",
            "2  8.0  183.0  64.0  29.0  125.0  23.3  0.67  32.0  1.0\n",
            "3  1.0   89.0  66.0  23.0   94.0  28.1  0.17  21.0  1.0\n",
            "4  4.0  137.0  40.0  35.0  168.0  43.1  2.29  33.0  1.0\n"
          ]
        }
      ]
    },
    {
      "cell_type": "code",
      "source": [
        "# Crear un numpy array con los valores\n",
        "valores = df.values\n",
        "# definir el imputador\n",
        "imputador = SimpleImputer(missing_values=np.nan, strategy='most_frequent')\n",
        "# trabsformar el dataset\n",
        "transformados = imputador.fit_transform(valores)\n",
        "# Contar el numero de NaN en cada columna\n",
        "print('Missing: %d' % isnan(transformados).sum())\n",
        "transformados=pd.DataFrame(transformados)\n",
        "#transformados= transformados.rename(columns={0: \"NEMB\", 1: \"GLU\", 2: \"PART\",3:\"GROS\",4:\"HUR\",5:\"BMI\",6:\"FPRED\",7:\"AGE\",8:\"CLASS\"})\n",
        "print(transformados.head().round(2))"
      ],
      "metadata": {
        "colab": {
          "base_uri": "https://localhost:8080/"
        },
        "id": "2OV-_wh1IZIO",
        "outputId": "cde37588-b313-4499-be76-d45b3546e5e6"
      },
      "execution_count": null,
      "outputs": [
        {
          "output_type": "stream",
          "name": "stdout",
          "text": [
            "Missing: 0\n",
            "     0      1     2     3      4     5     6     7    8\n",
            "0  6.0  148.0  72.0  35.0  105.0  33.6  0.63  50.0  1.0\n",
            "1  1.0   85.0  66.0  29.0  105.0  26.6  0.35  31.0  1.0\n",
            "2  8.0  183.0  64.0  32.0  105.0  23.3  0.67  32.0  1.0\n",
            "3  1.0   89.0  66.0  23.0   94.0  28.1  0.17  21.0  1.0\n",
            "4  1.0  137.0  40.0  35.0  168.0  43.1  2.29  33.0  1.0\n"
          ]
        }
      ]
    },
    {
      "cell_type": "code",
      "source": [
        "# Crear un numpy array con los valores\n",
        "valores = df.values\n",
        "# definir el imputador\n",
        "imputador = SimpleImputer(missing_values=np.nan, strategy='constant',fill_value=10)\n",
        "# trabsformar el dataset\n",
        "transformados = imputador.fit_transform(valores)\n",
        "# Contar el numero de NaN en cada columna\n",
        "print('Missing: %d' % isnan(transformados).sum())\n",
        "transformados=pd.DataFrame(transformados)\n",
        "#transformados= transformados.rename(columns={0: \"NEMB\", 1: \"GLU\", 2: \"PART\",3:\"GROS\",4:\"HUR\",5:\"BMI\",6:\"FPRED\",7:\"AGE\",8:\"CLASS\"})\n",
        "print(transformados.head().round(2))"
      ],
      "metadata": {
        "colab": {
          "base_uri": "https://localhost:8080/"
        },
        "id": "PiLul2D0nFpH",
        "outputId": "0ec7c454-2522-42f5-c432-9d588aae9dce"
      },
      "execution_count": null,
      "outputs": [
        {
          "output_type": "stream",
          "name": "stdout",
          "text": [
            "Missing: 0\n",
            "      0      1     2     3      4     5     6     7     8\n",
            "0   6.0  148.0  72.0  35.0   10.0  33.6  0.63  50.0   1.0\n",
            "1   1.0   85.0  66.0  29.0   10.0  26.6  0.35  31.0  10.0\n",
            "2   8.0  183.0  64.0  10.0   10.0  23.3  0.67  32.0   1.0\n",
            "3   1.0   89.0  66.0  23.0   94.0  28.1  0.17  21.0  10.0\n",
            "4  10.0  137.0  40.0  35.0  168.0  43.1  2.29  33.0   1.0\n"
          ]
        }
      ]
    },
    {
      "cell_type": "code",
      "source": [
        "# Para obtener ayuda sobre la clase\n",
        "SimpleImputer?"
      ],
      "metadata": {
        "id": "SYlFfcqH4u91"
      },
      "execution_count": null,
      "outputs": []
    },
    {
      "cell_type": "markdown",
      "source": [
        "El parametro ```strategy``` puede tomar valores de ```['mean','median','most_frequent','constant']``` si se usa ``constant``` se debe proporcionar el argumento ```fill_value````con el valor a reemplazar"
      ],
      "metadata": {
        "id": "Rc_0LIUi4sEy"
      }
    },
    {
      "cell_type": "code",
      "source": [
        "transformados=pd.DataFrame(transformados)\n",
        "transformados= transformados.rename(columns={0: \"NEMB\", 1: \"GLU\", 2: \"PART\",3:\"GROS\",4:\"HUR\",5:\"BMI\",6:\"FPRED\",7:\"AGE\",8:\"CLASS\"})\n",
        "transformados.head()"
      ],
      "metadata": {
        "colab": {
          "base_uri": "https://localhost:8080/",
          "height": 206
        },
        "id": "2oTu7iIF4OS9",
        "outputId": "dceb08b3-58fa-469a-805a-d7437077687e"
      },
      "execution_count": null,
      "outputs": [
        {
          "output_type": "execute_result",
          "data": {
            "text/plain": [
              "   NEMB    GLU  PART  GROS    HUR   BMI  FPRED   AGE  CLASS\n",
              "0   6.0  148.0  72.0  35.0   10.0  33.6  0.627  50.0    1.0\n",
              "1   1.0   85.0  66.0  29.0   10.0  26.6  0.351  31.0   10.0\n",
              "2   8.0  183.0  64.0  10.0   10.0  23.3  0.672  32.0    1.0\n",
              "3   1.0   89.0  66.0  23.0   94.0  28.1  0.167  21.0   10.0\n",
              "4  10.0  137.0  40.0  35.0  168.0  43.1  2.288  33.0    1.0"
            ],
            "text/html": [
              "\n",
              "  <div id=\"df-fbacf8a4-25f3-40e1-bc0b-4bf0b7c5272d\">\n",
              "    <div class=\"colab-df-container\">\n",
              "      <div>\n",
              "<style scoped>\n",
              "    .dataframe tbody tr th:only-of-type {\n",
              "        vertical-align: middle;\n",
              "    }\n",
              "\n",
              "    .dataframe tbody tr th {\n",
              "        vertical-align: top;\n",
              "    }\n",
              "\n",
              "    .dataframe thead th {\n",
              "        text-align: right;\n",
              "    }\n",
              "</style>\n",
              "<table border=\"1\" class=\"dataframe\">\n",
              "  <thead>\n",
              "    <tr style=\"text-align: right;\">\n",
              "      <th></th>\n",
              "      <th>NEMB</th>\n",
              "      <th>GLU</th>\n",
              "      <th>PART</th>\n",
              "      <th>GROS</th>\n",
              "      <th>HUR</th>\n",
              "      <th>BMI</th>\n",
              "      <th>FPRED</th>\n",
              "      <th>AGE</th>\n",
              "      <th>CLASS</th>\n",
              "    </tr>\n",
              "  </thead>\n",
              "  <tbody>\n",
              "    <tr>\n",
              "      <th>0</th>\n",
              "      <td>6.0</td>\n",
              "      <td>148.0</td>\n",
              "      <td>72.0</td>\n",
              "      <td>35.0</td>\n",
              "      <td>10.0</td>\n",
              "      <td>33.6</td>\n",
              "      <td>0.627</td>\n",
              "      <td>50.0</td>\n",
              "      <td>1.0</td>\n",
              "    </tr>\n",
              "    <tr>\n",
              "      <th>1</th>\n",
              "      <td>1.0</td>\n",
              "      <td>85.0</td>\n",
              "      <td>66.0</td>\n",
              "      <td>29.0</td>\n",
              "      <td>10.0</td>\n",
              "      <td>26.6</td>\n",
              "      <td>0.351</td>\n",
              "      <td>31.0</td>\n",
              "      <td>10.0</td>\n",
              "    </tr>\n",
              "    <tr>\n",
              "      <th>2</th>\n",
              "      <td>8.0</td>\n",
              "      <td>183.0</td>\n",
              "      <td>64.0</td>\n",
              "      <td>10.0</td>\n",
              "      <td>10.0</td>\n",
              "      <td>23.3</td>\n",
              "      <td>0.672</td>\n",
              "      <td>32.0</td>\n",
              "      <td>1.0</td>\n",
              "    </tr>\n",
              "    <tr>\n",
              "      <th>3</th>\n",
              "      <td>1.0</td>\n",
              "      <td>89.0</td>\n",
              "      <td>66.0</td>\n",
              "      <td>23.0</td>\n",
              "      <td>94.0</td>\n",
              "      <td>28.1</td>\n",
              "      <td>0.167</td>\n",
              "      <td>21.0</td>\n",
              "      <td>10.0</td>\n",
              "    </tr>\n",
              "    <tr>\n",
              "      <th>4</th>\n",
              "      <td>10.0</td>\n",
              "      <td>137.0</td>\n",
              "      <td>40.0</td>\n",
              "      <td>35.0</td>\n",
              "      <td>168.0</td>\n",
              "      <td>43.1</td>\n",
              "      <td>2.288</td>\n",
              "      <td>33.0</td>\n",
              "      <td>1.0</td>\n",
              "    </tr>\n",
              "  </tbody>\n",
              "</table>\n",
              "</div>\n",
              "      <button class=\"colab-df-convert\" onclick=\"convertToInteractive('df-fbacf8a4-25f3-40e1-bc0b-4bf0b7c5272d')\"\n",
              "              title=\"Convert this dataframe to an interactive table.\"\n",
              "              style=\"display:none;\">\n",
              "        \n",
              "  <svg xmlns=\"http://www.w3.org/2000/svg\" height=\"24px\"viewBox=\"0 0 24 24\"\n",
              "       width=\"24px\">\n",
              "    <path d=\"M0 0h24v24H0V0z\" fill=\"none\"/>\n",
              "    <path d=\"M18.56 5.44l.94 2.06.94-2.06 2.06-.94-2.06-.94-.94-2.06-.94 2.06-2.06.94zm-11 1L8.5 8.5l.94-2.06 2.06-.94-2.06-.94L8.5 2.5l-.94 2.06-2.06.94zm10 10l.94 2.06.94-2.06 2.06-.94-2.06-.94-.94-2.06-.94 2.06-2.06.94z\"/><path d=\"M17.41 7.96l-1.37-1.37c-.4-.4-.92-.59-1.43-.59-.52 0-1.04.2-1.43.59L10.3 9.45l-7.72 7.72c-.78.78-.78 2.05 0 2.83L4 21.41c.39.39.9.59 1.41.59.51 0 1.02-.2 1.41-.59l7.78-7.78 2.81-2.81c.8-.78.8-2.07 0-2.86zM5.41 20L4 18.59l7.72-7.72 1.47 1.35L5.41 20z\"/>\n",
              "  </svg>\n",
              "      </button>\n",
              "      \n",
              "  <style>\n",
              "    .colab-df-container {\n",
              "      display:flex;\n",
              "      flex-wrap:wrap;\n",
              "      gap: 12px;\n",
              "    }\n",
              "\n",
              "    .colab-df-convert {\n",
              "      background-color: #E8F0FE;\n",
              "      border: none;\n",
              "      border-radius: 50%;\n",
              "      cursor: pointer;\n",
              "      display: none;\n",
              "      fill: #1967D2;\n",
              "      height: 32px;\n",
              "      padding: 0 0 0 0;\n",
              "      width: 32px;\n",
              "    }\n",
              "\n",
              "    .colab-df-convert:hover {\n",
              "      background-color: #E2EBFA;\n",
              "      box-shadow: 0px 1px 2px rgba(60, 64, 67, 0.3), 0px 1px 3px 1px rgba(60, 64, 67, 0.15);\n",
              "      fill: #174EA6;\n",
              "    }\n",
              "\n",
              "    [theme=dark] .colab-df-convert {\n",
              "      background-color: #3B4455;\n",
              "      fill: #D2E3FC;\n",
              "    }\n",
              "\n",
              "    [theme=dark] .colab-df-convert:hover {\n",
              "      background-color: #434B5C;\n",
              "      box-shadow: 0px 1px 3px 1px rgba(0, 0, 0, 0.15);\n",
              "      filter: drop-shadow(0px 1px 2px rgba(0, 0, 0, 0.3));\n",
              "      fill: #FFFFFF;\n",
              "    }\n",
              "  </style>\n",
              "\n",
              "      <script>\n",
              "        const buttonEl =\n",
              "          document.querySelector('#df-fbacf8a4-25f3-40e1-bc0b-4bf0b7c5272d button.colab-df-convert');\n",
              "        buttonEl.style.display =\n",
              "          google.colab.kernel.accessAllowed ? 'block' : 'none';\n",
              "\n",
              "        async function convertToInteractive(key) {\n",
              "          const element = document.querySelector('#df-fbacf8a4-25f3-40e1-bc0b-4bf0b7c5272d');\n",
              "          const dataTable =\n",
              "            await google.colab.kernel.invokeFunction('convertToInteractive',\n",
              "                                                     [key], {});\n",
              "          if (!dataTable) return;\n",
              "\n",
              "          const docLinkHtml = 'Like what you see? Visit the ' +\n",
              "            '<a target=\"_blank\" href=https://colab.research.google.com/notebooks/data_table.ipynb>data table notebook</a>'\n",
              "            + ' to learn more about interactive tables.';\n",
              "          element.innerHTML = '';\n",
              "          dataTable['output_type'] = 'display_data';\n",
              "          await google.colab.output.renderOutput(dataTable, element);\n",
              "          const docLink = document.createElement('div');\n",
              "          docLink.innerHTML = docLinkHtml;\n",
              "          element.appendChild(docLink);\n",
              "        }\n",
              "      </script>\n",
              "    </div>\n",
              "  </div>\n",
              "  "
            ]
          },
          "metadata": {},
          "execution_count": 22
        }
      ]
    },
    {
      "cell_type": "code",
      "source": [
        "url='https://raw.githubusercontent.com/jbrownlee/Datasets/master/pima-indians-diabetes.csv'\n",
        "df= pd.read_csv(url,sep=',', header=None)\n",
        "print(df.shape)\n",
        "df=df.replace(0, np.nan)\n",
        "print(df.shape)"
      ],
      "metadata": {
        "colab": {
          "base_uri": "https://localhost:8080/"
        },
        "id": "dXqNlaSln02Z",
        "outputId": "27637b9c-485a-4703-9ba8-a2f9d1d68bec"
      },
      "execution_count": null,
      "outputs": [
        {
          "output_type": "stream",
          "name": "stdout",
          "text": [
            "(768, 9)\n",
            "(768, 9)\n"
          ]
        }
      ]
    },
    {
      "cell_type": "code",
      "source": [
        "!pip install missingno"
      ],
      "metadata": {
        "colab": {
          "base_uri": "https://localhost:8080/"
        },
        "id": "QZjTJ8vWn2XX",
        "outputId": "f1df700e-924c-4c29-d7d5-9d6b701a517e"
      },
      "execution_count": null,
      "outputs": [
        {
          "output_type": "stream",
          "name": "stdout",
          "text": [
            "Looking in indexes: https://pypi.org/simple, https://us-python.pkg.dev/colab-wheels/public/simple/\n",
            "Requirement already satisfied: missingno in /usr/local/lib/python3.7/dist-packages (0.5.1)\n",
            "Requirement already satisfied: numpy in /usr/local/lib/python3.7/dist-packages (from missingno) (1.21.6)\n",
            "Requirement already satisfied: scipy in /usr/local/lib/python3.7/dist-packages (from missingno) (1.7.3)\n",
            "Requirement already satisfied: matplotlib in /usr/local/lib/python3.7/dist-packages (from missingno) (3.2.2)\n",
            "Requirement already satisfied: seaborn in /usr/local/lib/python3.7/dist-packages (from missingno) (0.11.2)\n",
            "Requirement already satisfied: cycler>=0.10 in /usr/local/lib/python3.7/dist-packages (from matplotlib->missingno) (0.11.0)\n",
            "Requirement already satisfied: python-dateutil>=2.1 in /usr/local/lib/python3.7/dist-packages (from matplotlib->missingno) (2.8.2)\n",
            "Requirement already satisfied: kiwisolver>=1.0.1 in /usr/local/lib/python3.7/dist-packages (from matplotlib->missingno) (1.4.4)\n",
            "Requirement already satisfied: pyparsing!=2.0.4,!=2.1.2,!=2.1.6,>=2.0.1 in /usr/local/lib/python3.7/dist-packages (from matplotlib->missingno) (3.0.9)\n",
            "Requirement already satisfied: typing-extensions in /usr/local/lib/python3.7/dist-packages (from kiwisolver>=1.0.1->matplotlib->missingno) (4.1.1)\n",
            "Requirement already satisfied: six>=1.5 in /usr/local/lib/python3.7/dist-packages (from python-dateutil>=2.1->matplotlib->missingno) (1.15.0)\n",
            "Requirement already satisfied: pandas>=0.23 in /usr/local/lib/python3.7/dist-packages (from seaborn->missingno) (1.3.5)\n",
            "Requirement already satisfied: pytz>=2017.3 in /usr/local/lib/python3.7/dist-packages (from pandas>=0.23->seaborn->missingno) (2022.2.1)\n"
          ]
        }
      ]
    },
    {
      "cell_type": "code",
      "source": [
        "import missingno as msno\n",
        "%matplotlib inline\n",
        "msno.matrix(df)"
      ],
      "metadata": {
        "colab": {
          "base_uri": "https://localhost:8080/",
          "height": 505
        },
        "id": "rFQC9EuRoAw4",
        "outputId": "f9fc92d1-fa19-4c0f-9a08-6c16dc499487"
      },
      "execution_count": null,
      "outputs": [
        {
          "output_type": "execute_result",
          "data": {
            "text/plain": [
              "<matplotlib.axes._subplots.AxesSubplot at 0x7f259db8a110>"
            ]
          },
          "metadata": {},
          "execution_count": 25
        },
        {
          "output_type": "display_data",
          "data": {
            "text/plain": [
              "<Figure size 1800x720 with 2 Axes>"
            ],
            "image/png": "[encoded data removed]"
          },
          "metadata": {
            "needs_background": "light"
          }
        }
      ]
    },
    {
      "cell_type": "markdown",
      "source": [
        "# Agrupaciones"
      ],
      "metadata": {
        "id": "jBlGq7cvJ28-"
      }
    },
    {
      "cell_type": "code",
      "source": [
        "#from google.colab import drive\n",
        "#import os\n",
        "#drive.mount('/content/gdrive')"
      ],
      "metadata": {
        "id": "Sy4ZbGw0J370"
      },
      "execution_count": null,
      "outputs": []
    },
    {
      "cell_type": "code",
      "source": [
        "%cd '/content/gdrive/MyDrive/'"
      ],
      "metadata": {
        "id": "DXumy5iRKFM2"
      },
      "execution_count": null,
      "outputs": []
    },
    {
      "cell_type": "code",
      "source": [
        "df_lluvias_archivo = pd.read_csv('/content/pune_1965_to_2002.csv')\n",
        "df_lluvias_archivo.head()"
      ],
      "metadata": {
        "colab": {
          "base_uri": "https://localhost:8080/",
          "height": 206
        },
        "id": "kpPAk5-8KOJW",
        "outputId": "ec89b885-8131-4ea8-ffc0-6b5024771b61"
      },
      "execution_count": null,
      "outputs": [
        {
          "output_type": "execute_result",
          "data": {
            "text/plain": [
              "   Year    Jan    Feb    Mar     Apr     May      Jun      Jul      Aug  \\\n",
              "0  1965  0.029  0.069  0.000  21.667  17.859  102.111  606.071  402.521   \n",
              "1  1966  0.905  0.000  0.000   2.981  63.008   94.088  481.942   59.386   \n",
              "2  1967  0.248  3.390  1.320  13.482  11.116  251.314  780.006  181.069   \n",
              "3  1968  0.318  3.035  1.704  23.307   7.441  179.872  379.354  171.979   \n",
              "4  1969  0.248  2.524  0.334   4.569   6.213  393.682  678.354  397.335   \n",
              "\n",
              "       Sep     Oct     Nov     Dec  \n",
              "0   69.511   5.249  16.232  22.075  \n",
              "1  150.624   1.308  41.214   4.132  \n",
              "2  183.757  50.404   8.393  37.685  \n",
              "3  219.884  73.997  23.326   2.020  \n",
              "4  205.413  24.014  24.385   1.951  "
            ],
            "text/html": [
              "\n",
              "  <div id=\"df-b7e0b115-11ab-46ef-b498-ab9273668999\">\n",
              "    <div class=\"colab-df-container\">\n",
              "      <div>\n",
              "<style scoped>\n",
              "    .dataframe tbody tr th:only-of-type {\n",
              "        vertical-align: middle;\n",
              "    }\n",
              "\n",
              "    .dataframe tbody tr th {\n",
              "        vertical-align: top;\n",
              "    }\n",
              "\n",
              "    .dataframe thead th {\n",
              "        text-align: right;\n",
              "    }\n",
              "</style>\n",
              "<table border=\"1\" class=\"dataframe\">\n",
              "  <thead>\n",
              "    <tr style=\"text-align: right;\">\n",
              "      <th></th>\n",
              "      <th>Year</th>\n",
              "      <th>Jan</th>\n",
              "      <th>Feb</th>\n",
              "      <th>Mar</th>\n",
              "      <th>Apr</th>\n",
              "      <th>May</th>\n",
              "      <th>Jun</th>\n",
              "      <th>Jul</th>\n",
              "      <th>Aug</th>\n",
              "      <th>Sep</th>\n",
              "      <th>Oct</th>\n",
              "      <th>Nov</th>\n",
              "      <th>Dec</th>\n",
              "    </tr>\n",
              "  </thead>\n",
              "  <tbody>\n",
              "    <tr>\n",
              "      <th>0</th>\n",
              "      <td>1965</td>\n",
              "      <td>0.029</td>\n",
              "      <td>0.069</td>\n",
              "      <td>0.000</td>\n",
              "      <td>21.667</td>\n",
              "      <td>17.859</td>\n",
              "      <td>102.111</td>\n",
              "      <td>606.071</td>\n",
              "      <td>402.521</td>\n",
              "      <td>69.511</td>\n",
              "      <td>5.249</td>\n",
              "      <td>16.232</td>\n",
              "      <td>22.075</td>\n",
              "    </tr>\n",
              "    <tr>\n",
              "      <th>1</th>\n",
              "      <td>1966</td>\n",
              "      <td>0.905</td>\n",
              "      <td>0.000</td>\n",
              "      <td>0.000</td>\n",
              "      <td>2.981</td>\n",
              "      <td>63.008</td>\n",
              "      <td>94.088</td>\n",
              "      <td>481.942</td>\n",
              "      <td>59.386</td>\n",
              "      <td>150.624</td>\n",
              "      <td>1.308</td>\n",
              "      <td>41.214</td>\n",
              "      <td>4.132</td>\n",
              "    </tr>\n",
              "    <tr>\n",
              "      <th>2</th>\n",
              "      <td>1967</td>\n",
              "      <td>0.248</td>\n",
              "      <td>3.390</td>\n",
              "      <td>1.320</td>\n",
              "      <td>13.482</td>\n",
              "      <td>11.116</td>\n",
              "      <td>251.314</td>\n",
              "      <td>780.006</td>\n",
              "      <td>181.069</td>\n",
              "      <td>183.757</td>\n",
              "      <td>50.404</td>\n",
              "      <td>8.393</td>\n",
              "      <td>37.685</td>\n",
              "    </tr>\n",
              "    <tr>\n",
              "      <th>3</th>\n",
              "      <td>1968</td>\n",
              "      <td>0.318</td>\n",
              "      <td>3.035</td>\n",
              "      <td>1.704</td>\n",
              "      <td>23.307</td>\n",
              "      <td>7.441</td>\n",
              "      <td>179.872</td>\n",
              "      <td>379.354</td>\n",
              "      <td>171.979</td>\n",
              "      <td>219.884</td>\n",
              "      <td>73.997</td>\n",
              "      <td>23.326</td>\n",
              "      <td>2.020</td>\n",
              "    </tr>\n",
              "    <tr>\n",
              "      <th>4</th>\n",
              "      <td>1969</td>\n",
              "      <td>0.248</td>\n",
              "      <td>2.524</td>\n",
              "      <td>0.334</td>\n",
              "      <td>4.569</td>\n",
              "      <td>6.213</td>\n",
              "      <td>393.682</td>\n",
              "      <td>678.354</td>\n",
              "      <td>397.335</td>\n",
              "      <td>205.413</td>\n",
              "      <td>24.014</td>\n",
              "      <td>24.385</td>\n",
              "      <td>1.951</td>\n",
              "    </tr>\n",
              "  </tbody>\n",
              "</table>\n",
              "</div>\n",
              "      <button class=\"colab-df-convert\" onclick=\"convertToInteractive('df-b7e0b115-11ab-46ef-b498-ab9273668999')\"\n",
              "              title=\"Convert this dataframe to an interactive table.\"\n",
              "              style=\"display:none;\">\n",
              "        \n",
              "  <svg xmlns=\"http://www.w3.org/2000/svg\" height=\"24px\"viewBox=\"0 0 24 24\"\n",
              "       width=\"24px\">\n",
              "    <path d=\"M0 0h24v24H0V0z\" fill=\"none\"/>\n",
              "    <path d=\"M18.56 5.44l.94 2.06.94-2.06 2.06-.94-2.06-.94-.94-2.06-.94 2.06-2.06.94zm-11 1L8.5 8.5l.94-2.06 2.06-.94-2.06-.94L8.5 2.5l-.94 2.06-2.06.94zm10 10l.94 2.06.94-2.06 2.06-.94-2.06-.94-.94-2.06-.94 2.06-2.06.94z\"/><path d=\"M17.41 7.96l-1.37-1.37c-.4-.4-.92-.59-1.43-.59-.52 0-1.04.2-1.43.59L10.3 9.45l-7.72 7.72c-.78.78-.78 2.05 0 2.83L4 21.41c.39.39.9.59 1.41.59.51 0 1.02-.2 1.41-.59l7.78-7.78 2.81-2.81c.8-.78.8-2.07 0-2.86zM5.41 20L4 18.59l7.72-7.72 1.47 1.35L5.41 20z\"/>\n",
              "  </svg>\n",
              "      </button>\n",
              "      \n",
              "  <style>\n",
              "    .colab-df-container {\n",
              "      display:flex;\n",
              "      flex-wrap:wrap;\n",
              "      gap: 12px;\n",
              "    }\n",
              "\n",
              "    .colab-df-convert {\n",
              "      background-color: #E8F0FE;\n",
              "      border: none;\n",
              "      border-radius: 50%;\n",
              "      cursor: pointer;\n",
              "      display: none;\n",
              "      fill: #1967D2;\n",
              "      height: 32px;\n",
              "      padding: 0 0 0 0;\n",
              "      width: 32px;\n",
              "    }\n",
              "\n",
              "    .colab-df-convert:hover {\n",
              "      background-color: #E2EBFA;\n",
              "      box-shadow: 0px 1px 2px rgba(60, 64, 67, 0.3), 0px 1px 3px 1px rgba(60, 64, 67, 0.15);\n",
              "      fill: #174EA6;\n",
              "    }\n",
              "\n",
              "    [theme=dark] .colab-df-convert {\n",
              "      background-color: #3B4455;\n",
              "      fill: #D2E3FC;\n",
              "    }\n",
              "\n",
              "    [theme=dark] .colab-df-convert:hover {\n",
              "      background-color: #434B5C;\n",
              "      box-shadow: 0px 1px 3px 1px rgba(0, 0, 0, 0.15);\n",
              "      filter: drop-shadow(0px 1px 2px rgba(0, 0, 0, 0.3));\n",
              "      fill: #FFFFFF;\n",
              "    }\n",
              "  </style>\n",
              "\n",
              "      <script>\n",
              "        const buttonEl =\n",
              "          document.querySelector('#df-b7e0b115-11ab-46ef-b498-ab9273668999 button.colab-df-convert');\n",
              "        buttonEl.style.display =\n",
              "          google.colab.kernel.accessAllowed ? 'block' : 'none';\n",
              "\n",
              "        async function convertToInteractive(key) {\n",
              "          const element = document.querySelector('#df-b7e0b115-11ab-46ef-b498-ab9273668999');\n",
              "          const dataTable =\n",
              "            await google.colab.kernel.invokeFunction('convertToInteractive',\n",
              "                                                     [key], {});\n",
              "          if (!dataTable) return;\n",
              "\n",
              "          const docLinkHtml = 'Like what you see? Visit the ' +\n",
              "            '<a target=\"_blank\" href=https://colab.research.google.com/notebooks/data_table.ipynb>data table notebook</a>'\n",
              "            + ' to learn more about interactive tables.';\n",
              "          element.innerHTML = '';\n",
              "          dataTable['output_type'] = 'display_data';\n",
              "          await google.colab.output.renderOutput(dataTable, element);\n",
              "          const docLink = document.createElement('div');\n",
              "          docLink.innerHTML = docLinkHtml;\n",
              "          element.appendChild(docLink);\n",
              "        }\n",
              "      </script>\n",
              "    </div>\n",
              "  </div>\n",
              "  "
            ]
          },
          "metadata": {},
          "execution_count": 29
        }
      ]
    },
    {
      "cell_type": "code",
      "source": [
        "df_lluvias_archivo.tail()"
      ],
      "metadata": {
        "colab": {
          "base_uri": "https://localhost:8080/",
          "height": 206
        },
        "id": "10YL4d-JpCft",
        "outputId": "15765947-fad2-4713-fc81-ad125d402ece"
      },
      "execution_count": null,
      "outputs": [
        {
          "output_type": "execute_result",
          "data": {
            "text/plain": [
              "    Year    Jan    Feb    Mar     Apr     May      Jun      Jul      Aug  \\\n",
              "33  1998  0.008  2.671  0.073   0.377  15.717  238.609  590.663  362.357   \n",
              "34  1999  0.000  1.431  0.000   0.642  35.828  415.471  277.137   98.616   \n",
              "35  2000  0.000  0.170  0.000   1.193  26.237  371.328  265.417  220.814   \n",
              "36  2001  0.147  0.000  2.178   1.528   7.860  247.982  279.547  189.404   \n",
              "37  2002  0.231  0.911  0.388  53.266  18.430  509.145   84.936  257.205   \n",
              "\n",
              "        Sep      Oct     Nov    Dec  \n",
              "33  243.444   96.324  52.965  0.035  \n",
              "34  225.962  180.300   0.263  0.033  \n",
              "35  147.196   38.246  15.274  8.187  \n",
              "36  158.025  135.518  23.633  0.003  \n",
              "37   78.269   21.486   0.614  0.000  "
            ],
            "text/html": [
              "\n",
              "  <div id=\"df-1771061b-3122-4d8f-9741-789a0d2ded78\">\n",
              "    <div class=\"colab-df-container\">\n",
              "      <div>\n",
              "<style scoped>\n",
              "    .dataframe tbody tr th:only-of-type {\n",
              "        vertical-align: middle;\n",
              "    }\n",
              "\n",
              "    .dataframe tbody tr th {\n",
              "        vertical-align: top;\n",
              "    }\n",
              "\n",
              "    .dataframe thead th {\n",
              "        text-align: right;\n",
              "    }\n",
              "</style>\n",
              "<table border=\"1\" class=\"dataframe\">\n",
              "  <thead>\n",
              "    <tr style=\"text-align: right;\">\n",
              "      <th></th>\n",
              "      <th>Year</th>\n",
              "      <th>Jan</th>\n",
              "      <th>Feb</th>\n",
              "      <th>Mar</th>\n",
              "      <th>Apr</th>\n",
              "      <th>May</th>\n",
              "      <th>Jun</th>\n",
              "      <th>Jul</th>\n",
              "      <th>Aug</th>\n",
              "      <th>Sep</th>\n",
              "      <th>Oct</th>\n",
              "      <th>Nov</th>\n",
              "      <th>Dec</th>\n",
              "    </tr>\n",
              "  </thead>\n",
              "  <tbody>\n",
              "    <tr>\n",
              "      <th>33</th>\n",
              "      <td>1998</td>\n",
              "      <td>0.008</td>\n",
              "      <td>2.671</td>\n",
              "      <td>0.073</td>\n",
              "      <td>0.377</td>\n",
              "      <td>15.717</td>\n",
              "      <td>238.609</td>\n",
              "      <td>590.663</td>\n",
              "      <td>362.357</td>\n",
              "      <td>243.444</td>\n",
              "      <td>96.324</td>\n",
              "      <td>52.965</td>\n",
              "      <td>0.035</td>\n",
              "    </tr>\n",
              "    <tr>\n",
              "      <th>34</th>\n",
              "      <td>1999</td>\n",
              "      <td>0.000</td>\n",
              "      <td>1.431</td>\n",
              "      <td>0.000</td>\n",
              "      <td>0.642</td>\n",
              "      <td>35.828</td>\n",
              "      <td>415.471</td>\n",
              "      <td>277.137</td>\n",
              "      <td>98.616</td>\n",
              "      <td>225.962</td>\n",
              "      <td>180.300</td>\n",
              "      <td>0.263</td>\n",
              "      <td>0.033</td>\n",
              "    </tr>\n",
              "    <tr>\n",
              "      <th>35</th>\n",
              "      <td>2000</td>\n",
              "      <td>0.000</td>\n",
              "      <td>0.170</td>\n",
              "      <td>0.000</td>\n",
              "      <td>1.193</td>\n",
              "      <td>26.237</td>\n",
              "      <td>371.328</td>\n",
              "      <td>265.417</td>\n",
              "      <td>220.814</td>\n",
              "      <td>147.196</td>\n",
              "      <td>38.246</td>\n",
              "      <td>15.274</td>\n",
              "      <td>8.187</td>\n",
              "    </tr>\n",
              "    <tr>\n",
              "      <th>36</th>\n",
              "      <td>2001</td>\n",
              "      <td>0.147</td>\n",
              "      <td>0.000</td>\n",
              "      <td>2.178</td>\n",
              "      <td>1.528</td>\n",
              "      <td>7.860</td>\n",
              "      <td>247.982</td>\n",
              "      <td>279.547</td>\n",
              "      <td>189.404</td>\n",
              "      <td>158.025</td>\n",
              "      <td>135.518</td>\n",
              "      <td>23.633</td>\n",
              "      <td>0.003</td>\n",
              "    </tr>\n",
              "    <tr>\n",
              "      <th>37</th>\n",
              "      <td>2002</td>\n",
              "      <td>0.231</td>\n",
              "      <td>0.911</td>\n",
              "      <td>0.388</td>\n",
              "      <td>53.266</td>\n",
              "      <td>18.430</td>\n",
              "      <td>509.145</td>\n",
              "      <td>84.936</td>\n",
              "      <td>257.205</td>\n",
              "      <td>78.269</td>\n",
              "      <td>21.486</td>\n",
              "      <td>0.614</td>\n",
              "      <td>0.000</td>\n",
              "    </tr>\n",
              "  </tbody>\n",
              "</table>\n",
              "</div>\n",
              "      <button class=\"colab-df-convert\" onclick=\"convertToInteractive('df-1771061b-3122-4d8f-9741-789a0d2ded78')\"\n",
              "              title=\"Convert this dataframe to an interactive table.\"\n",
              "              style=\"display:none;\">\n",
              "        \n",
              "  <svg xmlns=\"http://www.w3.org/2000/svg\" height=\"24px\"viewBox=\"0 0 24 24\"\n",
              "       width=\"24px\">\n",
              "    <path d=\"M0 0h24v24H0V0z\" fill=\"none\"/>\n",
              "    <path d=\"M18.56 5.44l.94 2.06.94-2.06 2.06-.94-2.06-.94-.94-2.06-.94 2.06-2.06.94zm-11 1L8.5 8.5l.94-2.06 2.06-.94-2.06-.94L8.5 2.5l-.94 2.06-2.06.94zm10 10l.94 2.06.94-2.06 2.06-.94-2.06-.94-.94-2.06-.94 2.06-2.06.94z\"/><path d=\"M17.41 7.96l-1.37-1.37c-.4-.4-.92-.59-1.43-.59-.52 0-1.04.2-1.43.59L10.3 9.45l-7.72 7.72c-.78.78-.78 2.05 0 2.83L4 21.41c.39.39.9.59 1.41.59.51 0 1.02-.2 1.41-.59l7.78-7.78 2.81-2.81c.8-.78.8-2.07 0-2.86zM5.41 20L4 18.59l7.72-7.72 1.47 1.35L5.41 20z\"/>\n",
              "  </svg>\n",
              "      </button>\n",
              "      \n",
              "  <style>\n",
              "    .colab-df-container {\n",
              "      display:flex;\n",
              "      flex-wrap:wrap;\n",
              "      gap: 12px;\n",
              "    }\n",
              "\n",
              "    .colab-df-convert {\n",
              "      background-color: #E8F0FE;\n",
              "      border: none;\n",
              "      border-radius: 50%;\n",
              "      cursor: pointer;\n",
              "      display: none;\n",
              "      fill: #1967D2;\n",
              "      height: 32px;\n",
              "      padding: 0 0 0 0;\n",
              "      width: 32px;\n",
              "    }\n",
              "\n",
              "    .colab-df-convert:hover {\n",
              "      background-color: #E2EBFA;\n",
              "      box-shadow: 0px 1px 2px rgba(60, 64, 67, 0.3), 0px 1px 3px 1px rgba(60, 64, 67, 0.15);\n",
              "      fill: #174EA6;\n",
              "    }\n",
              "\n",
              "    [theme=dark] .colab-df-convert {\n",
              "      background-color: #3B4455;\n",
              "      fill: #D2E3FC;\n",
              "    }\n",
              "\n",
              "    [theme=dark] .colab-df-convert:hover {\n",
              "      background-color: #434B5C;\n",
              "      box-shadow: 0px 1px 3px 1px rgba(0, 0, 0, 0.15);\n",
              "      filter: drop-shadow(0px 1px 2px rgba(0, 0, 0, 0.3));\n",
              "      fill: #FFFFFF;\n",
              "    }\n",
              "  </style>\n",
              "\n",
              "      <script>\n",
              "        const buttonEl =\n",
              "          document.querySelector('#df-1771061b-3122-4d8f-9741-789a0d2ded78 button.colab-df-convert');\n",
              "        buttonEl.style.display =\n",
              "          google.colab.kernel.accessAllowed ? 'block' : 'none';\n",
              "\n",
              "        async function convertToInteractive(key) {\n",
              "          const element = document.querySelector('#df-1771061b-3122-4d8f-9741-789a0d2ded78');\n",
              "          const dataTable =\n",
              "            await google.colab.kernel.invokeFunction('convertToInteractive',\n",
              "                                                     [key], {});\n",
              "          if (!dataTable) return;\n",
              "\n",
              "          const docLinkHtml = 'Like what you see? Visit the ' +\n",
              "            '<a target=\"_blank\" href=https://colab.research.google.com/notebooks/data_table.ipynb>data table notebook</a>'\n",
              "            + ' to learn more about interactive tables.';\n",
              "          element.innerHTML = '';\n",
              "          dataTable['output_type'] = 'display_data';\n",
              "          await google.colab.output.renderOutput(dataTable, element);\n",
              "          const docLink = document.createElement('div');\n",
              "          docLink.innerHTML = docLinkHtml;\n",
              "          element.appendChild(docLink);\n",
              "        }\n",
              "      </script>\n",
              "    </div>\n",
              "  </div>\n",
              "  "
            ]
          },
          "metadata": {},
          "execution_count": 30
        }
      ]
    },
    {
      "cell_type": "code",
      "source": [
        "indice = list(df_lluvias_archivo.Year)\n",
        "indice"
      ],
      "metadata": {
        "colab": {
          "base_uri": "https://localhost:8080/"
        },
        "id": "dCQPKbcuKlUH",
        "outputId": "65f19319-095e-4b00-a743-28faf248dc97"
      },
      "execution_count": null,
      "outputs": [
        {
          "output_type": "execute_result",
          "data": {
            "text/plain": [
              "[1965,\n",
              " 1966,\n",
              " 1967,\n",
              " 1968,\n",
              " 1969,\n",
              " 1970,\n",
              " 1971,\n",
              " 1972,\n",
              " 1973,\n",
              " 1974,\n",
              " 1975,\n",
              " 1976,\n",
              " 1977,\n",
              " 1978,\n",
              " 1979,\n",
              " 1980,\n",
              " 1981,\n",
              " 1982,\n",
              " 1983,\n",
              " 1984,\n",
              " 1985,\n",
              " 1986,\n",
              " 1987,\n",
              " 1988,\n",
              " 1989,\n",
              " 1990,\n",
              " 1991,\n",
              " 1992,\n",
              " 1993,\n",
              " 1994,\n",
              " 1995,\n",
              " 1996,\n",
              " 1997,\n",
              " 1998,\n",
              " 1999,\n",
              " 2000,\n",
              " 2001,\n",
              " 2002]"
            ]
          },
          "metadata": {},
          "execution_count": 31
        }
      ]
    },
    {
      "cell_type": "code",
      "source": [
        "columnas = df_lluvias_archivo.columns[1:]\n",
        "columnas"
      ],
      "metadata": {
        "colab": {
          "base_uri": "https://localhost:8080/"
        },
        "id": "JgFenO5cKmGC",
        "outputId": "1a821427-5429-4184-ca07-46caffff31e7"
      },
      "execution_count": null,
      "outputs": [
        {
          "output_type": "execute_result",
          "data": {
            "text/plain": [
              "Index(['Jan', 'Feb', 'Mar', 'Apr', 'May', 'Jun', 'Jul', 'Aug', 'Sep', 'Oct',\n",
              "       'Nov', 'Dec'],\n",
              "      dtype='object')"
            ]
          },
          "metadata": {},
          "execution_count": 32
        }
      ]
    },
    {
      "cell_type": "code",
      "source": [
        "valores = df_lluvias_archivo.values[:,1:]\n",
        "valores"
      ],
      "metadata": {
        "colab": {
          "base_uri": "https://localhost:8080/"
        },
        "id": "dG0MDip9KrAq",
        "outputId": "498fd4db-2198-43d7-98cc-c90a7ef48dfd"
      },
      "execution_count": null,
      "outputs": [
        {
          "output_type": "execute_result",
          "data": {
            "text/plain": [
              "array([[2.90000e-02, 6.90000e-02, 0.00000e+00, 2.16670e+01, 1.78590e+01,\n",
              "        1.02111e+02, 6.06071e+02, 4.02521e+02, 6.95110e+01, 5.24900e+00,\n",
              "        1.62320e+01, 2.20750e+01],\n",
              "       [9.05000e-01, 0.00000e+00, 0.00000e+00, 2.98100e+00, 6.30080e+01,\n",
              "        9.40880e+01, 4.81942e+02, 5.93860e+01, 1.50624e+02, 1.30800e+00,\n",
              "        4.12140e+01, 4.13200e+00],\n",
              "       [2.48000e-01, 3.39000e+00, 1.32000e+00, 1.34820e+01, 1.11160e+01,\n",
              "        2.51314e+02, 7.80006e+02, 1.81069e+02, 1.83757e+02, 5.04040e+01,\n",
              "        8.39300e+00, 3.76850e+01],\n",
              "       [3.18000e-01, 3.03500e+00, 1.70400e+00, 2.33070e+01, 7.44100e+00,\n",
              "        1.79872e+02, 3.79354e+02, 1.71979e+02, 2.19884e+02, 7.39970e+01,\n",
              "        2.33260e+01, 2.02000e+00],\n",
              "       [2.48000e-01, 2.52400e+00, 3.34000e-01, 4.56900e+00, 6.21300e+00,\n",
              "        3.93682e+02, 6.78354e+02, 3.97335e+02, 2.05413e+02, 2.40140e+01,\n",
              "        2.43850e+01, 1.95100e+00],\n",
              "       [7.00000e-02, 0.00000e+00, 1.00000e-03, 1.62180e+01, 6.80360e+01,\n",
              "        3.00546e+02, 3.30502e+02, 2.83476e+02, 1.58640e+02, 1.15758e+02,\n",
              "        2.60000e-01, 0.00000e+00],\n",
              "       [0.00000e+00, 0.00000e+00, 0.00000e+00, 8.12000e-01, 5.76910e+01,\n",
              "        2.97187e+02, 1.22195e+02, 3.72693e+02, 2.86056e+02, 3.94240e+01,\n",
              "        5.54000e-01, 0.00000e+00],\n",
              "       [0.00000e+00, 2.90000e-02, 0.00000e+00, 5.98200e+00, 1.91010e+01,\n",
              "        1.32413e+02, 3.38484e+02, 6.87410e+01, 1.20415e+02, 1.07800e+00,\n",
              "        2.40890e+01, 1.43000e-01],\n",
              "       [0.00000e+00, 2.96900e+00, 2.34000e-01, 3.92500e+00, 1.49780e+01,\n",
              "        3.04484e+02, 6.96024e+02, 2.56932e+02, 1.83206e+02, 1.01805e+02,\n",
              "        5.51600e+00, 0.00000e+00],\n",
              "       [0.00000e+00, 0.00000e+00, 6.42700e+00, 1.68640e+01, 5.12090e+01,\n",
              "        1.48697e+02, 4.05359e+02, 3.19651e+02, 2.88533e+02, 1.88876e+02,\n",
              "        2.60000e-01, 0.00000e+00],\n",
              "       [3.33000e-01, 5.85000e-01, 0.00000e+00, 6.10000e-02, 3.06510e+01,\n",
              "        3.59369e+02, 4.74143e+02, 4.04372e+02, 4.00001e+02, 1.05560e+02,\n",
              "        2.76300e+00, 0.00000e+00],\n",
              "       [0.00000e+00, 0.00000e+00, 5.99300e+00, 4.45400e+00, 3.57700e+00,\n",
              "        7.73737e+02, 5.45379e+02, 4.36912e+02, 1.08459e+02, 1.36110e+01,\n",
              "        4.48870e+01, 4.15800e+00],\n",
              "       [0.00000e+00, 2.98100e+00, 3.28900e+00, 4.43200e+00, 3.21300e+01,\n",
              "        3.19716e+02, 4.07246e+02, 1.29678e+02, 8.91500e+01, 8.31930e+01,\n",
              "        1.22809e+02, 7.53000e+00],\n",
              "       [6.10000e-02, 4.19700e+00, 4.00400e+00, 4.46230e+01, 5.29500e+01,\n",
              "        4.03860e+02, 1.92399e+02, 2.39066e+02, 1.39119e+02, 2.67110e+01,\n",
              "        6.09960e+01, 5.97000e-01],\n",
              "       [0.00000e+00, 3.86000e-01, 3.34300e+00, 1.26000e-01, 6.86000e+00,\n",
              "        3.42324e+02, 4.03925e+02, 4.51153e+02, 4.40381e+02, 1.90840e+01,\n",
              "        1.01597e+02, 8.00000e-03],\n",
              "       [8.00000e-03, 0.00000e+00, 8.32900e+00, 2.87640e+01, 4.81600e+00,\n",
              "        3.49975e+02, 3.44268e+02, 4.04191e+02, 9.41270e+01, 1.08260e+01,\n",
              "        1.55330e+01, 7.34800e+00],\n",
              "       [2.25700e+00, 2.12100e+00, 4.45000e-01, 1.08170e+01, 1.71930e+01,\n",
              "        3.60788e+02, 5.07155e+02, 2.17037e+02, 3.61165e+02, 8.00180e+01,\n",
              "        3.71500e+00, 5.00000e-02],\n",
              "       [0.00000e+00, 5.60000e-01, 0.00000e+00, 1.45850e+01, 5.04680e+01,\n",
              "        1.45343e+02, 1.86691e+02, 1.94307e+02, 2.39402e+02, 4.92570e+01,\n",
              "        6.24740e+01, 0.00000e+00],\n",
              "       [3.95000e-01, 0.00000e+00, 0.00000e+00, 6.10000e-02, 1.05600e+00,\n",
              "        2.25847e+02, 3.90041e+02, 5.37764e+02, 4.28050e+02, 3.07710e+01,\n",
              "        1.00800e+00, 1.95500e+00],\n",
              "       [0.00000e+00, 3.91000e-01, 5.77200e+00, 4.99700e+00, 5.08000e-01,\n",
              "        3.67058e+02, 6.21607e+02, 1.38006e+02, 2.29276e+02, 1.67164e+02,\n",
              "        3.78600e+00, 3.96000e-01],\n",
              "       [2.50000e-02, 0.00000e+00, 9.22000e-01, 1.15120e+01, 6.45800e+00,\n",
              "        2.34930e+02, 3.25191e+02, 2.97802e+02, 8.88770e+01, 1.39919e+02,\n",
              "        1.08561e+02, 6.55000e-01],\n",
              "       [0.00000e+00, 1.22900e+00, 0.00000e+00, 4.56700e+00, 2.25470e+01,\n",
              "        6.35977e+02, 2.02570e+02, 2.47395e+02, 1.05095e+02, 3.74600e+00,\n",
              "        7.45700e+00, 3.73860e+01],\n",
              "       [3.01300e+00, 8.41000e+00, 1.36700e+00, 3.86400e+00, 8.05390e+01,\n",
              "        2.00950e+02, 1.72864e+02, 4.77113e+02, 4.45740e+01, 1.50179e+02,\n",
              "        1.82810e+01, 3.68450e+01],\n",
              "       [0.00000e+00, 0.00000e+00, 0.00000e+00, 4.35700e+01, 1.28620e+01,\n",
              "        1.86431e+02, 7.40613e+02, 2.11781e+02, 6.13522e+02, 1.23750e+01,\n",
              "        4.58000e-01, 1.03700e+00],\n",
              "       [8.00000e-03, 0.00000e+00, 9.61900e+00, 2.07740e+01, 2.01760e+01,\n",
              "        4.25984e+02, 4.84451e+02, 1.77257e+02, 2.36803e+02, 2.34240e+01,\n",
              "        5.85000e-01, 9.43000e-01],\n",
              "       [4.00000e-03, 5.31000e-01, 7.89000e-01, 2.74000e-01, 7.83840e+01,\n",
              "        4.23314e+02, 5.83557e+02, 4.51707e+02, 6.91820e+01, 1.15349e+02,\n",
              "        4.18880e+01, 1.31500e+00],\n",
              "       [4.00000e-03, 7.10000e-02, 9.72000e-01, 2.79640e+01, 3.04050e+01,\n",
              "        5.65900e+02, 4.79719e+02, 1.93423e+02, 1.78727e+02, 4.13500e+00,\n",
              "        1.59360e+01, 0.00000e+00],\n",
              "       [0.00000e+00, 0.00000e+00, 0.00000e+00, 3.16500e+00, 9.58000e+00,\n",
              "        2.27180e+02, 3.21551e+02, 4.28764e+02, 2.87582e+02, 4.00790e+01,\n",
              "        5.98200e+00, 0.00000e+00],\n",
              "       [0.00000e+00, 7.80000e-02, 1.21100e+00, 2.06200e+00, 3.24800e+00,\n",
              "        2.34068e+02, 4.50088e+02, 1.50278e+02, 1.01928e+02, 2.25904e+02,\n",
              "        6.24000e+00, 3.51470e+01],\n",
              "       [8.79000e-01, 3.25000e-01, 2.41500e+00, 1.68230e+01, 3.33780e+01,\n",
              "        7.49030e+02, 7.07986e+02, 2.30898e+02, 1.15509e+02, 1.16348e+02,\n",
              "        1.40980e+01, 0.00000e+00],\n",
              "       [6.95000e-01, 0.00000e+00, 1.77000e+00, 2.59490e+01, 2.39640e+01,\n",
              "        1.63515e+02, 5.01461e+02, 1.14206e+02, 2.88262e+02, 8.43590e+01,\n",
              "        4.86600e+00, 2.10000e-02],\n",
              "       [1.60000e-02, 2.77900e+00, 8.70000e-02, 6.31800e+00, 5.13400e+00,\n",
              "        4.53607e+02, 5.58586e+02, 2.12489e+02, 2.03642e+02, 1.76471e+02,\n",
              "        1.22020e+01, 0.00000e+00],\n",
              "       [1.28400e+00, 0.00000e+00, 7.47000e-01, 2.39120e+01, 4.66400e+00,\n",
              "        6.73831e+02, 4.22913e+02, 5.41579e+02, 6.04770e+01, 3.10500e+01,\n",
              "        6.53920e+01, 1.89910e+01],\n",
              "       [8.00000e-03, 2.67100e+00, 7.30000e-02, 3.77000e-01, 1.57170e+01,\n",
              "        2.38609e+02, 5.90663e+02, 3.62357e+02, 2.43444e+02, 9.63240e+01,\n",
              "        5.29650e+01, 3.50000e-02],\n",
              "       [0.00000e+00, 1.43100e+00, 0.00000e+00, 6.42000e-01, 3.58280e+01,\n",
              "        4.15471e+02, 2.77137e+02, 9.86160e+01, 2.25962e+02, 1.80300e+02,\n",
              "        2.63000e-01, 3.30000e-02],\n",
              "       [0.00000e+00, 1.70000e-01, 0.00000e+00, 1.19300e+00, 2.62370e+01,\n",
              "        3.71328e+02, 2.65417e+02, 2.20814e+02, 1.47196e+02, 3.82460e+01,\n",
              "        1.52740e+01, 8.18700e+00],\n",
              "       [1.47000e-01, 0.00000e+00, 2.17800e+00, 1.52800e+00, 7.86000e+00,\n",
              "        2.47982e+02, 2.79547e+02, 1.89404e+02, 1.58025e+02, 1.35518e+02,\n",
              "        2.36330e+01, 3.00000e-03],\n",
              "       [2.31000e-01, 9.11000e-01, 3.88000e-01, 5.32660e+01, 1.84300e+01,\n",
              "        5.09145e+02, 8.49360e+01, 2.57205e+02, 7.82690e+01, 2.14860e+01,\n",
              "        6.14000e-01, 0.00000e+00]])"
            ]
          },
          "metadata": {},
          "execution_count": 33
        }
      ]
    },
    {
      "cell_type": "code",
      "source": [
        "df_lluvias = pd.DataFrame(valores,index=indice,columns=columnas)\n",
        "df_lluvias.head()"
      ],
      "metadata": {
        "colab": {
          "base_uri": "https://localhost:8080/",
          "height": 206
        },
        "id": "bcWZj1gQKuwW",
        "outputId": "2185cff2-7e33-4b5a-d467-e777a8d8c1f9"
      },
      "execution_count": null,
      "outputs": [
        {
          "output_type": "execute_result",
          "data": {
            "text/plain": [
              "        Jan    Feb    Mar     Apr     May      Jun      Jul      Aug      Sep  \\\n",
              "1965  0.029  0.069  0.000  21.667  17.859  102.111  606.071  402.521   69.511   \n",
              "1966  0.905  0.000  0.000   2.981  63.008   94.088  481.942   59.386  150.624   \n",
              "1967  0.248  3.390  1.320  13.482  11.116  251.314  780.006  181.069  183.757   \n",
              "1968  0.318  3.035  1.704  23.307   7.441  179.872  379.354  171.979  219.884   \n",
              "1969  0.248  2.524  0.334   4.569   6.213  393.682  678.354  397.335  205.413   \n",
              "\n",
              "         Oct     Nov     Dec  \n",
              "1965   5.249  16.232  22.075  \n",
              "1966   1.308  41.214   4.132  \n",
              "1967  50.404   8.393  37.685  \n",
              "1968  73.997  23.326   2.020  \n",
              "1969  24.014  24.385   1.951  "
            ],
            "text/html": [
              "\n",
              "  <div id=\"df-b7ae8186-6160-43eb-b77c-57b38aaa0a8e\">\n",
              "    <div class=\"colab-df-container\">\n",
              "      <div>\n",
              "<style scoped>\n",
              "    .dataframe tbody tr th:only-of-type {\n",
              "        vertical-align: middle;\n",
              "    }\n",
              "\n",
              "    .dataframe tbody tr th {\n",
              "        vertical-align: top;\n",
              "    }\n",
              "\n",
              "    .dataframe thead th {\n",
              "        text-align: right;\n",
              "    }\n",
              "</style>\n",
              "<table border=\"1\" class=\"dataframe\">\n",
              "  <thead>\n",
              "    <tr style=\"text-align: right;\">\n",
              "      <th></th>\n",
              "      <th>Jan</th>\n",
              "      <th>Feb</th>\n",
              "      <th>Mar</th>\n",
              "      <th>Apr</th>\n",
              "      <th>May</th>\n",
              "      <th>Jun</th>\n",
              "      <th>Jul</th>\n",
              "      <th>Aug</th>\n",
              "      <th>Sep</th>\n",
              "      <th>Oct</th>\n",
              "      <th>Nov</th>\n",
              "      <th>Dec</th>\n",
              "    </tr>\n",
              "  </thead>\n",
              "  <tbody>\n",
              "    <tr>\n",
              "      <th>1965</th>\n",
              "      <td>0.029</td>\n",
              "      <td>0.069</td>\n",
              "      <td>0.000</td>\n",
              "      <td>21.667</td>\n",
              "      <td>17.859</td>\n",
              "      <td>102.111</td>\n",
              "      <td>606.071</td>\n",
              "      <td>402.521</td>\n",
              "      <td>69.511</td>\n",
              "      <td>5.249</td>\n",
              "      <td>16.232</td>\n",
              "      <td>22.075</td>\n",
              "    </tr>\n",
              "    <tr>\n",
              "      <th>1966</th>\n",
              "      <td>0.905</td>\n",
              "      <td>0.000</td>\n",
              "      <td>0.000</td>\n",
              "      <td>2.981</td>\n",
              "      <td>63.008</td>\n",
              "      <td>94.088</td>\n",
              "      <td>481.942</td>\n",
              "      <td>59.386</td>\n",
              "      <td>150.624</td>\n",
              "      <td>1.308</td>\n",
              "      <td>41.214</td>\n",
              "      <td>4.132</td>\n",
              "    </tr>\n",
              "    <tr>\n",
              "      <th>1967</th>\n",
              "      <td>0.248</td>\n",
              "      <td>3.390</td>\n",
              "      <td>1.320</td>\n",
              "      <td>13.482</td>\n",
              "      <td>11.116</td>\n",
              "      <td>251.314</td>\n",
              "      <td>780.006</td>\n",
              "      <td>181.069</td>\n",
              "      <td>183.757</td>\n",
              "      <td>50.404</td>\n",
              "      <td>8.393</td>\n",
              "      <td>37.685</td>\n",
              "    </tr>\n",
              "    <tr>\n",
              "      <th>1968</th>\n",
              "      <td>0.318</td>\n",
              "      <td>3.035</td>\n",
              "      <td>1.704</td>\n",
              "      <td>23.307</td>\n",
              "      <td>7.441</td>\n",
              "      <td>179.872</td>\n",
              "      <td>379.354</td>\n",
              "      <td>171.979</td>\n",
              "      <td>219.884</td>\n",
              "      <td>73.997</td>\n",
              "      <td>23.326</td>\n",
              "      <td>2.020</td>\n",
              "    </tr>\n",
              "    <tr>\n",
              "      <th>1969</th>\n",
              "      <td>0.248</td>\n",
              "      <td>2.524</td>\n",
              "      <td>0.334</td>\n",
              "      <td>4.569</td>\n",
              "      <td>6.213</td>\n",
              "      <td>393.682</td>\n",
              "      <td>678.354</td>\n",
              "      <td>397.335</td>\n",
              "      <td>205.413</td>\n",
              "      <td>24.014</td>\n",
              "      <td>24.385</td>\n",
              "      <td>1.951</td>\n",
              "    </tr>\n",
              "  </tbody>\n",
              "</table>\n",
              "</div>\n",
              "      <button class=\"colab-df-convert\" onclick=\"convertToInteractive('df-b7ae8186-6160-43eb-b77c-57b38aaa0a8e')\"\n",
              "              title=\"Convert this dataframe to an interactive table.\"\n",
              "              style=\"display:none;\">\n",
              "        \n",
              "  <svg xmlns=\"http://www.w3.org/2000/svg\" height=\"24px\"viewBox=\"0 0 24 24\"\n",
              "       width=\"24px\">\n",
              "    <path d=\"M0 0h24v24H0V0z\" fill=\"none\"/>\n",
              "    <path d=\"M18.56 5.44l.94 2.06.94-2.06 2.06-.94-2.06-.94-.94-2.06-.94 2.06-2.06.94zm-11 1L8.5 8.5l.94-2.06 2.06-.94-2.06-.94L8.5 2.5l-.94 2.06-2.06.94zm10 10l.94 2.06.94-2.06 2.06-.94-2.06-.94-.94-2.06-.94 2.06-2.06.94z\"/><path d=\"M17.41 7.96l-1.37-1.37c-.4-.4-.92-.59-1.43-.59-.52 0-1.04.2-1.43.59L10.3 9.45l-7.72 7.72c-.78.78-.78 2.05 0 2.83L4 21.41c.39.39.9.59 1.41.59.51 0 1.02-.2 1.41-.59l7.78-7.78 2.81-2.81c.8-.78.8-2.07 0-2.86zM5.41 20L4 18.59l7.72-7.72 1.47 1.35L5.41 20z\"/>\n",
              "  </svg>\n",
              "      </button>\n",
              "      \n",
              "  <style>\n",
              "    .colab-df-container {\n",
              "      display:flex;\n",
              "      flex-wrap:wrap;\n",
              "      gap: 12px;\n",
              "    }\n",
              "\n",
              "    .colab-df-convert {\n",
              "      background-color: #E8F0FE;\n",
              "      border: none;\n",
              "      border-radius: 50%;\n",
              "      cursor: pointer;\n",
              "      display: none;\n",
              "      fill: #1967D2;\n",
              "      height: 32px;\n",
              "      padding: 0 0 0 0;\n",
              "      width: 32px;\n",
              "    }\n",
              "\n",
              "    .colab-df-convert:hover {\n",
              "      background-color: #E2EBFA;\n",
              "      box-shadow: 0px 1px 2px rgba(60, 64, 67, 0.3), 0px 1px 3px 1px rgba(60, 64, 67, 0.15);\n",
              "      fill: #174EA6;\n",
              "    }\n",
              "\n",
              "    [theme=dark] .colab-df-convert {\n",
              "      background-color: #3B4455;\n",
              "      fill: #D2E3FC;\n",
              "    }\n",
              "\n",
              "    [theme=dark] .colab-df-convert:hover {\n",
              "      background-color: #434B5C;\n",
              "      box-shadow: 0px 1px 3px 1px rgba(0, 0, 0, 0.15);\n",
              "      filter: drop-shadow(0px 1px 2px rgba(0, 0, 0, 0.3));\n",
              "      fill: #FFFFFF;\n",
              "    }\n",
              "  </style>\n",
              "\n",
              "      <script>\n",
              "        const buttonEl =\n",
              "          document.querySelector('#df-b7ae8186-6160-43eb-b77c-57b38aaa0a8e button.colab-df-convert');\n",
              "        buttonEl.style.display =\n",
              "          google.colab.kernel.accessAllowed ? 'block' : 'none';\n",
              "\n",
              "        async function convertToInteractive(key) {\n",
              "          const element = document.querySelector('#df-b7ae8186-6160-43eb-b77c-57b38aaa0a8e');\n",
              "          const dataTable =\n",
              "            await google.colab.kernel.invokeFunction('convertToInteractive',\n",
              "                                                     [key], {});\n",
              "          if (!dataTable) return;\n",
              "\n",
              "          const docLinkHtml = 'Like what you see? Visit the ' +\n",
              "            '<a target=\"_blank\" href=https://colab.research.google.com/notebooks/data_table.ipynb>data table notebook</a>'\n",
              "            + ' to learn more about interactive tables.';\n",
              "          element.innerHTML = '';\n",
              "          dataTable['output_type'] = 'display_data';\n",
              "          await google.colab.output.renderOutput(dataTable, element);\n",
              "          const docLink = document.createElement('div');\n",
              "          docLink.innerHTML = docLinkHtml;\n",
              "          element.appendChild(docLink);\n",
              "        }\n",
              "      </script>\n",
              "    </div>\n",
              "  </div>\n",
              "  "
            ]
          },
          "metadata": {},
          "execution_count": 34
        }
      ]
    },
    {
      "cell_type": "code",
      "source": [
        "df_lluvias.sum()"
      ],
      "metadata": {
        "colab": {
          "base_uri": "https://localhost:8080/"
        },
        "id": "96YUyKyJKyGy",
        "outputId": "045d8741-415a-4fe8-e452-4496838136b1"
      },
      "execution_count": null,
      "outputs": [
        {
          "output_type": "execute_result",
          "data": {
            "text/plain": [
              "Jan       11.186\n",
              "Feb       41.843\n",
              "Mar       63.733\n",
              "Apr      470.487\n",
              "May      952.272\n",
              "Jun    12809.663\n",
              "Jul    16340.395\n",
              "Aug    10529.357\n",
              "Sep     7642.245\n",
              "Oct     2783.320\n",
              "Nov      958.492\n",
              "Dec      230.646\n",
              "dtype: float64"
            ]
          },
          "metadata": {},
          "execution_count": 35
        }
      ]
    },
    {
      "cell_type": "code",
      "source": [
        "df_lluvias.mean(axis='rows')"
      ],
      "metadata": {
        "colab": {
          "base_uri": "https://localhost:8080/"
        },
        "id": "hLNW18iVK4X7",
        "outputId": "75b5be93-56d2-4230-987e-c1628b355775"
      },
      "execution_count": null,
      "outputs": [
        {
          "output_type": "execute_result",
          "data": {
            "text/plain": [
              "Jan      0.294368\n",
              "Feb      1.101132\n",
              "Mar      1.677184\n",
              "Apr     12.381237\n",
              "May     25.059789\n",
              "Jun    337.096395\n",
              "Jul    430.010395\n",
              "Aug    277.088342\n",
              "Sep    201.111711\n",
              "Oct     73.245263\n",
              "Nov     25.223474\n",
              "Dec      6.069632\n",
              "dtype: float64"
            ]
          },
          "metadata": {},
          "execution_count": 36
        }
      ]
    },
    {
      "cell_type": "code",
      "source": [
        "df_lluvias.describe().round(1)"
      ],
      "metadata": {
        "colab": {
          "base_uri": "https://localhost:8080/",
          "height": 300
        },
        "id": "-DyXGfUbK7sx",
        "outputId": "fd20c660-5db3-4e84-e225-44ccfbe257fa"
      },
      "execution_count": null,
      "outputs": [
        {
          "output_type": "execute_result",
          "data": {
            "text/plain": [
              "        Jan   Feb   Mar   Apr   May    Jun    Jul    Aug    Sep    Oct    Nov  \\\n",
              "count  38.0  38.0  38.0  38.0  38.0   38.0   38.0   38.0   38.0   38.0   38.0   \n",
              "mean    0.3   1.1   1.7  12.4  25.1  337.1  430.0  277.1  201.1   73.2   25.2   \n",
              "std     0.6   1.7   2.5  13.7  22.5  171.7  178.0  132.2  123.7   62.9   31.8   \n",
              "min     0.0   0.0   0.0   0.1   0.5   94.1   84.9   59.4   44.6    1.1    0.3   \n",
              "25%     0.0   0.0   0.0   2.3   7.0  226.2  322.5  183.2  105.9   22.0    3.7   \n",
              "50%     0.0   0.2   0.6   5.5  18.1  312.1  415.1  243.2  181.0   49.8   14.7   \n",
              "75%     0.2   1.9   2.1  19.8  33.1  412.6  555.3  401.2  242.4  115.7   37.0   \n",
              "max     3.0   8.4   9.6  53.3  80.5  773.7  780.0  541.6  613.5  225.9  122.8   \n",
              "\n",
              "        Dec  \n",
              "count  38.0  \n",
              "mean    6.1  \n",
              "std    11.7  \n",
              "min     0.0  \n",
              "25%     0.0  \n",
              "50%     0.5  \n",
              "75%     4.2  \n",
              "max    37.7  "
            ],
            "text/html": [
              "\n",
              "  <div id=\"df-4a0c4d0d-8a6c-424f-a620-0b57f66ef0ea\">\n",
              "    <div class=\"colab-df-container\">\n",
              "      <div>\n",
              "<style scoped>\n",
              "    .dataframe tbody tr th:only-of-type {\n",
              "        vertical-align: middle;\n",
              "    }\n",
              "\n",
              "    .dataframe tbody tr th {\n",
              "        vertical-align: top;\n",
              "    }\n",
              "\n",
              "    .dataframe thead th {\n",
              "        text-align: right;\n",
              "    }\n",
              "</style>\n",
              "<table border=\"1\" class=\"dataframe\">\n",
              "  <thead>\n",
              "    <tr style=\"text-align: right;\">\n",
              "      <th></th>\n",
              "      <th>Jan</th>\n",
              "      <th>Feb</th>\n",
              "      <th>Mar</th>\n",
              "      <th>Apr</th>\n",
              "      <th>May</th>\n",
              "      <th>Jun</th>\n",
              "      <th>Jul</th>\n",
              "      <th>Aug</th>\n",
              "      <th>Sep</th>\n",
              "      <th>Oct</th>\n",
              "      <th>Nov</th>\n",
              "      <th>Dec</th>\n",
              "    </tr>\n",
              "  </thead>\n",
              "  <tbody>\n",
              "    <tr>\n",
              "      <th>count</th>\n",
              "      <td>38.0</td>\n",
              "      <td>38.0</td>\n",
              "      <td>38.0</td>\n",
              "      <td>38.0</td>\n",
              "      <td>38.0</td>\n",
              "      <td>38.0</td>\n",
              "      <td>38.0</td>\n",
              "      <td>38.0</td>\n",
              "      <td>38.0</td>\n",
              "      <td>38.0</td>\n",
              "      <td>38.0</td>\n",
              "      <td>38.0</td>\n",
              "    </tr>\n",
              "    <tr>\n",
              "      <th>mean</th>\n",
              "      <td>0.3</td>\n",
              "      <td>1.1</td>\n",
              "      <td>1.7</td>\n",
              "      <td>12.4</td>\n",
              "      <td>25.1</td>\n",
              "      <td>337.1</td>\n",
              "      <td>430.0</td>\n",
              "      <td>277.1</td>\n",
              "      <td>201.1</td>\n",
              "      <td>73.2</td>\n",
              "      <td>25.2</td>\n",
              "      <td>6.1</td>\n",
              "    </tr>\n",
              "    <tr>\n",
              "      <th>std</th>\n",
              "      <td>0.6</td>\n",
              "      <td>1.7</td>\n",
              "      <td>2.5</td>\n",
              "      <td>13.7</td>\n",
              "      <td>22.5</td>\n",
              "      <td>171.7</td>\n",
              "      <td>178.0</td>\n",
              "      <td>132.2</td>\n",
              "      <td>123.7</td>\n",
              "      <td>62.9</td>\n",
              "      <td>31.8</td>\n",
              "      <td>11.7</td>\n",
              "    </tr>\n",
              "    <tr>\n",
              "      <th>min</th>\n",
              "      <td>0.0</td>\n",
              "      <td>0.0</td>\n",
              "      <td>0.0</td>\n",
              "      <td>0.1</td>\n",
              "      <td>0.5</td>\n",
              "      <td>94.1</td>\n",
              "      <td>84.9</td>\n",
              "      <td>59.4</td>\n",
              "      <td>44.6</td>\n",
              "      <td>1.1</td>\n",
              "      <td>0.3</td>\n",
              "      <td>0.0</td>\n",
              "    </tr>\n",
              "    <tr>\n",
              "      <th>25%</th>\n",
              "      <td>0.0</td>\n",
              "      <td>0.0</td>\n",
              "      <td>0.0</td>\n",
              "      <td>2.3</td>\n",
              "      <td>7.0</td>\n",
              "      <td>226.2</td>\n",
              "      <td>322.5</td>\n",
              "      <td>183.2</td>\n",
              "      <td>105.9</td>\n",
              "      <td>22.0</td>\n",
              "      <td>3.7</td>\n",
              "      <td>0.0</td>\n",
              "    </tr>\n",
              "    <tr>\n",
              "      <th>50%</th>\n",
              "      <td>0.0</td>\n",
              "      <td>0.2</td>\n",
              "      <td>0.6</td>\n",
              "      <td>5.5</td>\n",
              "      <td>18.1</td>\n",
              "      <td>312.1</td>\n",
              "      <td>415.1</td>\n",
              "      <td>243.2</td>\n",
              "      <td>181.0</td>\n",
              "      <td>49.8</td>\n",
              "      <td>14.7</td>\n",
              "      <td>0.5</td>\n",
              "    </tr>\n",
              "    <tr>\n",
              "      <th>75%</th>\n",
              "      <td>0.2</td>\n",
              "      <td>1.9</td>\n",
              "      <td>2.1</td>\n",
              "      <td>19.8</td>\n",
              "      <td>33.1</td>\n",
              "      <td>412.6</td>\n",
              "      <td>555.3</td>\n",
              "      <td>401.2</td>\n",
              "      <td>242.4</td>\n",
              "      <td>115.7</td>\n",
              "      <td>37.0</td>\n",
              "      <td>4.2</td>\n",
              "    </tr>\n",
              "    <tr>\n",
              "      <th>max</th>\n",
              "      <td>3.0</td>\n",
              "      <td>8.4</td>\n",
              "      <td>9.6</td>\n",
              "      <td>53.3</td>\n",
              "      <td>80.5</td>\n",
              "      <td>773.7</td>\n",
              "      <td>780.0</td>\n",
              "      <td>541.6</td>\n",
              "      <td>613.5</td>\n",
              "      <td>225.9</td>\n",
              "      <td>122.8</td>\n",
              "      <td>37.7</td>\n",
              "    </tr>\n",
              "  </tbody>\n",
              "</table>\n",
              "</div>\n",
              "      <button class=\"colab-df-convert\" onclick=\"convertToInteractive('df-4a0c4d0d-8a6c-424f-a620-0b57f66ef0ea')\"\n",
              "              title=\"Convert this dataframe to an interactive table.\"\n",
              "              style=\"display:none;\">\n",
              "        \n",
              "  <svg xmlns=\"http://www.w3.org/2000/svg\" height=\"24px\"viewBox=\"0 0 24 24\"\n",
              "       width=\"24px\">\n",
              "    <path d=\"M0 0h24v24H0V0z\" fill=\"none\"/>\n",
              "    <path d=\"M18.56 5.44l.94 2.06.94-2.06 2.06-.94-2.06-.94-.94-2.06-.94 2.06-2.06.94zm-11 1L8.5 8.5l.94-2.06 2.06-.94-2.06-.94L8.5 2.5l-.94 2.06-2.06.94zm10 10l.94 2.06.94-2.06 2.06-.94-2.06-.94-.94-2.06-.94 2.06-2.06.94z\"/><path d=\"M17.41 7.96l-1.37-1.37c-.4-.4-.92-.59-1.43-.59-.52 0-1.04.2-1.43.59L10.3 9.45l-7.72 7.72c-.78.78-.78 2.05 0 2.83L4 21.41c.39.39.9.59 1.41.59.51 0 1.02-.2 1.41-.59l7.78-7.78 2.81-2.81c.8-.78.8-2.07 0-2.86zM5.41 20L4 18.59l7.72-7.72 1.47 1.35L5.41 20z\"/>\n",
              "  </svg>\n",
              "      </button>\n",
              "      \n",
              "  <style>\n",
              "    .colab-df-container {\n",
              "      display:flex;\n",
              "      flex-wrap:wrap;\n",
              "      gap: 12px;\n",
              "    }\n",
              "\n",
              "    .colab-df-convert {\n",
              "      background-color: #E8F0FE;\n",
              "      border: none;\n",
              "      border-radius: 50%;\n",
              "      cursor: pointer;\n",
              "      display: none;\n",
              "      fill: #1967D2;\n",
              "      height: 32px;\n",
              "      padding: 0 0 0 0;\n",
              "      width: 32px;\n",
              "    }\n",
              "\n",
              "    .colab-df-convert:hover {\n",
              "      background-color: #E2EBFA;\n",
              "      box-shadow: 0px 1px 2px rgba(60, 64, 67, 0.3), 0px 1px 3px 1px rgba(60, 64, 67, 0.15);\n",
              "      fill: #174EA6;\n",
              "    }\n",
              "\n",
              "    [theme=dark] .colab-df-convert {\n",
              "      background-color: #3B4455;\n",
              "      fill: #D2E3FC;\n",
              "    }\n",
              "\n",
              "    [theme=dark] .colab-df-convert:hover {\n",
              "      background-color: #434B5C;\n",
              "      box-shadow: 0px 1px 3px 1px rgba(0, 0, 0, 0.15);\n",
              "      filter: drop-shadow(0px 1px 2px rgba(0, 0, 0, 0.3));\n",
              "      fill: #FFFFFF;\n",
              "    }\n",
              "  </style>\n",
              "\n",
              "      <script>\n",
              "        const buttonEl =\n",
              "          document.querySelector('#df-4a0c4d0d-8a6c-424f-a620-0b57f66ef0ea button.colab-df-convert');\n",
              "        buttonEl.style.display =\n",
              "          google.colab.kernel.accessAllowed ? 'block' : 'none';\n",
              "\n",
              "        async function convertToInteractive(key) {\n",
              "          const element = document.querySelector('#df-4a0c4d0d-8a6c-424f-a620-0b57f66ef0ea');\n",
              "          const dataTable =\n",
              "            await google.colab.kernel.invokeFunction('convertToInteractive',\n",
              "                                                     [key], {});\n",
              "          if (!dataTable) return;\n",
              "\n",
              "          const docLinkHtml = 'Like what you see? Visit the ' +\n",
              "            '<a target=\"_blank\" href=https://colab.research.google.com/notebooks/data_table.ipynb>data table notebook</a>'\n",
              "            + ' to learn more about interactive tables.';\n",
              "          element.innerHTML = '';\n",
              "          dataTable['output_type'] = 'display_data';\n",
              "          await google.colab.output.renderOutput(dataTable, element);\n",
              "          const docLink = document.createElement('div');\n",
              "          docLink.innerHTML = docLinkHtml;\n",
              "          element.appendChild(docLink);\n",
              "        }\n",
              "      </script>\n",
              "    </div>\n",
              "  </div>\n",
              "  "
            ]
          },
          "metadata": {},
          "execution_count": 37
        }
      ]
    },
    {
      "cell_type": "code",
      "source": [
        "df_lluvias.T.describe().round(1)"
      ],
      "metadata": {
        "colab": {
          "base_uri": "https://localhost:8080/",
          "height": 330
        },
        "id": "oqixPzqFK-RG",
        "outputId": "a08782ed-7254-4fce-991e-3eb61a70ac10"
      },
      "execution_count": null,
      "outputs": [
        {
          "output_type": "execute_result",
          "data": {
            "text/plain": [
              "        1965   1966   1967   1968   1969   1970   1971   1972   1973   1974  \\\n",
              "count   12.0   12.0   12.0   12.0   12.0   12.0   12.0   12.0   12.0   12.0   \n",
              "mean   105.3   75.0  126.8   90.5  144.9  106.1   98.1   59.2  130.8  118.8   \n",
              "std    193.8  136.7  223.5  121.5  226.5  130.8  139.3  100.1  209.3  148.0   \n",
              "min      0.0    0.0    0.2    0.3    0.2    0.0    0.0    0.0    0.0    0.0   \n",
              "25%      4.0    1.2    7.1    2.8    2.4    0.1    0.0    0.1    2.3    0.2   \n",
              "50%     19.8   22.7   25.6   23.3   15.1   42.1   20.1   12.5   10.2   34.0   \n",
              "75%     77.7   70.8  181.7  174.0  252.5  189.8  163.2   81.7  201.6  213.8   \n",
              "max    606.1  481.9  780.0  379.4  678.4  330.5  372.7  338.5  696.0  405.4   \n",
              "\n",
              "       ...   1993   1994   1995   1996   1997   1998   1999   2000   2001  \\\n",
              "count  ...   12.0   12.0   12.0   12.0   12.0   12.0   12.0   12.0   12.0   \n",
              "mean   ...  100.9  165.6  100.8  135.9  153.7  133.6  103.0   91.2   87.2   \n",
              "std    ...  141.6  272.2  154.0  194.0  243.5  189.4  140.4  128.4  108.0   \n",
              "min    ...    0.0    0.0    0.0    0.0    0.0    0.0    0.0    0.0    0.0   \n",
              "25%    ...    1.8    2.0    1.5    2.1    3.8    0.3    0.2    0.9    1.2   \n",
              "50%    ...   20.7   25.1   25.0    9.3   27.5   34.3   18.6   20.8   15.7   \n",
              "75%    ...  169.2  145.0  126.5  205.9  154.8  239.8  191.7  165.6  165.9   \n",
              "max    ...  450.1  749.0  501.5  558.6  673.8  590.7  415.5  371.3  279.5   \n",
              "\n",
              "        2002  \n",
              "count   12.0  \n",
              "mean    85.4  \n",
              "std    152.2  \n",
              "min      0.0  \n",
              "25%      0.6  \n",
              "50%     20.0  \n",
              "75%     79.9  \n",
              "max    509.1  \n",
              "\n",
              "[8 rows x 38 columns]"
            ],
            "text/html": [
              "\n",
              "  <div id=\"df-add3e27b-8b95-431f-b477-c9611823a3d1\">\n",
              "    <div class=\"colab-df-container\">\n",
              "      <div>\n",
              "<style scoped>\n",
              "    .dataframe tbody tr th:only-of-type {\n",
              "        vertical-align: middle;\n",
              "    }\n",
              "\n",
              "    .dataframe tbody tr th {\n",
              "        vertical-align: top;\n",
              "    }\n",
              "\n",
              "    .dataframe thead th {\n",
              "        text-align: right;\n",
              "    }\n",
              "</style>\n",
              "<table border=\"1\" class=\"dataframe\">\n",
              "  <thead>\n",
              "    <tr style=\"text-align: right;\">\n",
              "      <th></th>\n",
              "      <th>1965</th>\n",
              "      <th>1966</th>\n",
              "      <th>1967</th>\n",
              "      <th>1968</th>\n",
              "      <th>1969</th>\n",
              "      <th>1970</th>\n",
              "      <th>1971</th>\n",
              "      <th>1972</th>\n",
              "      <th>1973</th>\n",
              "      <th>1974</th>\n",
              "      <th>...</th>\n",
              "      <th>1993</th>\n",
              "      <th>1994</th>\n",
              "      <th>1995</th>\n",
              "      <th>1996</th>\n",
              "      <th>1997</th>\n",
              "      <th>1998</th>\n",
              "      <th>1999</th>\n",
              "      <th>2000</th>\n",
              "      <th>2001</th>\n",
              "      <th>2002</th>\n",
              "    </tr>\n",
              "  </thead>\n",
              "  <tbody>\n",
              "    <tr>\n",
              "      <th>count</th>\n",
              "      <td>12.0</td>\n",
              "      <td>12.0</td>\n",
              "      <td>12.0</td>\n",
              "      <td>12.0</td>\n",
              "      <td>12.0</td>\n",
              "      <td>12.0</td>\n",
              "      <td>12.0</td>\n",
              "      <td>12.0</td>\n",
              "      <td>12.0</td>\n",
              "      <td>12.0</td>\n",
              "      <td>...</td>\n",
              "      <td>12.0</td>\n",
              "      <td>12.0</td>\n",
              "      <td>12.0</td>\n",
              "      <td>12.0</td>\n",
              "      <td>12.0</td>\n",
              "      <td>12.0</td>\n",
              "      <td>12.0</td>\n",
              "      <td>12.0</td>\n",
              "      <td>12.0</td>\n",
              "      <td>12.0</td>\n",
              "    </tr>\n",
              "    <tr>\n",
              "      <th>mean</th>\n",
              "      <td>105.3</td>\n",
              "      <td>75.0</td>\n",
              "      <td>126.8</td>\n",
              "      <td>90.5</td>\n",
              "      <td>144.9</td>\n",
              "      <td>106.1</td>\n",
              "      <td>98.1</td>\n",
              "      <td>59.2</td>\n",
              "      <td>130.8</td>\n",
              "      <td>118.8</td>\n",
              "      <td>...</td>\n",
              "      <td>100.9</td>\n",
              "      <td>165.6</td>\n",
              "      <td>100.8</td>\n",
              "      <td>135.9</td>\n",
              "      <td>153.7</td>\n",
              "      <td>133.6</td>\n",
              "      <td>103.0</td>\n",
              "      <td>91.2</td>\n",
              "      <td>87.2</td>\n",
              "      <td>85.4</td>\n",
              "    </tr>\n",
              "    <tr>\n",
              "      <th>std</th>\n",
              "      <td>193.8</td>\n",
              "      <td>136.7</td>\n",
              "      <td>223.5</td>\n",
              "      <td>121.5</td>\n",
              "      <td>226.5</td>\n",
              "      <td>130.8</td>\n",
              "      <td>139.3</td>\n",
              "      <td>100.1</td>\n",
              "      <td>209.3</td>\n",
              "      <td>148.0</td>\n",
              "      <td>...</td>\n",
              "      <td>141.6</td>\n",
              "      <td>272.2</td>\n",
              "      <td>154.0</td>\n",
              "      <td>194.0</td>\n",
              "      <td>243.5</td>\n",
              "      <td>189.4</td>\n",
              "      <td>140.4</td>\n",
              "      <td>128.4</td>\n",
              "      <td>108.0</td>\n",
              "      <td>152.2</td>\n",
              "    </tr>\n",
              "    <tr>\n",
              "      <th>min</th>\n",
              "      <td>0.0</td>\n",
              "      <td>0.0</td>\n",
              "      <td>0.2</td>\n",
              "      <td>0.3</td>\n",
              "      <td>0.2</td>\n",
              "      <td>0.0</td>\n",
              "      <td>0.0</td>\n",
              "      <td>0.0</td>\n",
              "      <td>0.0</td>\n",
              "      <td>0.0</td>\n",
              "      <td>...</td>\n",
              "      <td>0.0</td>\n",
              "      <td>0.0</td>\n",
              "      <td>0.0</td>\n",
              "      <td>0.0</td>\n",
              "      <td>0.0</td>\n",
              "      <td>0.0</td>\n",
              "      <td>0.0</td>\n",
              "      <td>0.0</td>\n",
              "      <td>0.0</td>\n",
              "      <td>0.0</td>\n",
              "    </tr>\n",
              "    <tr>\n",
              "      <th>25%</th>\n",
              "      <td>4.0</td>\n",
              "      <td>1.2</td>\n",
              "      <td>7.1</td>\n",
              "      <td>2.8</td>\n",
              "      <td>2.4</td>\n",
              "      <td>0.1</td>\n",
              "      <td>0.0</td>\n",
              "      <td>0.1</td>\n",
              "      <td>2.3</td>\n",
              "      <td>0.2</td>\n",
              "      <td>...</td>\n",
              "      <td>1.8</td>\n",
              "      <td>2.0</td>\n",
              "      <td>1.5</td>\n",
              "      <td>2.1</td>\n",
              "      <td>3.8</td>\n",
              "      <td>0.3</td>\n",
              "      <td>0.2</td>\n",
              "      <td>0.9</td>\n",
              "      <td>1.2</td>\n",
              "      <td>0.6</td>\n",
              "    </tr>\n",
              "    <tr>\n",
              "      <th>50%</th>\n",
              "      <td>19.8</td>\n",
              "      <td>22.7</td>\n",
              "      <td>25.6</td>\n",
              "      <td>23.3</td>\n",
              "      <td>15.1</td>\n",
              "      <td>42.1</td>\n",
              "      <td>20.1</td>\n",
              "      <td>12.5</td>\n",
              "      <td>10.2</td>\n",
              "      <td>34.0</td>\n",
              "      <td>...</td>\n",
              "      <td>20.7</td>\n",
              "      <td>25.1</td>\n",
              "      <td>25.0</td>\n",
              "      <td>9.3</td>\n",
              "      <td>27.5</td>\n",
              "      <td>34.3</td>\n",
              "      <td>18.6</td>\n",
              "      <td>20.8</td>\n",
              "      <td>15.7</td>\n",
              "      <td>20.0</td>\n",
              "    </tr>\n",
              "    <tr>\n",
              "      <th>75%</th>\n",
              "      <td>77.7</td>\n",
              "      <td>70.8</td>\n",
              "      <td>181.7</td>\n",
              "      <td>174.0</td>\n",
              "      <td>252.5</td>\n",
              "      <td>189.8</td>\n",
              "      <td>163.2</td>\n",
              "      <td>81.7</td>\n",
              "      <td>201.6</td>\n",
              "      <td>213.8</td>\n",
              "      <td>...</td>\n",
              "      <td>169.2</td>\n",
              "      <td>145.0</td>\n",
              "      <td>126.5</td>\n",
              "      <td>205.9</td>\n",
              "      <td>154.8</td>\n",
              "      <td>239.8</td>\n",
              "      <td>191.7</td>\n",
              "      <td>165.6</td>\n",
              "      <td>165.9</td>\n",
              "      <td>79.9</td>\n",
              "    </tr>\n",
              "    <tr>\n",
              "      <th>max</th>\n",
              "      <td>606.1</td>\n",
              "      <td>481.9</td>\n",
              "      <td>780.0</td>\n",
              "      <td>379.4</td>\n",
              "      <td>678.4</td>\n",
              "      <td>330.5</td>\n",
              "      <td>372.7</td>\n",
              "      <td>338.5</td>\n",
              "      <td>696.0</td>\n",
              "      <td>405.4</td>\n",
              "      <td>...</td>\n",
              "      <td>450.1</td>\n",
              "      <td>749.0</td>\n",
              "      <td>501.5</td>\n",
              "      <td>558.6</td>\n",
              "      <td>673.8</td>\n",
              "      <td>590.7</td>\n",
              "      <td>415.5</td>\n",
              "      <td>371.3</td>\n",
              "      <td>279.5</td>\n",
              "      <td>509.1</td>\n",
              "    </tr>\n",
              "  </tbody>\n",
              "</table>\n",
              "<p>8 rows × 38 columns</p>\n",
              "</div>\n",
              "      <button class=\"colab-df-convert\" onclick=\"convertToInteractive('df-add3e27b-8b95-431f-b477-c9611823a3d1')\"\n",
              "              title=\"Convert this dataframe to an interactive table.\"\n",
              "              style=\"display:none;\">\n",
              "        \n",
              "  <svg xmlns=\"http://www.w3.org/2000/svg\" height=\"24px\"viewBox=\"0 0 24 24\"\n",
              "       width=\"24px\">\n",
              "    <path d=\"M0 0h24v24H0V0z\" fill=\"none\"/>\n",
              "    <path d=\"M18.56 5.44l.94 2.06.94-2.06 2.06-.94-2.06-.94-.94-2.06-.94 2.06-2.06.94zm-11 1L8.5 8.5l.94-2.06 2.06-.94-2.06-.94L8.5 2.5l-.94 2.06-2.06.94zm10 10l.94 2.06.94-2.06 2.06-.94-2.06-.94-.94-2.06-.94 2.06-2.06.94z\"/><path d=\"M17.41 7.96l-1.37-1.37c-.4-.4-.92-.59-1.43-.59-.52 0-1.04.2-1.43.59L10.3 9.45l-7.72 7.72c-.78.78-.78 2.05 0 2.83L4 21.41c.39.39.9.59 1.41.59.51 0 1.02-.2 1.41-.59l7.78-7.78 2.81-2.81c.8-.78.8-2.07 0-2.86zM5.41 20L4 18.59l7.72-7.72 1.47 1.35L5.41 20z\"/>\n",
              "  </svg>\n",
              "      </button>\n",
              "      \n",
              "  <style>\n",
              "    .colab-df-container {\n",
              "      display:flex;\n",
              "      flex-wrap:wrap;\n",
              "      gap: 12px;\n",
              "    }\n",
              "\n",
              "    .colab-df-convert {\n",
              "      background-color: #E8F0FE;\n",
              "      border: none;\n",
              "      border-radius: 50%;\n",
              "      cursor: pointer;\n",
              "      display: none;\n",
              "      fill: #1967D2;\n",
              "      height: 32px;\n",
              "      padding: 0 0 0 0;\n",
              "      width: 32px;\n",
              "    }\n",
              "\n",
              "    .colab-df-convert:hover {\n",
              "      background-color: #E2EBFA;\n",
              "      box-shadow: 0px 1px 2px rgba(60, 64, 67, 0.3), 0px 1px 3px 1px rgba(60, 64, 67, 0.15);\n",
              "      fill: #174EA6;\n",
              "    }\n",
              "\n",
              "    [theme=dark] .colab-df-convert {\n",
              "      background-color: #3B4455;\n",
              "      fill: #D2E3FC;\n",
              "    }\n",
              "\n",
              "    [theme=dark] .colab-df-convert:hover {\n",
              "      background-color: #434B5C;\n",
              "      box-shadow: 0px 1px 3px 1px rgba(0, 0, 0, 0.15);\n",
              "      filter: drop-shadow(0px 1px 2px rgba(0, 0, 0, 0.3));\n",
              "      fill: #FFFFFF;\n",
              "    }\n",
              "  </style>\n",
              "\n",
              "      <script>\n",
              "        const buttonEl =\n",
              "          document.querySelector('#df-add3e27b-8b95-431f-b477-c9611823a3d1 button.colab-df-convert');\n",
              "        buttonEl.style.display =\n",
              "          google.colab.kernel.accessAllowed ? 'block' : 'none';\n",
              "\n",
              "        async function convertToInteractive(key) {\n",
              "          const element = document.querySelector('#df-add3e27b-8b95-431f-b477-c9611823a3d1');\n",
              "          const dataTable =\n",
              "            await google.colab.kernel.invokeFunction('convertToInteractive',\n",
              "                                                     [key], {});\n",
              "          if (!dataTable) return;\n",
              "\n",
              "          const docLinkHtml = 'Like what you see? Visit the ' +\n",
              "            '<a target=\"_blank\" href=https://colab.research.google.com/notebooks/data_table.ipynb>data table notebook</a>'\n",
              "            + ' to learn more about interactive tables.';\n",
              "          element.innerHTML = '';\n",
              "          dataTable['output_type'] = 'display_data';\n",
              "          await google.colab.output.renderOutput(dataTable, element);\n",
              "          const docLink = document.createElement('div');\n",
              "          docLink.innerHTML = docLinkHtml;\n",
              "          element.appendChild(docLink);\n",
              "        }\n",
              "      </script>\n",
              "    </div>\n",
              "  </div>\n",
              "  "
            ]
          },
          "metadata": {},
          "execution_count": 38
        }
      ]
    },
    {
      "cell_type": "code",
      "source": [
        "df_lluvias_archivo.head()"
      ],
      "metadata": {
        "colab": {
          "base_uri": "https://localhost:8080/",
          "height": 206
        },
        "id": "V_g-4eksLSdz",
        "outputId": "723d8026-fd3a-4a81-a840-86049f3601f0"
      },
      "execution_count": null,
      "outputs": [
        {
          "output_type": "execute_result",
          "data": {
            "text/plain": [
              "   Year    Jan    Feb    Mar     Apr     May      Jun      Jul      Aug  \\\n",
              "0  1965  0.029  0.069  0.000  21.667  17.859  102.111  606.071  402.521   \n",
              "1  1966  0.905  0.000  0.000   2.981  63.008   94.088  481.942   59.386   \n",
              "2  1967  0.248  3.390  1.320  13.482  11.116  251.314  780.006  181.069   \n",
              "3  1968  0.318  3.035  1.704  23.307   7.441  179.872  379.354  171.979   \n",
              "4  1969  0.248  2.524  0.334   4.569   6.213  393.682  678.354  397.335   \n",
              "\n",
              "       Sep     Oct     Nov     Dec  \n",
              "0   69.511   5.249  16.232  22.075  \n",
              "1  150.624   1.308  41.214   4.132  \n",
              "2  183.757  50.404   8.393  37.685  \n",
              "3  219.884  73.997  23.326   2.020  \n",
              "4  205.413  24.014  24.385   1.951  "
            ],
            "text/html": [
              "\n",
              "  <div id=\"df-6120c013-37d8-43bf-a89d-d382a4f26ba9\">\n",
              "    <div class=\"colab-df-container\">\n",
              "      <div>\n",
              "<style scoped>\n",
              "    .dataframe tbody tr th:only-of-type {\n",
              "        vertical-align: middle;\n",
              "    }\n",
              "\n",
              "    .dataframe tbody tr th {\n",
              "        vertical-align: top;\n",
              "    }\n",
              "\n",
              "    .dataframe thead th {\n",
              "        text-align: right;\n",
              "    }\n",
              "</style>\n",
              "<table border=\"1\" class=\"dataframe\">\n",
              "  <thead>\n",
              "    <tr style=\"text-align: right;\">\n",
              "      <th></th>\n",
              "      <th>Year</th>\n",
              "      <th>Jan</th>\n",
              "      <th>Feb</th>\n",
              "      <th>Mar</th>\n",
              "      <th>Apr</th>\n",
              "      <th>May</th>\n",
              "      <th>Jun</th>\n",
              "      <th>Jul</th>\n",
              "      <th>Aug</th>\n",
              "      <th>Sep</th>\n",
              "      <th>Oct</th>\n",
              "      <th>Nov</th>\n",
              "      <th>Dec</th>\n",
              "    </tr>\n",
              "  </thead>\n",
              "  <tbody>\n",
              "    <tr>\n",
              "      <th>0</th>\n",
              "      <td>1965</td>\n",
              "      <td>0.029</td>\n",
              "      <td>0.069</td>\n",
              "      <td>0.000</td>\n",
              "      <td>21.667</td>\n",
              "      <td>17.859</td>\n",
              "      <td>102.111</td>\n",
              "      <td>606.071</td>\n",
              "      <td>402.521</td>\n",
              "      <td>69.511</td>\n",
              "      <td>5.249</td>\n",
              "      <td>16.232</td>\n",
              "      <td>22.075</td>\n",
              "    </tr>\n",
              "    <tr>\n",
              "      <th>1</th>\n",
              "      <td>1966</td>\n",
              "      <td>0.905</td>\n",
              "      <td>0.000</td>\n",
              "      <td>0.000</td>\n",
              "      <td>2.981</td>\n",
              "      <td>63.008</td>\n",
              "      <td>94.088</td>\n",
              "      <td>481.942</td>\n",
              "      <td>59.386</td>\n",
              "      <td>150.624</td>\n",
              "      <td>1.308</td>\n",
              "      <td>41.214</td>\n",
              "      <td>4.132</td>\n",
              "    </tr>\n",
              "    <tr>\n",
              "      <th>2</th>\n",
              "      <td>1967</td>\n",
              "      <td>0.248</td>\n",
              "      <td>3.390</td>\n",
              "      <td>1.320</td>\n",
              "      <td>13.482</td>\n",
              "      <td>11.116</td>\n",
              "      <td>251.314</td>\n",
              "      <td>780.006</td>\n",
              "      <td>181.069</td>\n",
              "      <td>183.757</td>\n",
              "      <td>50.404</td>\n",
              "      <td>8.393</td>\n",
              "      <td>37.685</td>\n",
              "    </tr>\n",
              "    <tr>\n",
              "      <th>3</th>\n",
              "      <td>1968</td>\n",
              "      <td>0.318</td>\n",
              "      <td>3.035</td>\n",
              "      <td>1.704</td>\n",
              "      <td>23.307</td>\n",
              "      <td>7.441</td>\n",
              "      <td>179.872</td>\n",
              "      <td>379.354</td>\n",
              "      <td>171.979</td>\n",
              "      <td>219.884</td>\n",
              "      <td>73.997</td>\n",
              "      <td>23.326</td>\n",
              "      <td>2.020</td>\n",
              "    </tr>\n",
              "    <tr>\n",
              "      <th>4</th>\n",
              "      <td>1969</td>\n",
              "      <td>0.248</td>\n",
              "      <td>2.524</td>\n",
              "      <td>0.334</td>\n",
              "      <td>4.569</td>\n",
              "      <td>6.213</td>\n",
              "      <td>393.682</td>\n",
              "      <td>678.354</td>\n",
              "      <td>397.335</td>\n",
              "      <td>205.413</td>\n",
              "      <td>24.014</td>\n",
              "      <td>24.385</td>\n",
              "      <td>1.951</td>\n",
              "    </tr>\n",
              "  </tbody>\n",
              "</table>\n",
              "</div>\n",
              "      <button class=\"colab-df-convert\" onclick=\"convertToInteractive('df-6120c013-37d8-43bf-a89d-d382a4f26ba9')\"\n",
              "              title=\"Convert this dataframe to an interactive table.\"\n",
              "              style=\"display:none;\">\n",
              "        \n",
              "  <svg xmlns=\"http://www.w3.org/2000/svg\" height=\"24px\"viewBox=\"0 0 24 24\"\n",
              "       width=\"24px\">\n",
              "    <path d=\"M0 0h24v24H0V0z\" fill=\"none\"/>\n",
              "    <path d=\"M18.56 5.44l.94 2.06.94-2.06 2.06-.94-2.06-.94-.94-2.06-.94 2.06-2.06.94zm-11 1L8.5 8.5l.94-2.06 2.06-.94-2.06-.94L8.5 2.5l-.94 2.06-2.06.94zm10 10l.94 2.06.94-2.06 2.06-.94-2.06-.94-.94-2.06-.94 2.06-2.06.94z\"/><path d=\"M17.41 7.96l-1.37-1.37c-.4-.4-.92-.59-1.43-.59-.52 0-1.04.2-1.43.59L10.3 9.45l-7.72 7.72c-.78.78-.78 2.05 0 2.83L4 21.41c.39.39.9.59 1.41.59.51 0 1.02-.2 1.41-.59l7.78-7.78 2.81-2.81c.8-.78.8-2.07 0-2.86zM5.41 20L4 18.59l7.72-7.72 1.47 1.35L5.41 20z\"/>\n",
              "  </svg>\n",
              "      </button>\n",
              "      \n",
              "  <style>\n",
              "    .colab-df-container {\n",
              "      display:flex;\n",
              "      flex-wrap:wrap;\n",
              "      gap: 12px;\n",
              "    }\n",
              "\n",
              "    .colab-df-convert {\n",
              "      background-color: #E8F0FE;\n",
              "      border: none;\n",
              "      border-radius: 50%;\n",
              "      cursor: pointer;\n",
              "      display: none;\n",
              "      fill: #1967D2;\n",
              "      height: 32px;\n",
              "      padding: 0 0 0 0;\n",
              "      width: 32px;\n",
              "    }\n",
              "\n",
              "    .colab-df-convert:hover {\n",
              "      background-color: #E2EBFA;\n",
              "      box-shadow: 0px 1px 2px rgba(60, 64, 67, 0.3), 0px 1px 3px 1px rgba(60, 64, 67, 0.15);\n",
              "      fill: #174EA6;\n",
              "    }\n",
              "\n",
              "    [theme=dark] .colab-df-convert {\n",
              "      background-color: #3B4455;\n",
              "      fill: #D2E3FC;\n",
              "    }\n",
              "\n",
              "    [theme=dark] .colab-df-convert:hover {\n",
              "      background-color: #434B5C;\n",
              "      box-shadow: 0px 1px 3px 1px rgba(0, 0, 0, 0.15);\n",
              "      filter: drop-shadow(0px 1px 2px rgba(0, 0, 0, 0.3));\n",
              "      fill: #FFFFFF;\n",
              "    }\n",
              "  </style>\n",
              "\n",
              "      <script>\n",
              "        const buttonEl =\n",
              "          document.querySelector('#df-6120c013-37d8-43bf-a89d-d382a4f26ba9 button.colab-df-convert');\n",
              "        buttonEl.style.display =\n",
              "          google.colab.kernel.accessAllowed ? 'block' : 'none';\n",
              "\n",
              "        async function convertToInteractive(key) {\n",
              "          const element = document.querySelector('#df-6120c013-37d8-43bf-a89d-d382a4f26ba9');\n",
              "          const dataTable =\n",
              "            await google.colab.kernel.invokeFunction('convertToInteractive',\n",
              "                                                     [key], {});\n",
              "          if (!dataTable) return;\n",
              "\n",
              "          const docLinkHtml = 'Like what you see? Visit the ' +\n",
              "            '<a target=\"_blank\" href=https://colab.research.google.com/notebooks/data_table.ipynb>data table notebook</a>'\n",
              "            + ' to learn more about interactive tables.';\n",
              "          element.innerHTML = '';\n",
              "          dataTable['output_type'] = 'display_data';\n",
              "          await google.colab.output.renderOutput(dataTable, element);\n",
              "          const docLink = document.createElement('div');\n",
              "          docLink.innerHTML = docLinkHtml;\n",
              "          element.appendChild(docLink);\n",
              "        }\n",
              "      </script>\n",
              "    </div>\n",
              "  </div>\n",
              "  "
            ]
          },
          "metadata": {},
          "execution_count": 39
        }
      ]
    },
    {
      "cell_type": "code",
      "source": [
        "# Metodo grouby\n",
        "print(df_lluvias_archivo.groupby('Year')['Jan','Feb','Mar'].mean().head(15))"
      ],
      "metadata": {
        "colab": {
          "base_uri": "https://localhost:8080/"
        },
        "id": "k5eHBhbFLGt9",
        "outputId": "e79e20d3-c982-4b79-9691-aebce19b1621"
      },
      "execution_count": null,
      "outputs": [
        {
          "output_type": "stream",
          "name": "stdout",
          "text": [
            "        Jan    Feb    Mar\n",
            "Year                     \n",
            "1965  0.029  0.069  0.000\n",
            "1966  0.905  0.000  0.000\n",
            "1967  0.248  3.390  1.320\n",
            "1968  0.318  3.035  1.704\n",
            "1969  0.248  2.524  0.334\n",
            "1970  0.070  0.000  0.001\n",
            "1971  0.000  0.000  0.000\n",
            "1972  0.000  0.029  0.000\n",
            "1973  0.000  2.969  0.234\n",
            "1974  0.000  0.000  6.427\n",
            "1975  0.333  0.585  0.000\n",
            "1976  0.000  0.000  5.993\n",
            "1977  0.000  2.981  3.289\n",
            "1978  0.061  4.197  4.004\n",
            "1979  0.000  0.386  3.343\n"
          ]
        },
        {
          "output_type": "stream",
          "name": "stderr",
          "text": [
            "/usr/local/lib/python3.7/dist-packages/ipykernel_launcher.py:2: FutureWarning: Indexing with multiple keys (implicitly converted to a tuple of keys) will be deprecated, use a list instead.\n",
            "  \n"
          ]
        }
      ]
    },
    {
      "cell_type": "markdown",
      "source": [
        "# Operaciones sobre strings"
      ],
      "metadata": {
        "id": "-ZfXXDMqNnQq"
      }
    },
    {
      "cell_type": "code",
      "source": [
        "Presidentes_archivo = pd.read_csv('/content/us_presidents 2.csv')\n",
        "Presidentes_archivo.head()"
      ],
      "metadata": {
        "colab": {
          "base_uri": "https://localhost:8080/",
          "height": 250
        },
        "id": "LQ6S5akWNo6w",
        "outputId": "16f379fe-83d3-419c-f5e7-306518e64c88"
      },
      "execution_count": null,
      "outputs": [
        {
          "output_type": "execute_result",
          "data": {
            "text/plain": [
              "   Unnamed: 0  S.No.           start            end          president  \\\n",
              "0           0      1  April 30, 1789  March 4, 1797  George Washington   \n",
              "1           1      2   March 4, 1797  March 4, 1801         John Adams   \n",
              "2           2      3   March 4, 1801  March 4, 1809   Thomas Jefferson   \n",
              "3           3      4   March 4, 1809  March 4, 1817      James Madison   \n",
              "4           4      5   March 4, 1817  March 4, 1825       James Monroe   \n",
              "\n",
              "                                               prior                    party  \\\n",
              "0  Commander-in-Chief  of the  Continental Army  ...       Nonpartisan   [13]   \n",
              "1           1st  Vice President of the United States               Federalist   \n",
              "2           2nd  Vice President of the United States  Democratic-  Republican   \n",
              "3  5th  United States Secretary of State   (1801–...  Democratic-  Republican   \n",
              "4  7th  United States Secretary of State   (1811–...  Democratic-  Republican   \n",
              "\n",
              "                 vice  \n",
              "0          John Adams  \n",
              "1    Thomas Jefferson  \n",
              "2          Aaron Burr  \n",
              "3      George Clinton  \n",
              "4  Daniel D. Tompkins  "
            ],
            "text/html": [
              "\n",
              "  <div id=\"df-723b55a9-05b1-446b-954e-1dc2f7dc1b3e\">\n",
              "    <div class=\"colab-df-container\">\n",
              "      <div>\n",
              "<style scoped>\n",
              "    .dataframe tbody tr th:only-of-type {\n",
              "        vertical-align: middle;\n",
              "    }\n",
              "\n",
              "    .dataframe tbody tr th {\n",
              "        vertical-align: top;\n",
              "    }\n",
              "\n",
              "    .dataframe thead th {\n",
              "        text-align: right;\n",
              "    }\n",
              "</style>\n",
              "<table border=\"1\" class=\"dataframe\">\n",
              "  <thead>\n",
              "    <tr style=\"text-align: right;\">\n",
              "      <th></th>\n",
              "      <th>Unnamed: 0</th>\n",
              "      <th>S.No.</th>\n",
              "      <th>start</th>\n",
              "      <th>end</th>\n",
              "      <th>president</th>\n",
              "      <th>prior</th>\n",
              "      <th>party</th>\n",
              "      <th>vice</th>\n",
              "    </tr>\n",
              "  </thead>\n",
              "  <tbody>\n",
              "    <tr>\n",
              "      <th>0</th>\n",
              "      <td>0</td>\n",
              "      <td>1</td>\n",
              "      <td>April 30, 1789</td>\n",
              "      <td>March 4, 1797</td>\n",
              "      <td>George Washington</td>\n",
              "      <td>Commander-in-Chief  of the  Continental Army  ...</td>\n",
              "      <td>Nonpartisan   [13]</td>\n",
              "      <td>John Adams</td>\n",
              "    </tr>\n",
              "    <tr>\n",
              "      <th>1</th>\n",
              "      <td>1</td>\n",
              "      <td>2</td>\n",
              "      <td>March 4, 1797</td>\n",
              "      <td>March 4, 1801</td>\n",
              "      <td>John Adams</td>\n",
              "      <td>1st  Vice President of the United States</td>\n",
              "      <td>Federalist</td>\n",
              "      <td>Thomas Jefferson</td>\n",
              "    </tr>\n",
              "    <tr>\n",
              "      <th>2</th>\n",
              "      <td>2</td>\n",
              "      <td>3</td>\n",
              "      <td>March 4, 1801</td>\n",
              "      <td>March 4, 1809</td>\n",
              "      <td>Thomas Jefferson</td>\n",
              "      <td>2nd  Vice President of the United States</td>\n",
              "      <td>Democratic-  Republican</td>\n",
              "      <td>Aaron Burr</td>\n",
              "    </tr>\n",
              "    <tr>\n",
              "      <th>3</th>\n",
              "      <td>3</td>\n",
              "      <td>4</td>\n",
              "      <td>March 4, 1809</td>\n",
              "      <td>March 4, 1817</td>\n",
              "      <td>James Madison</td>\n",
              "      <td>5th  United States Secretary of State   (1801–...</td>\n",
              "      <td>Democratic-  Republican</td>\n",
              "      <td>George Clinton</td>\n",
              "    </tr>\n",
              "    <tr>\n",
              "      <th>4</th>\n",
              "      <td>4</td>\n",
              "      <td>5</td>\n",
              "      <td>March 4, 1817</td>\n",
              "      <td>March 4, 1825</td>\n",
              "      <td>James Monroe</td>\n",
              "      <td>7th  United States Secretary of State   (1811–...</td>\n",
              "      <td>Democratic-  Republican</td>\n",
              "      <td>Daniel D. Tompkins</td>\n",
              "    </tr>\n",
              "  </tbody>\n",
              "</table>\n",
              "</div>\n",
              "      <button class=\"colab-df-convert\" onclick=\"convertToInteractive('df-723b55a9-05b1-446b-954e-1dc2f7dc1b3e')\"\n",
              "              title=\"Convert this dataframe to an interactive table.\"\n",
              "              style=\"display:none;\">\n",
              "        \n",
              "  <svg xmlns=\"http://www.w3.org/2000/svg\" height=\"24px\"viewBox=\"0 0 24 24\"\n",
              "       width=\"24px\">\n",
              "    <path d=\"M0 0h24v24H0V0z\" fill=\"none\"/>\n",
              "    <path d=\"M18.56 5.44l.94 2.06.94-2.06 2.06-.94-2.06-.94-.94-2.06-.94 2.06-2.06.94zm-11 1L8.5 8.5l.94-2.06 2.06-.94-2.06-.94L8.5 2.5l-.94 2.06-2.06.94zm10 10l.94 2.06.94-2.06 2.06-.94-2.06-.94-.94-2.06-.94 2.06-2.06.94z\"/><path d=\"M17.41 7.96l-1.37-1.37c-.4-.4-.92-.59-1.43-.59-.52 0-1.04.2-1.43.59L10.3 9.45l-7.72 7.72c-.78.78-.78 2.05 0 2.83L4 21.41c.39.39.9.59 1.41.59.51 0 1.02-.2 1.41-.59l7.78-7.78 2.81-2.81c.8-.78.8-2.07 0-2.86zM5.41 20L4 18.59l7.72-7.72 1.47 1.35L5.41 20z\"/>\n",
              "  </svg>\n",
              "      </button>\n",
              "      \n",
              "  <style>\n",
              "    .colab-df-container {\n",
              "      display:flex;\n",
              "      flex-wrap:wrap;\n",
              "      gap: 12px;\n",
              "    }\n",
              "\n",
              "    .colab-df-convert {\n",
              "      background-color: #E8F0FE;\n",
              "      border: none;\n",
              "      border-radius: 50%;\n",
              "      cursor: pointer;\n",
              "      display: none;\n",
              "      fill: #1967D2;\n",
              "      height: 32px;\n",
              "      padding: 0 0 0 0;\n",
              "      width: 32px;\n",
              "    }\n",
              "\n",
              "    .colab-df-convert:hover {\n",
              "      background-color: #E2EBFA;\n",
              "      box-shadow: 0px 1px 2px rgba(60, 64, 67, 0.3), 0px 1px 3px 1px rgba(60, 64, 67, 0.15);\n",
              "      fill: #174EA6;\n",
              "    }\n",
              "\n",
              "    [theme=dark] .colab-df-convert {\n",
              "      background-color: #3B4455;\n",
              "      fill: #D2E3FC;\n",
              "    }\n",
              "\n",
              "    [theme=dark] .colab-df-convert:hover {\n",
              "      background-color: #434B5C;\n",
              "      box-shadow: 0px 1px 3px 1px rgba(0, 0, 0, 0.15);\n",
              "      filter: drop-shadow(0px 1px 2px rgba(0, 0, 0, 0.3));\n",
              "      fill: #FFFFFF;\n",
              "    }\n",
              "  </style>\n",
              "\n",
              "      <script>\n",
              "        const buttonEl =\n",
              "          document.querySelector('#df-723b55a9-05b1-446b-954e-1dc2f7dc1b3e button.colab-df-convert');\n",
              "        buttonEl.style.display =\n",
              "          google.colab.kernel.accessAllowed ? 'block' : 'none';\n",
              "\n",
              "        async function convertToInteractive(key) {\n",
              "          const element = document.querySelector('#df-723b55a9-05b1-446b-954e-1dc2f7dc1b3e');\n",
              "          const dataTable =\n",
              "            await google.colab.kernel.invokeFunction('convertToInteractive',\n",
              "                                                     [key], {});\n",
              "          if (!dataTable) return;\n",
              "\n",
              "          const docLinkHtml = 'Like what you see? Visit the ' +\n",
              "            '<a target=\"_blank\" href=https://colab.research.google.com/notebooks/data_table.ipynb>data table notebook</a>'\n",
              "            + ' to learn more about interactive tables.';\n",
              "          element.innerHTML = '';\n",
              "          dataTable['output_type'] = 'display_data';\n",
              "          await google.colab.output.renderOutput(dataTable, element);\n",
              "          const docLink = document.createElement('div');\n",
              "          docLink.innerHTML = docLinkHtml;\n",
              "          element.appendChild(docLink);\n",
              "        }\n",
              "      </script>\n",
              "    </div>\n",
              "  </div>\n",
              "  "
            ]
          },
          "metadata": {},
          "execution_count": 41
        }
      ]
    },
    {
      "cell_type": "code",
      "source": [
        "Presidentes_nombres = pd.Series(Presidentes_archivo['president'])\n",
        "Presidentes_nombres"
      ],
      "metadata": {
        "colab": {
          "base_uri": "https://localhost:8080/"
        },
        "id": "lzAiMetROQNv",
        "outputId": "4163e743-46be-41d5-a95a-8ddaca4cdcfc"
      },
      "execution_count": null,
      "outputs": [
        {
          "output_type": "execute_result",
          "data": {
            "text/plain": [
              "0          George Washington\n",
              "1                 John Adams\n",
              "2           Thomas Jefferson\n",
              "3              James Madison\n",
              "4               James Monroe\n",
              "5          John Quincy Adams\n",
              "6             Andrew Jackson\n",
              "7           Martin Van Buren\n",
              "8     William Henry Harrison\n",
              "9                 John Tyler\n",
              "10             James K. Polk\n",
              "11            Zachary Taylor\n",
              "12          Millard Fillmore\n",
              "13           Franklin Pierce\n",
              "14            James Buchanan\n",
              "15           Abraham Lincoln\n",
              "16            Andrew Johnson\n",
              "17          Ulysses S. Grant\n",
              "18       Rutherford B. Hayes\n",
              "19         James A. Garfield\n",
              "20         Chester A. Arthur\n",
              "21          Grover Cleveland\n",
              "22         Benjamin Harrison\n",
              "23          Grover Cleveland\n",
              "24          William McKinley\n",
              "25        Theodore Roosevelt\n",
              "26       William Howard Taft\n",
              "27            Woodrow Wilson\n",
              "28         Warren G. Harding\n",
              "29           Calvin Coolidge\n",
              "30            Herbert Hoover\n",
              "31     Franklin D. Roosevelt\n",
              "32           Harry S. Truman\n",
              "33      Dwight D. Eisenhower\n",
              "34           John F. Kennedy\n",
              "35         Lyndon B. Johnson\n",
              "36             Richard Nixon\n",
              "37               Gerald Ford\n",
              "38              Jimmy Carter\n",
              "39             Ronald Reagan\n",
              "40         George H. W. Bush\n",
              "41              Bill Clinton\n",
              "42            George W. Bush\n",
              "43              Barack Obama\n",
              "44              Donald Trump\n",
              "Name: president, dtype: object"
            ]
          },
          "metadata": {},
          "execution_count": 42
        }
      ]
    },
    {
      "cell_type": "code",
      "source": [
        "Presidentes_nombres.str.upper()"
      ],
      "metadata": {
        "colab": {
          "base_uri": "https://localhost:8080/"
        },
        "id": "24xSwFOpOYFX",
        "outputId": "40283d8a-9f34-47ae-99c7-e738ab04c703"
      },
      "execution_count": null,
      "outputs": [
        {
          "output_type": "execute_result",
          "data": {
            "text/plain": [
              "0          GEORGE WASHINGTON\n",
              "1                 JOHN ADAMS\n",
              "2           THOMAS JEFFERSON\n",
              "3              JAMES MADISON\n",
              "4               JAMES MONROE\n",
              "5          JOHN QUINCY ADAMS\n",
              "6             ANDREW JACKSON\n",
              "7           MARTIN VAN BUREN\n",
              "8     WILLIAM HENRY HARRISON\n",
              "9                 JOHN TYLER\n",
              "10             JAMES K. POLK\n",
              "11            ZACHARY TAYLOR\n",
              "12          MILLARD FILLMORE\n",
              "13           FRANKLIN PIERCE\n",
              "14            JAMES BUCHANAN\n",
              "15           ABRAHAM LINCOLN\n",
              "16            ANDREW JOHNSON\n",
              "17          ULYSSES S. GRANT\n",
              "18       RUTHERFORD B. HAYES\n",
              "19         JAMES A. GARFIELD\n",
              "20         CHESTER A. ARTHUR\n",
              "21          GROVER CLEVELAND\n",
              "22         BENJAMIN HARRISON\n",
              "23          GROVER CLEVELAND\n",
              "24          WILLIAM MCKINLEY\n",
              "25        THEODORE ROOSEVELT\n",
              "26       WILLIAM HOWARD TAFT\n",
              "27            WOODROW WILSON\n",
              "28         WARREN G. HARDING\n",
              "29           CALVIN COOLIDGE\n",
              "30            HERBERT HOOVER\n",
              "31     FRANKLIN D. ROOSEVELT\n",
              "32           HARRY S. TRUMAN\n",
              "33      DWIGHT D. EISENHOWER\n",
              "34           JOHN F. KENNEDY\n",
              "35         LYNDON B. JOHNSON\n",
              "36             RICHARD NIXON\n",
              "37               GERALD FORD\n",
              "38              JIMMY CARTER\n",
              "39             RONALD REAGAN\n",
              "40         GEORGE H. W. BUSH\n",
              "41              BILL CLINTON\n",
              "42            GEORGE W. BUSH\n",
              "43              BARACK OBAMA\n",
              "44              DONALD TRUMP\n",
              "Name: president, dtype: object"
            ]
          },
          "metadata": {},
          "execution_count": 43
        }
      ]
    },
    {
      "cell_type": "code",
      "source": [
        "Presidentes_nombres.str.len()"
      ],
      "metadata": {
        "colab": {
          "base_uri": "https://localhost:8080/"
        },
        "id": "2WggtwnVOZG8",
        "outputId": "b28aaf2b-0389-488f-9309-7224911c3b80"
      },
      "execution_count": null,
      "outputs": [
        {
          "output_type": "execute_result",
          "data": {
            "text/plain": [
              "0     17\n",
              "1     10\n",
              "2     16\n",
              "3     13\n",
              "4     12\n",
              "5     17\n",
              "6     14\n",
              "7     16\n",
              "8     22\n",
              "9     10\n",
              "10    13\n",
              "11    14\n",
              "12    16\n",
              "13    15\n",
              "14    14\n",
              "15    15\n",
              "16    14\n",
              "17    16\n",
              "18    19\n",
              "19    17\n",
              "20    17\n",
              "21    16\n",
              "22    17\n",
              "23    16\n",
              "24    16\n",
              "25    18\n",
              "26    19\n",
              "27    14\n",
              "28    17\n",
              "29    15\n",
              "30    14\n",
              "31    21\n",
              "32    15\n",
              "33    20\n",
              "34    15\n",
              "35    17\n",
              "36    13\n",
              "37    11\n",
              "38    12\n",
              "39    13\n",
              "40    17\n",
              "41    12\n",
              "42    14\n",
              "43    12\n",
              "44    12\n",
              "Name: president, dtype: int64"
            ]
          },
          "metadata": {},
          "execution_count": 44
        }
      ]
    },
    {
      "cell_type": "code",
      "source": [
        "Presidentes_nombres.str.lower()"
      ],
      "metadata": {
        "colab": {
          "base_uri": "https://localhost:8080/"
        },
        "id": "3v5VqwkOt3Z0",
        "outputId": "886a45bb-9864-4241-c869-1bbc78c42c4b"
      },
      "execution_count": null,
      "outputs": [
        {
          "output_type": "execute_result",
          "data": {
            "text/plain": [
              "0          george washington\n",
              "1                 john adams\n",
              "2           thomas jefferson\n",
              "3              james madison\n",
              "4               james monroe\n",
              "5          john quincy adams\n",
              "6             andrew jackson\n",
              "7           martin van buren\n",
              "8     william henry harrison\n",
              "9                 john tyler\n",
              "10             james k. polk\n",
              "11            zachary taylor\n",
              "12          millard fillmore\n",
              "13           franklin pierce\n",
              "14            james buchanan\n",
              "15           abraham lincoln\n",
              "16            andrew johnson\n",
              "17          ulysses s. grant\n",
              "18       rutherford b. hayes\n",
              "19         james a. garfield\n",
              "20         chester a. arthur\n",
              "21          grover cleveland\n",
              "22         benjamin harrison\n",
              "23          grover cleveland\n",
              "24          william mckinley\n",
              "25        theodore roosevelt\n",
              "26       william howard taft\n",
              "27            woodrow wilson\n",
              "28         warren g. harding\n",
              "29           calvin coolidge\n",
              "30            herbert hoover\n",
              "31     franklin d. roosevelt\n",
              "32           harry s. truman\n",
              "33      dwight d. eisenhower\n",
              "34           john f. kennedy\n",
              "35         lyndon b. johnson\n",
              "36             richard nixon\n",
              "37               gerald ford\n",
              "38              jimmy carter\n",
              "39             ronald reagan\n",
              "40         george h. w. bush\n",
              "41              bill clinton\n",
              "42            george w. bush\n",
              "43              barack obama\n",
              "44              donald trump\n",
              "Name: president, dtype: object"
            ]
          },
          "metadata": {},
          "execution_count": 45
        }
      ]
    },
    {
      "cell_type": "code",
      "source": [
        "Presidentes_nombres[Presidentes_nombres.str.startswith(pat='J') ]"
      ],
      "metadata": {
        "colab": {
          "base_uri": "https://localhost:8080/"
        },
        "id": "eSf0yeWBOddB",
        "outputId": "d21b6c8c-7b0c-46be-e11f-335041e52c2a"
      },
      "execution_count": null,
      "outputs": [
        {
          "output_type": "execute_result",
          "data": {
            "text/plain": [
              "1            John Adams\n",
              "3         James Madison\n",
              "4          James Monroe\n",
              "5     John Quincy Adams\n",
              "9            John Tyler\n",
              "10        James K. Polk\n",
              "14       James Buchanan\n",
              "19    James A. Garfield\n",
              "34      John F. Kennedy\n",
              "38         Jimmy Carter\n",
              "Name: president, dtype: object"
            ]
          },
          "metadata": {},
          "execution_count": 46
        }
      ]
    },
    {
      "cell_type": "code",
      "source": [
        "import re\n",
        "Presidentes_nombres[~Presidentes_nombres.str.contains(pat='Bill|Calvin', regex=True)]# si se pone True, se asume que es una regular expression"
      ],
      "metadata": {
        "colab": {
          "base_uri": "https://localhost:8080/"
        },
        "id": "4ikVH4uKPHzF",
        "outputId": "3ff0801a-2507-4050-ea4f-5125e670f935"
      },
      "execution_count": null,
      "outputs": [
        {
          "output_type": "execute_result",
          "data": {
            "text/plain": [
              "0          George Washington\n",
              "1                 John Adams\n",
              "2           Thomas Jefferson\n",
              "3              James Madison\n",
              "4               James Monroe\n",
              "5          John Quincy Adams\n",
              "6             Andrew Jackson\n",
              "7           Martin Van Buren\n",
              "8     William Henry Harrison\n",
              "9                 John Tyler\n",
              "10             James K. Polk\n",
              "11            Zachary Taylor\n",
              "12          Millard Fillmore\n",
              "13           Franklin Pierce\n",
              "14            James Buchanan\n",
              "15           Abraham Lincoln\n",
              "16            Andrew Johnson\n",
              "17          Ulysses S. Grant\n",
              "18       Rutherford B. Hayes\n",
              "19         James A. Garfield\n",
              "20         Chester A. Arthur\n",
              "21          Grover Cleveland\n",
              "22         Benjamin Harrison\n",
              "23          Grover Cleveland\n",
              "24          William McKinley\n",
              "25        Theodore Roosevelt\n",
              "26       William Howard Taft\n",
              "27            Woodrow Wilson\n",
              "28         Warren G. Harding\n",
              "30            Herbert Hoover\n",
              "31     Franklin D. Roosevelt\n",
              "32           Harry S. Truman\n",
              "33      Dwight D. Eisenhower\n",
              "34           John F. Kennedy\n",
              "35         Lyndon B. Johnson\n",
              "36             Richard Nixon\n",
              "37               Gerald Ford\n",
              "38              Jimmy Carter\n",
              "39             Ronald Reagan\n",
              "40         George H. W. Bush\n",
              "42            George W. Bush\n",
              "43              Barack Obama\n",
              "44              Donald Trump\n",
              "Name: president, dtype: object"
            ]
          },
          "metadata": {},
          "execution_count": 47
        }
      ]
    },
    {
      "cell_type": "code",
      "source": [
        "Presidentes_nombres.str.replace(pat='Calvin',repl=' ',)"
      ],
      "metadata": {
        "colab": {
          "base_uri": "https://localhost:8080/"
        },
        "id": "rndkWT02uzwq",
        "outputId": "0c00c5b4-28ff-469d-895c-756f3fb06391"
      },
      "execution_count": null,
      "outputs": [
        {
          "output_type": "execute_result",
          "data": {
            "text/plain": [
              "0          George Washington\n",
              "1                 John Adams\n",
              "2           Thomas Jefferson\n",
              "3              James Madison\n",
              "4               James Monroe\n",
              "5          John Quincy Adams\n",
              "6             Andrew Jackson\n",
              "7           Martin Van Buren\n",
              "8     William Henry Harrison\n",
              "9                 John Tyler\n",
              "10             James K. Polk\n",
              "11            Zachary Taylor\n",
              "12          Millard Fillmore\n",
              "13           Franklin Pierce\n",
              "14            James Buchanan\n",
              "15           Abraham Lincoln\n",
              "16            Andrew Johnson\n",
              "17          Ulysses S. Grant\n",
              "18       Rutherford B. Hayes\n",
              "19         James A. Garfield\n",
              "20         Chester A. Arthur\n",
              "21          Grover Cleveland\n",
              "22         Benjamin Harrison\n",
              "23          Grover Cleveland\n",
              "24          William McKinley\n",
              "25        Theodore Roosevelt\n",
              "26       William Howard Taft\n",
              "27            Woodrow Wilson\n",
              "28         Warren G. Harding\n",
              "29                  Coolidge\n",
              "30            Herbert Hoover\n",
              "31     Franklin D. Roosevelt\n",
              "32           Harry S. Truman\n",
              "33      Dwight D. Eisenhower\n",
              "34           John F. Kennedy\n",
              "35         Lyndon B. Johnson\n",
              "36             Richard Nixon\n",
              "37               Gerald Ford\n",
              "38              Jimmy Carter\n",
              "39             Ronald Reagan\n",
              "40         George H. W. Bush\n",
              "41              Bill Clinton\n",
              "42            George W. Bush\n",
              "43              Barack Obama\n",
              "44              Donald Trump\n",
              "Name: president, dtype: object"
            ]
          },
          "metadata": {},
          "execution_count": 48
        }
      ]
    },
    {
      "cell_type": "markdown",
      "source": [
        "# Series de tiempo"
      ],
      "metadata": {
        "id": "mch7A3g4RxgG"
      }
    },
    {
      "cell_type": "code",
      "source": [
        "fecha = pd.to_datetime('03/01/2020',dayfirst=True)\n",
        "fecha"
      ],
      "metadata": {
        "colab": {
          "base_uri": "https://localhost:8080/"
        },
        "id": "RJnCVhJhRyoz",
        "outputId": "bbae4929-149d-4139-faf7-87975ce3d7bd"
      },
      "execution_count": null,
      "outputs": [
        {
          "output_type": "execute_result",
          "data": {
            "text/plain": [
              "Timestamp('2020-01-03 00:00:00')"
            ]
          },
          "metadata": {},
          "execution_count": 49
        }
      ]
    },
    {
      "cell_type": "code",
      "source": [
        "fin = pd.to_datetime('10/01/2020',dayfirst=True)\n",
        "fechas_1 = pd.date_range(start=fecha, end=fin)\n",
        "fechas_1"
      ],
      "metadata": {
        "colab": {
          "base_uri": "https://localhost:8080/"
        },
        "id": "c6_VhCRBR1Rw",
        "outputId": "74fcf821-52ba-43e3-98db-76d23289733a"
      },
      "execution_count": null,
      "outputs": [
        {
          "output_type": "execute_result",
          "data": {
            "text/plain": [
              "DatetimeIndex(['2020-01-03', '2020-01-04', '2020-01-05', '2020-01-06',\n",
              "               '2020-01-07', '2020-01-08', '2020-01-09', '2020-01-10'],\n",
              "              dtype='datetime64[ns]', freq='D')"
            ]
          },
          "metadata": {},
          "execution_count": 50
        }
      ]
    },
    {
      "cell_type": "code",
      "source": [
        "fechas_2 = pd.date_range(start=fecha, periods=8)\n",
        "fechas_2"
      ],
      "metadata": {
        "colab": {
          "base_uri": "https://localhost:8080/"
        },
        "id": "DdIZUVbJR5Li",
        "outputId": "2789d06f-85e5-4f0a-eaac-5f2c9c79972b"
      },
      "execution_count": null,
      "outputs": [
        {
          "output_type": "execute_result",
          "data": {
            "text/plain": [
              "DatetimeIndex(['2020-01-03', '2020-01-04', '2020-01-05', '2020-01-06',\n",
              "               '2020-01-07', '2020-01-08', '2020-01-09', '2020-01-10'],\n",
              "              dtype='datetime64[ns]', freq='D')"
            ]
          },
          "metadata": {},
          "execution_count": 51
        }
      ]
    },
    {
      "cell_type": "code",
      "source": [
        "fechas_3 = pd.date_range(start= fecha, periods= 8, freq='M')\n",
        "fechas_3"
      ],
      "metadata": {
        "colab": {
          "base_uri": "https://localhost:8080/"
        },
        "id": "5sQG6cPCR8Bz",
        "outputId": "0b7ad2ed-bcf4-4a36-8a26-b57f922d5b43"
      },
      "execution_count": null,
      "outputs": [
        {
          "output_type": "execute_result",
          "data": {
            "text/plain": [
              "DatetimeIndex(['2020-01-31', '2020-02-29', '2020-03-31', '2020-04-30',\n",
              "               '2020-05-31', '2020-06-30', '2020-07-31', '2020-08-31'],\n",
              "              dtype='datetime64[ns]', freq='M')"
            ]
          },
          "metadata": {},
          "execution_count": 52
        }
      ]
    },
    {
      "cell_type": "code",
      "source": [
        "mes_inicio = fecha.strftime('%Y-%m')\n",
        "mes_inicio"
      ],
      "metadata": {
        "colab": {
          "base_uri": "https://localhost:8080/",
          "height": 35
        },
        "id": "1HrGfcDmR-r9",
        "outputId": "6dee94b0-e53c-40f8-eab3-7bb145c6e282"
      },
      "execution_count": null,
      "outputs": [
        {
          "output_type": "execute_result",
          "data": {
            "text/plain": [
              "'2020-01'"
            ],
            "application/vnd.google.colaboratory.intrinsic+json": {
              "type": "string"
            }
          },
          "metadata": {},
          "execution_count": 53
        }
      ]
    },
    {
      "cell_type": "code",
      "source": [
        "fechas_4 = pd.period_range(start=mes_inicio, periods=8, freq='M')\n",
        "fechas_4"
      ],
      "metadata": {
        "colab": {
          "base_uri": "https://localhost:8080/"
        },
        "id": "JQyM5W4ER_cU",
        "outputId": "ceb02c82-ce58-48d6-e369-4e753e68365d"
      },
      "execution_count": null,
      "outputs": [
        {
          "output_type": "execute_result",
          "data": {
            "text/plain": [
              "PeriodIndex(['2020-01', '2020-02', '2020-03', '2020-04', '2020-05', '2020-06',\n",
              "             '2020-07', '2020-08'],\n",
              "            dtype='period[M]')"
            ]
          },
          "metadata": {},
          "execution_count": 54
        }
      ]
    },
    {
      "cell_type": "code",
      "source": [
        "cuanto_tiempo = fechas_3[7] - fechas_3[0]\n",
        "cuanto_tiempo"
      ],
      "metadata": {
        "colab": {
          "base_uri": "https://localhost:8080/"
        },
        "id": "W_LKMk1nSDKh",
        "outputId": "99777e75-6de0-43bf-f3ae-fc43db4de1d8"
      },
      "execution_count": null,
      "outputs": [
        {
          "output_type": "execute_result",
          "data": {
            "text/plain": [
              "Timedelta('213 days 00:00:00')"
            ]
          },
          "metadata": {},
          "execution_count": 55
        }
      ]
    },
    {
      "cell_type": "code",
      "source": [
        "cuanto_tiempo_meses = fechas_3[7].to_period('M') - fechas_3[0].to_period('M')\n",
        "cuanto_tiempo_meses"
      ],
      "metadata": {
        "colab": {
          "base_uri": "https://localhost:8080/"
        },
        "id": "0tQarincSF2J",
        "outputId": "b453c7af-9394-4ea8-daa9-6a5e22cf9e0a"
      },
      "execution_count": null,
      "outputs": [
        {
          "output_type": "execute_result",
          "data": {
            "text/plain": [
              "<7 * MonthEnds>"
            ]
          },
          "metadata": {},
          "execution_count": 56
        }
      ]
    },
    {
      "cell_type": "code",
      "source": [
        "fechas_presidentes_orig = Presidentes_archivo['start']\n",
        "fechas_presidentes_orig"
      ],
      "metadata": {
        "colab": {
          "base_uri": "https://localhost:8080/"
        },
        "id": "Fq7Fqdv4SIU1",
        "outputId": "faf36dd4-580e-48df-e9f1-11cbd8e8bfee"
      },
      "execution_count": null,
      "outputs": [
        {
          "output_type": "execute_result",
          "data": {
            "text/plain": [
              "0         April 30, 1789\n",
              "1          March 4, 1797\n",
              "2          March 4, 1801\n",
              "3          March 4, 1809\n",
              "4          March 4, 1817\n",
              "5          March 4, 1825\n",
              "6          March 4, 1829\n",
              "7          March 4, 1837\n",
              "8          March 4, 1841\n",
              "9          April 4, 1841\n",
              "10         March 4, 1845\n",
              "11         March 4, 1849\n",
              "12          July 9, 1850\n",
              "13         March 4, 1853\n",
              "14         March 4, 1857\n",
              "15         March 4, 1861\n",
              "16        April 15, 1865\n",
              "17         March 4, 1869\n",
              "18         March 4, 1877\n",
              "19         March 4, 1881\n",
              "20    September 19, 1881\n",
              "21         March 4, 1885\n",
              "22         March 4, 1889\n",
              "23         March 4, 1893\n",
              "24         March 4, 1897\n",
              "25    September 14, 1901\n",
              "26         March 4, 1909\n",
              "27         March 4, 1913\n",
              "28         March 4, 1921\n",
              "29        August 2, 1923\n",
              "30         March 4, 1929\n",
              "31         March 4, 1933\n",
              "32        April 12, 1945\n",
              "33      January 20, 1953\n",
              "34      January 20, 1961\n",
              "35     November 22, 1963\n",
              "36      January 20, 1969\n",
              "37        August 9, 1974\n",
              "38      January 20, 1977\n",
              "39      January 20, 1981\n",
              "40      January 20, 1989\n",
              "41      January 20, 1993\n",
              "42      January 20, 2001\n",
              "43      January 20, 2009\n",
              "44      January 20, 2017\n",
              "Name: start, dtype: object"
            ]
          },
          "metadata": {},
          "execution_count": 57
        }
      ]
    },
    {
      "cell_type": "code",
      "source": [
        "type(fechas_presidentes_orig)"
      ],
      "metadata": {
        "colab": {
          "base_uri": "https://localhost:8080/"
        },
        "id": "k-DmpCPmSJEr",
        "outputId": "ff4b48a6-ea0f-47f5-c068-4bb47c2e2c90"
      },
      "execution_count": null,
      "outputs": [
        {
          "output_type": "execute_result",
          "data": {
            "text/plain": [
              "pandas.core.series.Series"
            ]
          },
          "metadata": {},
          "execution_count": 58
        }
      ]
    },
    {
      "cell_type": "code",
      "source": [
        "fechas_presidentes = pd.DatetimeIndex(fechas_presidentes_orig)\n",
        "fechas_presidentes"
      ],
      "metadata": {
        "colab": {
          "base_uri": "https://localhost:8080/"
        },
        "id": "km6obKi2SL1I",
        "outputId": "f24d7888-a4dd-4621-f663-71eaf0329744"
      },
      "execution_count": null,
      "outputs": [
        {
          "output_type": "execute_result",
          "data": {
            "text/plain": [
              "DatetimeIndex(['1789-04-30', '1797-03-04', '1801-03-04', '1809-03-04',\n",
              "               '1817-03-04', '1825-03-04', '1829-03-04', '1837-03-04',\n",
              "               '1841-03-04', '1841-04-04', '1845-03-04', '1849-03-04',\n",
              "               '1850-07-09', '1853-03-04', '1857-03-04', '1861-03-04',\n",
              "               '1865-04-15', '1869-03-04', '1877-03-04', '1881-03-04',\n",
              "               '1881-09-19', '1885-03-04', '1889-03-04', '1893-03-04',\n",
              "               '1897-03-04', '1901-09-14', '1909-03-04', '1913-03-04',\n",
              "               '1921-03-04', '1923-08-02', '1929-03-04', '1933-03-04',\n",
              "               '1945-04-12', '1953-01-20', '1961-01-20', '1963-11-22',\n",
              "               '1969-01-20', '1974-08-09', '1977-01-20', '1981-01-20',\n",
              "               '1989-01-20', '1993-01-20', '2001-01-20', '2009-01-20',\n",
              "               '2017-01-20'],\n",
              "              dtype='datetime64[ns]', name='start', freq=None)"
            ]
          },
          "metadata": {},
          "execution_count": 59
        }
      ]
    },
    {
      "cell_type": "code",
      "source": [
        "Serie_presidentes = pd.Series(Presidentes_nombres.values,index=fechas_presidentes)\n",
        "Serie_presidentes"
      ],
      "metadata": {
        "colab": {
          "base_uri": "https://localhost:8080/"
        },
        "id": "O25cKgz6SROw",
        "outputId": "8fdd318c-f975-4655-e0ce-6c539fc2517b"
      },
      "execution_count": null,
      "outputs": [
        {
          "output_type": "execute_result",
          "data": {
            "text/plain": [
              "start\n",
              "1789-04-30         George Washington\n",
              "1797-03-04                John Adams\n",
              "1801-03-04          Thomas Jefferson\n",
              "1809-03-04             James Madison\n",
              "1817-03-04              James Monroe\n",
              "1825-03-04         John Quincy Adams\n",
              "1829-03-04            Andrew Jackson\n",
              "1837-03-04          Martin Van Buren\n",
              "1841-03-04    William Henry Harrison\n",
              "1841-04-04                John Tyler\n",
              "1845-03-04             James K. Polk\n",
              "1849-03-04            Zachary Taylor\n",
              "1850-07-09          Millard Fillmore\n",
              "1853-03-04           Franklin Pierce\n",
              "1857-03-04            James Buchanan\n",
              "1861-03-04           Abraham Lincoln\n",
              "1865-04-15            Andrew Johnson\n",
              "1869-03-04          Ulysses S. Grant\n",
              "1877-03-04       Rutherford B. Hayes\n",
              "1881-03-04         James A. Garfield\n",
              "1881-09-19         Chester A. Arthur\n",
              "1885-03-04          Grover Cleveland\n",
              "1889-03-04         Benjamin Harrison\n",
              "1893-03-04          Grover Cleveland\n",
              "1897-03-04          William McKinley\n",
              "1901-09-14        Theodore Roosevelt\n",
              "1909-03-04       William Howard Taft\n",
              "1913-03-04            Woodrow Wilson\n",
              "1921-03-04         Warren G. Harding\n",
              "1923-08-02           Calvin Coolidge\n",
              "1929-03-04            Herbert Hoover\n",
              "1933-03-04     Franklin D. Roosevelt\n",
              "1945-04-12           Harry S. Truman\n",
              "1953-01-20      Dwight D. Eisenhower\n",
              "1961-01-20           John F. Kennedy\n",
              "1963-11-22         Lyndon B. Johnson\n",
              "1969-01-20             Richard Nixon\n",
              "1974-08-09               Gerald Ford\n",
              "1977-01-20              Jimmy Carter\n",
              "1981-01-20             Ronald Reagan\n",
              "1989-01-20         George H. W. Bush\n",
              "1993-01-20              Bill Clinton\n",
              "2001-01-20            George W. Bush\n",
              "2009-01-20              Barack Obama\n",
              "2017-01-20              Donald Trump\n",
              "dtype: object"
            ]
          },
          "metadata": {},
          "execution_count": 60
        }
      ]
    },
    {
      "cell_type": "markdown",
      "source": [
        "# Desafio generico"
      ],
      "metadata": {
        "id": "v4oTQ_MqUK2t"
      }
    },
    {
      "cell_type": "code",
      "source": [
        "df= pd.read_csv('BTCUSD_1hr.csv',sep=',')\n",
        "df['Date']=pd.to_datetime(df['Date'])\n",
        "df.head()"
      ],
      "metadata": {
        "id": "PLfcuVKRUMLa"
      },
      "execution_count": null,
      "outputs": []
    },
    {
      "cell_type": "code",
      "source": [
        "df.describe()"
      ],
      "metadata": {
        "id": "xjOqLLDXUbq-"
      },
      "execution_count": null,
      "outputs": []
    },
    {
      "cell_type": "code",
      "source": [
        "# Forma 1\n",
        "import datetime as dt\n",
        "df['Mes']= df.Date.dt.month\n",
        "df.head()"
      ],
      "metadata": {
        "id": "QyjdlbIbUfWF"
      },
      "execution_count": null,
      "outputs": []
    },
    {
      "cell_type": "code",
      "source": [
        "df.groupby('Mes')[['Open','High','Low','Close','Volume']].mean()"
      ],
      "metadata": {
        "id": "2ROg5s5-Urci"
      },
      "execution_count": null,
      "outputs": []
    },
    {
      "cell_type": "code",
      "source": [
        "# Segunda forma\n",
        "df= pd.read_csv('BTCUSD_1hr.csv',sep=',',enconding='iso-8859-1')\n",
        "#df['Date']=pd.to_datetime(df['Date']) # No lo podemos convertir a fecha\n",
        "df['Mes']= [x[5:7] for x in df.Date]\n",
        "df.head()"
      ],
      "metadata": {
        "id": "FkCdE1xqU5JE"
      },
      "execution_count": null,
      "outputs": []
    },
    {
      "cell_type": "code",
      "source": [
        "df.groupby('Mes')[['Open','High','Low','Close','Volume']].mean()"
      ],
      "metadata": {
        "id": "NV-8AwMAVgUz"
      },
      "execution_count": null,
      "outputs": []
    },
    {
      "cell_type": "code",
      "source": [
        "df= pd.read_csv('BTCUSD_1hr.csv',sep=',')\n",
        "df['Date']=pd.to_datetime(df['Date'])\n",
        "df.head()\n",
        "import matplotlib.pyplot as plt\n",
        "fig,ax= plt.subplots(figsize=(10,6))\n",
        "ax.plot(df.Date, df.Open, label='Open',linewidth=1)\n",
        "ax.plot(df.Date, df.High, label='High',linewidth=0.3,linestyle='--')\n",
        "ax.plot(df.Date, df.Low, label='Low',linewidth=0.3,linestyle=':')\n",
        "ax.plot(df.Date, df.Close, label='Close',linewidth=0.3,linestyle='dashdot')\n",
        "\n",
        "ax.legend()\n",
        "ax.grid()\n",
        "ax.set_title('Precios Bitcoin')\n",
        "ax.set_xlabel('Fecha')\n",
        "ax.set_ylabel('Valor')"
      ],
      "metadata": {
        "id": "JuFQF_f0Vr7B"
      },
      "execution_count": null,
      "outputs": []
    },
    {
      "cell_type": "markdown",
      "source": [
        "# Uso de algoritmos para rellenar nulos (NO USAR ESTO)"
      ],
      "metadata": {
        "id": "tjDhBAjY4noL"
      }
    },
    {
      "cell_type": "code",
      "source": [
        "# Cargar el archivo\n",
        "url = 'https://raw.githubusercontent.com/jbrownlee/Datasets/master/horse-colic.csv'\n",
        "df = read_csv(url, header=None, na_values='?')\n",
        "print(df.head())"
      ],
      "metadata": {
        "id": "5wnIXdk99fLO"
      },
      "execution_count": null,
      "outputs": []
    },
    {
      "cell_type": "markdown",
      "source": [
        "La informacion sobre cada variable se encuentran en: [Descripcion de variables](https://www.kaggle.com/uciml/horse-colic)"
      ],
      "metadata": {
        "id": "kRJrLved97wa"
      }
    },
    {
      "cell_type": "code",
      "source": [
        "#Porcentaje de nulos en cada columna\n",
        "for i in range(df.shape[1]):\n",
        "\t# Contar el numero de filas con nulos\n",
        "\tn_miss = df[[i]].isnull().sum()\n",
        "\tperc = n_miss / df.shape[0] * 100\n",
        "\tprint('> %d, Nulos: %d (%.1f%%)' % (i, n_miss, perc))"
      ],
      "metadata": {
        "id": "YIfyvj6o-DQX"
      },
      "execution_count": null,
      "outputs": []
    },
    {
      "cell_type": "code",
      "source": [
        "# Mas sencillo\n",
        "df.isnull().sum()/df.shape[0]*100"
      ],
      "metadata": {
        "id": "TGiupNqg-Kbp"
      },
      "execution_count": null,
      "outputs": []
    },
    {
      "cell_type": "code",
      "source": [
        "# separar input y output\n",
        "data = df.values\n",
        "ix = [i for i in range(data.shape[1]) if i != 23]\n",
        "X, y = data[:, ix], data[:, 23]\n",
        "# Total de missings\n",
        "print('Nulos: %d' % sum(isnan(X).flatten()))\n",
        "# definir el imputador\n",
        "imputer = SimpleImputer(strategy='mean')\n",
        "# ajustar al dataset\n",
        "imputer.fit(X)\n",
        "# transformar el dataset\n",
        "Xtrans = imputer.transform(X)\n",
        "# Mostrar el total de nulos\n",
        "print('Nulos: %d' % sum(isnan(Xtrans).flatten()))"
      ],
      "metadata": {
        "id": "zmHcAhsY-uy6"
      },
      "execution_count": null,
      "outputs": []
    },
    {
      "cell_type": "code",
      "source": [
        "from sklearn.ensemble import RandomForestClassifier\n",
        "from sklearn.impute import SimpleImputer\n",
        "from sklearn.model_selection import cross_val_score\n",
        "from sklearn.model_selection import RepeatedStratifiedKFold\n",
        "from sklearn.pipeline import Pipeline\n",
        "# definir el pipeline para modelamiento\n",
        "model = RandomForestClassifier()\n",
        "imputer = SimpleImputer(strategy='mean')\n",
        "pipeline = Pipeline(steps=[('i', imputer), ('m', model)])\n",
        "# definir la evaluacion del modelo\n",
        "cv = RepeatedStratifiedKFold(n_splits=10, n_repeats=3, random_state=1)\n",
        "# evaluar el modelo\n",
        "scores = cross_val_score(pipeline, X, y, scoring='accuracy', cv=cv, n_jobs=-1)\n",
        "print('Accuracy promedio: %.3f (%.3f)' % (np.mean(scores), np.std(scores)))"
      ],
      "metadata": {
        "id": "x8oHBWZr_G-Y"
      },
      "execution_count": null,
      "outputs": []
    },
    {
      "cell_type": "markdown",
      "source": [
        "# Comparando diversas estrategias"
      ],
      "metadata": {
        "id": "8varKaoG_jFC"
      }
    },
    {
      "cell_type": "code",
      "source": [
        "# Resultados de cada estrategia\n",
        "results = list()\n",
        "strategies = ['mean', 'median', 'most_frequent', 'constant']\n",
        "for s in strategies:\n",
        "\t# crear el pipeline del modelo\n",
        "\tpipeline = Pipeline(steps=[('i', SimpleImputer(strategy=s)), ('m', RandomForestClassifier())])\n",
        "\t# evaluar el modelo\n",
        "\tcv = RepeatedStratifiedKFold(n_splits=10, n_repeats=3, random_state=1)\n",
        "\tscores = cross_val_score(pipeline, X, y, scoring='accuracy', cv=cv, n_jobs=-1)\n",
        "\t# Guardar los resultado\n",
        "\tresults.append(scores)\n",
        "\tprint('>%s %.3f (%.3f)' % (s, np.mean(scores), np.std(scores)))\n",
        "# Graficar el performance del modelo para comparacion\n",
        "import matplotlib.pyplot as plt\n",
        "plt.boxplot(results, labels=strategies, showmeans=True)\n",
        "plt.show()"
      ],
      "metadata": {
        "id": "DZeUX2yS_ktd"
      },
      "execution_count": null,
      "outputs": []
    },
    {
      "cell_type": "markdown",
      "source": [
        "El comportamiento para la estrategia constant es mucho mejor que las otras"
      ],
      "metadata": {
        "id": "Pd6rSADZAVkW"
      }
    },
    {
      "cell_type": "markdown",
      "source": [
        "Si tenemos una nueva observacion y queremos reemplazarla por lo que el modelo diga podemos hacer esto"
      ],
      "metadata": {
        "id": "ekp7vM9dAgK7"
      }
    },
    {
      "cell_type": "code",
      "source": [
        "# crear el pipeline\n",
        "pipeline = Pipeline(steps=[('i', SimpleImputer(strategy='constant')), ('m', RandomForestClassifier())])\n",
        "# ajustar el modelo\n",
        "pipeline.fit(X, y)\n",
        "# definir los datos\n",
        "row = [2, 1, 530101, 38.50, 66, 28, 3, 3, nan, 2, 5, 4, 4, nan, nan, nan, 3, 5, 45.00, 8.40, nan, nan, 2, 11300, 00000, 00000, 2]\n",
        "# hacer la prediccion\n",
        "yhat = pipeline.predict([row])\n",
        "# summarize prediction\n",
        "print('Clase predicha: %d' % yhat[0])"
      ],
      "metadata": {
        "id": "S6kfGPCCAlaD"
      },
      "execution_count": null,
      "outputs": []
    },
    {
      "cell_type": "code",
      "source": [],
      "metadata": {
        "id": "7WG93ByXAZb9"
      },
      "execution_count": null,
      "outputs": []
    }
  ]
}